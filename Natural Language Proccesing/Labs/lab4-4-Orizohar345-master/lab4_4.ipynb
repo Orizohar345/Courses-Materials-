{
  "cells": [
    {
      "cell_type": "code",
      "execution_count": null,
      "id": "435ac9f5",
      "metadata": {
        "deletable": false,
        "editable": false,
        "jupyter": {
          "outputs_hidden": true,
          "source_hidden": true
        },
        "colab": {
          "base_uri": "https://localhost:8080/"
        },
        "id": "435ac9f5",
        "outputId": "57b77e1e-14d5-4186-8588-7c7f2f8f5602"
      },
      "outputs": [
        {
          "output_type": "stream",
          "name": "stdout",
          "text": [
            "     ━━━━━━━━━━━━━━━━━━━━━━━━━━━━━━━━━━━━━━━ 164.0/164.0 kB 6.6 MB/s eta 0:00:00\n",
            "     ━━━━━━━━━━━━━━━━━━━━━━━━━━━━━━━━━━━━━━━━ 6.3/6.3 MB 84.3 MB/s eta 0:00:00\n",
            "     ━━━━━━━━━━━━━━━━━━━━━━━━━━━━━━━━━━━━━━━━ 7.6/7.6 MB 115.4 MB/s eta 0:00:00\n",
            "     ━━━━━━━━━━━━━━━━━━━━━━━━━━━━━━━━━━━━━━ 462.8/462.8 kB 35.3 MB/s eta 0:00:00\n",
            "     ━━━━━━━━━━━━━━━━━━━━━━━━━━━━━━━━━━━━━━ 148.1/148.1 kB 17.2 MB/s eta 0:00:00\n",
            "     ━━━━━━━━━━━━━━━━━━━━━━━━━━━━━━━━━━━━━━ 110.5/110.5 kB 12.8 MB/s eta 0:00:00\n",
            "     ━━━━━━━━━━━━━━━━━━━━━━━━━━━━━━━━━━━━━━ 232.6/232.6 kB 24.8 MB/s eta 0:00:00\n",
            "     ━━━━━━━━━━━━━━━━━━━━━━━━━━━━━━━━━━━━━━ 236.8/236.8 kB 24.9 MB/s eta 0:00:00\n",
            "     ━━━━━━━━━━━━━━━━━━━━━━━━━━━━━━━━━━━━━━ 212.5/212.5 kB 19.7 MB/s eta 0:00:00\n",
            "     ━━━━━━━━━━━━━━━━━━━━━━━━━━━━━━━━━━━━━━ 134.3/134.3 kB 15.4 MB/s eta 0:00:00\n",
            "     ━━━━━━━━━━━━━━━━━━━━━━━━━━━━━━━━━━━━━━━━ 1.6/1.6 MB 79.1 MB/s eta 0:00:00\n"
          ]
        }
      ],
      "source": [
        "# Please do not change this cell because some hidden tests might depend on it.\n",
        "import os\n",
        "\n",
        "# Otter grader does not handle ! commands well, so we define and use our\n",
        "# own function to execute shell commands.\n",
        "def shell(commands, warn=True):\n",
        "    \"\"\"Executes the string `commands` as a sequence of shell commands.\n",
        "\n",
        "       Prints the result to stdout and returns the exit status.\n",
        "       Provides a printed warning on non-zero exit status unless `warn`\n",
        "       flag is unset.\n",
        "    \"\"\"\n",
        "    file = os.popen(commands)\n",
        "    print (file.read().rstrip('\\n'))\n",
        "    exit_status = file.close()\n",
        "    if warn and exit_status != None:\n",
        "        print(f\"Completed with errors. Exit status: {exit_status}\\n\")\n",
        "    return exit_status\n",
        "\n",
        "shell(\"\"\"\n",
        "ls requirements.txt >/dev/null 2>&1\n",
        "if [ ! $? = 0 ]; then\n",
        " rm -rf .tmp\n",
        " git clone git@github.com:cs236299-2023-spring/lab4-4.git .tmp\n",
        " mv .tmp/tests ./\n",
        " mv .tmp/requirements.txt ./\n",
        " rm -rf .tmp\n",
        "fi\n",
        "pip install -q -r requirements.txt\n",
        "\"\"\")"
      ]
    },
    {
      "cell_type": "code",
      "execution_count": null,
      "id": "41308453",
      "metadata": {
        "deletable": false,
        "editable": false,
        "id": "41308453"
      },
      "outputs": [],
      "source": [
        "# Initialize Otter\n",
        "import otter\n",
        "grader = otter.Notebook()"
      ]
    },
    {
      "cell_type": "raw",
      "id": "39bbb02c",
      "metadata": {
        "jupyter": {
          "source_hidden": true
        },
        "id": "39bbb02c"
      },
      "source": [
        "%%latex\n",
        "\\newcommand{\\vect}[1]{\\mathbf{#1}}\n",
        "\\newcommand{\\cnt}[1]{\\sharp(#1)}\n",
        "\\newcommand{\\argmax}[1]{\\underset{#1}{\\operatorname{argmax}}}\n",
        "\\newcommand{\\softmax}{\\operatorname{softmax}}\n",
        "\\newcommand{\\Prob}{\\Pr}\n",
        "\\newcommand{\\given}{\\,|\\,}"
      ]
    },
    {
      "cell_type": "markdown",
      "id": "c8dd3185",
      "metadata": {
        "jupyter": {
          "source_hidden": true
        },
        "id": "c8dd3185"
      },
      "source": [
        "$$\n",
        "\\renewcommand{\\vect}[1]{\\mathbf{#1}}\n",
        "\\renewcommand{\\cnt}[1]{\\sharp(#1)}\n",
        "\\renewcommand{\\argmax}[1]{\\underset{#1}{\\operatorname{argmax}}}\n",
        "\\renewcommand{\\softmax}{\\operatorname{softmax}}\n",
        "\\renewcommand{\\Prob}{\\Pr}\n",
        "\\renewcommand{\\given}{\\,|\\,}\n",
        "$$"
      ]
    },
    {
      "cell_type": "markdown",
      "id": "2636e77e",
      "metadata": {
        "tags": [
          "remove_for_latex"
        ],
        "id": "2636e77e"
      },
      "source": [
        "# Course 236299\n",
        "## Lab 4-4 - Sequence-to-sequence models"
      ]
    },
    {
      "cell_type": "markdown",
      "id": "01b395a0",
      "metadata": {
        "id": "01b395a0"
      },
      "source": [
        "In lab 4-2, we used a syntactic-semantic grammar for semantic parsing to convert natural language to meaning representations in SQL. In this lab, we consider an alternative approach, sequence-to-sequence models, which can solve this task by directly learning the mapping from a sequence of inputs to a sequence of outputs. Since sequence-to-sequence models make few assumptions about the data, they can be applied to a variety of tasks, including machine translation, document summarization, and speech recognition.\n",
        "\n",
        "In this lab, we will implement a sequence-to-sequence model in its most basic form (as in [this seminal paper](https://arxiv.org/pdf/1409.3215.pdf)), and apply it to the task of converting English number phrases to numbers, as exemplified in the table below.\n",
        "\n",
        "|                 Input                                            |       Output         |\n",
        "|:-----------------------------------------------------------------|---------------------:|\n",
        "| seven thousand nine hundred and twenty nine                      |       7929           |\n",
        "| eight hundred and forty two thousand two hundred and fifty nine  |       842259         |\n",
        "| five hundred and eight thousand two hundred and seventeen        |       508217         |\n",
        "\n",
        "For this simple task, it is possible to write a rule-based program to do the conversion. However, here we take a learning-based approach and learn the mapping from demonstrations, with the benefit that the system we implement here can be applied to other sequence-to-sequence tasks as well (including the ATIS-to-SQL problem in project segment 4)."
      ]
    },
    {
      "cell_type": "markdown",
      "id": "baf76190",
      "metadata": {
        "id": "baf76190"
      },
      "source": [
        "New bits of Pytorch used in this lab, and which you may find useful include:\n",
        "\n",
        "* [torch.transpose](https://pytorch.org/docs/stable/generated/torch.transpose.html): Swaps two dimensions of a tensor.\n",
        "* [torch.reshape](https://pytorch.org/docs/stable/generated/torch.reshape.html): Redistributes the elements of a tensor to form a tensor of a different shape, e.g., from 3 x 4 to 6 x 2.\n",
        "* [torch.nn.utils.rnn.pack_padded_sequence](https://pytorch.org/docs/stable/generated/torch.nn.utils.rnn.pack_padded_sequence.html) (imported as `pack`): Handles paddings. A more detailed explanation can be found [here](https://stackoverflow.com/a/56211056)."
      ]
    },
    {
      "cell_type": "markdown",
      "id": "0d898eb5",
      "metadata": {
        "id": "0d898eb5"
      },
      "source": [
        "## Preparation - Loading data"
      ]
    },
    {
      "cell_type": "code",
      "execution_count": null,
      "id": "0f1dda1e",
      "metadata": {
        "deletable": false,
        "id": "0f1dda1e"
      },
      "outputs": [],
      "source": [
        "import copy\n",
        "import math\n",
        "import os\n",
        "import wget\n",
        "\n",
        "import torch\n",
        "import torch.nn as nn\n",
        "\n",
        "from datasets import load_dataset\n",
        "from tokenizers import Tokenizer\n",
        "from tokenizers.pre_tokenizers import WhitespaceSplit\n",
        "from tokenizers.processors import TemplateProcessing\n",
        "from tokenizers import normalizers\n",
        "from tokenizers.models import WordLevel\n",
        "from tokenizers.trainers import WordLevelTrainer\n",
        "from transformers import PreTrainedTokenizerFast\n",
        "\n",
        "from tqdm import tqdm\n",
        "import csv\n",
        "\n",
        "from torch.nn.utils.rnn import pack_padded_sequence as pack"
      ]
    },
    {
      "cell_type": "code",
      "execution_count": null,
      "id": "0b74c57a",
      "metadata": {
        "colab": {
          "base_uri": "https://localhost:8080/"
        },
        "id": "0b74c57a",
        "outputId": "871c2811-3071-4389-a7fd-6ed813cafbda"
      },
      "outputs": [
        {
          "output_type": "stream",
          "name": "stdout",
          "text": [
            "cuda\n"
          ]
        }
      ],
      "source": [
        "# GPU check, make sure to use GPU where available\n",
        "device = torch.device(\"cuda\" if torch.cuda.is_available() else \"cpu\")\n",
        "print (device)"
      ]
    },
    {
      "cell_type": "code",
      "execution_count": null,
      "id": "1c103a14",
      "metadata": {
        "id": "1c103a14"
      },
      "outputs": [],
      "source": [
        "# Download data\n",
        "def download_if_needed(source, dest, filename):\n",
        "    os.makedirs(dest, exist_ok=True) # ensure destination\n",
        "    os.path.exists(f\"./{dest}{filename}\") or wget.download(source + filename, out=dest)\n",
        "\n",
        "local_dir = \"data/\"\n",
        "remote_dir = \"https://github.com/nlp-236299/data/raw/master/Words2Num/\"\n",
        "os.makedirs(local_dir, exist_ok=True)\n",
        "\n",
        "for filename in [\n",
        "    \"train.src\",\n",
        "    \"train.tgt\",\n",
        "    \"dev.src\",\n",
        "    \"dev.tgt\",\n",
        "    \"test.src\",\n",
        "    \"test.tgt\",\n",
        "]:\n",
        "    download_if_needed(remote_dir, local_dir, filename)"
      ]
    },
    {
      "cell_type": "markdown",
      "id": "2f1e60f5",
      "metadata": {
        "id": "2f1e60f5"
      },
      "source": [
        "Next, we process the dataset by extracting the sequences and their corresponding labels and save it in CSV format."
      ]
    },
    {
      "cell_type": "code",
      "execution_count": null,
      "id": "8573d614",
      "metadata": {
        "id": "8573d614"
      },
      "outputs": [],
      "source": [
        "# Process data\n",
        "for split in ['train', 'dev', 'test']:\n",
        "    src_in_file = f'{local_dir}{split}.src'\n",
        "    tgt_in_file = f'{local_dir}{split}.tgt'\n",
        "    out_file = f'{local_dir}{split}.csv'\n",
        "\n",
        "    with open(src_in_file, 'r') as f_src_in, open(tgt_in_file, 'r') as f_tgt_in:\n",
        "        with open(out_file, 'w') as f_out:\n",
        "            src, tgt= [], []\n",
        "            writer = csv.writer(f_out)\n",
        "            writer.writerow(('src','tgt'))\n",
        "            for src_line, tgt_line in zip(f_src_in, f_tgt_in):\n",
        "                writer.writerow((src_line.strip(), tgt_line.strip()))"
      ]
    },
    {
      "cell_type": "markdown",
      "id": "93212dea",
      "metadata": {
        "id": "93212dea"
      },
      "source": [
        "Let's take a look at what each data file looks like."
      ]
    },
    {
      "cell_type": "code",
      "execution_count": null,
      "id": "47945aef",
      "metadata": {
        "colab": {
          "base_uri": "https://localhost:8080/"
        },
        "id": "47945aef",
        "outputId": "dfac5d34-b640-4a3f-a994-98422b27bd06"
      },
      "outputs": [
        {
          "output_type": "stream",
          "name": "stdout",
          "text": [
            "src,tgt\n",
            "five million eight hundred and seventy nine thousand four hundred and sixty four,5 8 7 9 4 6 4\n",
            "twenty thousand eight hundred and eighty five,2 0 8 8 5\n",
            "one thousand five hundred and ten,1 5 1 0\n",
            "fifty nine thousand one hundred and six,5 9 1 0 6\n",
            "forty three thousand one hundred and forty six,4 3 1 4 6\n",
            "three hundred and fifty five million four hundred and fifty eight thousand six hundred and eighty six,3 5 5 4 5 8 6 8 6\n",
            "five billion eight hundred and sixty three million sixty five thousand six hundred and seventy three,5 8 6 3 0 6 5 6 7 3\n",
            "two hundred and forty six thousand four hundred and seventy one,2 4 6 4 7 1\n",
            "eight hundred and twenty nine thousand eight hundred and one,8 2 9 8 0 1\n"
          ]
        }
      ],
      "source": [
        "shell('head \"data/train.csv\"')"
      ]
    },
    {
      "cell_type": "markdown",
      "id": "f8926fdd",
      "metadata": {
        "id": "f8926fdd"
      },
      "source": [
        "# The dataset\n",
        "\n",
        "Let's take a first look at the dataset of English number phrases and their translations into digit-sequence form."
      ]
    },
    {
      "cell_type": "code",
      "execution_count": null,
      "id": "c4c8d447",
      "metadata": {
        "colab": {
          "base_uri": "https://localhost:8080/"
        },
        "id": "c4c8d447",
        "outputId": "09a38ab0-53d9-4b89-eea0-0b7a26711c10"
      },
      "outputs": [
        {
          "output_type": "stream",
          "name": "stdout",
          "text": [
            "src                                                                             tgt\n",
            "seven thousand nine hundred and twenty nine                                 7 9 2 9\n",
            "eight hundred and forty two thousand two hundred and fifty nine         8 4 2 2 5 9\n"
          ]
        }
      ],
      "source": [
        "with open(local_dir + \"dev.csv\") as f:\n",
        "    for line, _ in zip(f, range(3)):\n",
        "        src, tgt = line.split(',')\n",
        "        print (f'{src.strip():70s} {tgt.strip():>12s}')"
      ]
    },
    {
      "cell_type": "markdown",
      "id": "7ed594bf",
      "metadata": {
        "id": "7ed594bf"
      },
      "source": [
        "As before, we use `datasets` to load data."
      ]
    },
    {
      "cell_type": "code",
      "execution_count": null,
      "id": "958c8f68",
      "metadata": {
        "colab": {
          "base_uri": "https://localhost:8080/",
          "height": 532,
          "referenced_widgets": [
            "79661abea3f34758854afefdce3a3f32",
            "30c22d0ac19c44528074dd5f8f1b104b",
            "aceae270e8264a008d78411dc1d10cc5",
            "3d006fa7f0e34616af67a75d1eb3e4d7",
            "b8159238c0f44a69ac30f00a5211e141",
            "1e4982387c834c44a4ab022d52b54aea",
            "cdb5d4bf2c9146cd9e49bc9ecf417e1d",
            "745b1c1621de4eea902703d042b61c41",
            "98d8cbb81c404118b5303bf51dc7d471",
            "78abcd3802f34c04941acc5fc08c4fbc",
            "493cbec4ad434c5daa235e902b3b34a1",
            "3dc7348fb5284ff6b9080ad6772a6fbf",
            "382e872d425946c3ab3f30ccdac3800f",
            "b18a4328bfa14ff48d275611286d1752",
            "43ad05fd09f14d97b63594aeb285d340",
            "0e4701f50e6f4555998f8ca5e602e1d5",
            "f61bf93c909d43aaac4786ee16cc8e82",
            "25580b80c8c5432297761eb39beecbfc",
            "3c55913225424fb89cae176e83bb672e",
            "54bd7a91637d476ea731fe0abdf7ac40",
            "81586067a5a243ee889c59aefd1aa4c5",
            "5dbecb9b1e794ad09d3af6a2cf8650dc",
            "cb8041de130c4073a9c2ada74d3e1bcf",
            "c260c75ce2a644429c44c7507f17ff45",
            "16bd3e90afe945e2b0fe0696ce3d371f",
            "45413ff37b0f4430bc4553f322cdacce",
            "ca233947ba144e919d9a2dbdea6569ac",
            "a44d7ad93a194632b34d595888941f37",
            "8dc2aaff087b4b9dae0a283b42e76594",
            "4cbd478e9dce413b995212351f1c8e94",
            "523c416ac4a140d897e7c1dbecb9c940",
            "f812194f37ab47d280d66923ab765b63",
            "af3071311cf841faa852728b5306d0a2",
            "ba794ba9b8b749deaa0102ecbb7fad07",
            "4586dad6de694d8c8980ef02c0882f79",
            "5555809e4d714957b075c2c8629552c3",
            "0229beffaa76419e85bca5213584c3e3",
            "5871e5e35bb7479391128398b9442c3c",
            "4d328b458d4d4102a57260cdfe8b4851",
            "8d61143faa7e4fb38ef1fd342936ecba",
            "5b9888e98f184d08b046c8aeafb928af",
            "671f292f28a14915b28dd9ee6eb77a84",
            "8268926d60e54a89adbf2e1dc97eac80",
            "ede6a0b2b30840ca84153bb28d87a8bb",
            "b8b1208716bf48fba918ba210e7d0fc5",
            "32c2b62f83de4f5888739e4f04cc177b",
            "6f64fc3fad28448abcbb00803817296a",
            "d873354228364a9ab31ef2e9c93f80e4",
            "5af8b28e5f1847a69237c221f808f873",
            "3dd3b8bcbcef44bdabb4c21bd9811642",
            "37faa76545684a998f0919b0180bc010",
            "8da88ed7be124d1da24f83fcf8f30af2",
            "444f17a5c768448e9236dd906f183d7c",
            "16c06328ff1845b48a3c04bf8cd15169",
            "acc9da31ef19436db9a494905a44b15b",
            "c7d9bf27150d4f7fa17bf903fdf28bf9",
            "4910f66ee62f41debffe7e59809639fc",
            "fa4da5ae2f414aa18b39e717d80d457f",
            "5ff7f31416af4e03bf43a2674c15e954",
            "ff89e5288e5849049d28993a100674a7",
            "9a2d5e899662451f974f89104a28c82c",
            "14ce539ba47f48158c9f6ac51f16f970",
            "0350487e2b80426a9636dbf694ad8f7d",
            "7bfee97a11e24157828b4c8709ac3bde",
            "9d80351121d3463582060084f54c337b",
            "7e707a6c50d64d8a85af9527db576075"
          ]
        },
        "id": "958c8f68",
        "outputId": "48c48878-f3e9-4929-842e-35e7e172ee0b"
      },
      "outputs": [
        {
          "output_type": "stream",
          "name": "stderr",
          "text": [
            "WARNING:datasets.builder:Using custom data configuration default-7e152283e2e8cd3f\n"
          ]
        },
        {
          "output_type": "stream",
          "name": "stdout",
          "text": [
            "Downloading and preparing dataset csv/default to /root/.cache/huggingface/datasets/csv/default-7e152283e2e8cd3f/0.0.0/6b34fb8fcf56f7c8ba51dc895bfa2bfbe43546f190a60fcf74bb5e8afdcc2317...\n"
          ]
        },
        {
          "output_type": "display_data",
          "data": {
            "text/plain": [
              "Downloading data files:   0%|          | 0/3 [00:00<?, ?it/s]"
            ],
            "application/vnd.jupyter.widget-view+json": {
              "version_major": 2,
              "version_minor": 0,
              "model_id": "79661abea3f34758854afefdce3a3f32"
            }
          },
          "metadata": {}
        },
        {
          "output_type": "display_data",
          "data": {
            "text/plain": [
              "Extracting data files:   0%|          | 0/3 [00:00<?, ?it/s]"
            ],
            "application/vnd.jupyter.widget-view+json": {
              "version_major": 2,
              "version_minor": 0,
              "model_id": "3dc7348fb5284ff6b9080ad6772a6fbf"
            }
          },
          "metadata": {}
        },
        {
          "output_type": "display_data",
          "data": {
            "text/plain": [
              "Generating train split: 0 examples [00:00, ? examples/s]"
            ],
            "application/vnd.jupyter.widget-view+json": {
              "version_major": 2,
              "version_minor": 0,
              "model_id": "cb8041de130c4073a9c2ada74d3e1bcf"
            }
          },
          "metadata": {}
        },
        {
          "output_type": "stream",
          "name": "stderr",
          "text": [
            "/usr/local/lib/python3.10/dist-packages/datasets/download/streaming_download_manager.py:776: FutureWarning: the 'mangle_dupe_cols' keyword is deprecated and will be removed in a future version. Please take steps to stop the use of 'mangle_dupe_cols'\n",
            "  return pd.read_csv(xopen(filepath_or_buffer, \"rb\", use_auth_token=use_auth_token), **kwargs)\n"
          ]
        },
        {
          "output_type": "display_data",
          "data": {
            "text/plain": [
              "Generating val split: 0 examples [00:00, ? examples/s]"
            ],
            "application/vnd.jupyter.widget-view+json": {
              "version_major": 2,
              "version_minor": 0,
              "model_id": "ba794ba9b8b749deaa0102ecbb7fad07"
            }
          },
          "metadata": {}
        },
        {
          "output_type": "stream",
          "name": "stderr",
          "text": [
            "/usr/local/lib/python3.10/dist-packages/datasets/download/streaming_download_manager.py:776: FutureWarning: the 'mangle_dupe_cols' keyword is deprecated and will be removed in a future version. Please take steps to stop the use of 'mangle_dupe_cols'\n",
            "  return pd.read_csv(xopen(filepath_or_buffer, \"rb\", use_auth_token=use_auth_token), **kwargs)\n"
          ]
        },
        {
          "output_type": "display_data",
          "data": {
            "text/plain": [
              "Generating test split: 0 examples [00:00, ? examples/s]"
            ],
            "application/vnd.jupyter.widget-view+json": {
              "version_major": 2,
              "version_minor": 0,
              "model_id": "b8b1208716bf48fba918ba210e7d0fc5"
            }
          },
          "metadata": {}
        },
        {
          "output_type": "stream",
          "name": "stdout",
          "text": [
            "Dataset csv downloaded and prepared to /root/.cache/huggingface/datasets/csv/default-7e152283e2e8cd3f/0.0.0/6b34fb8fcf56f7c8ba51dc895bfa2bfbe43546f190a60fcf74bb5e8afdcc2317. Subsequent calls will reuse this data.\n"
          ]
        },
        {
          "output_type": "stream",
          "name": "stderr",
          "text": [
            "/usr/local/lib/python3.10/dist-packages/datasets/download/streaming_download_manager.py:776: FutureWarning: the 'mangle_dupe_cols' keyword is deprecated and will be removed in a future version. Please take steps to stop the use of 'mangle_dupe_cols'\n",
            "  return pd.read_csv(xopen(filepath_or_buffer, \"rb\", use_auth_token=use_auth_token), **kwargs)\n"
          ]
        },
        {
          "output_type": "display_data",
          "data": {
            "text/plain": [
              "  0%|          | 0/3 [00:00<?, ?it/s]"
            ],
            "application/vnd.jupyter.widget-view+json": {
              "version_major": 2,
              "version_minor": 0,
              "model_id": "c7d9bf27150d4f7fa17bf903fdf28bf9"
            }
          },
          "metadata": {}
        },
        {
          "output_type": "execute_result",
          "data": {
            "text/plain": [
              "DatasetDict({\n",
              "    train: Dataset({\n",
              "        features: ['src', 'tgt'],\n",
              "        num_rows: 65022\n",
              "    })\n",
              "    val: Dataset({\n",
              "        features: ['src', 'tgt'],\n",
              "        num_rows: 700\n",
              "    })\n",
              "    test: Dataset({\n",
              "        features: ['src', 'tgt'],\n",
              "        num_rows: 700\n",
              "    })\n",
              "})"
            ]
          },
          "metadata": {},
          "execution_count": 9
        }
      ],
      "source": [
        "dataset = load_dataset('csv', data_files={'train':f'{local_dir}train.csv', \\\n",
        "                                          'val': f'{local_dir}dev.csv', \\\n",
        "                                          'test': f'{local_dir}test.csv'})\n",
        "dataset"
      ]
    },
    {
      "cell_type": "code",
      "execution_count": null,
      "id": "ce2be780",
      "metadata": {
        "id": "ce2be780"
      },
      "outputs": [],
      "source": [
        "train_data = dataset['train']\n",
        "val_data = dataset['val']\n",
        "test_data = dataset['test']"
      ]
    },
    {
      "cell_type": "markdown",
      "id": "7884f8d7",
      "metadata": {
        "id": "7884f8d7"
      },
      "source": [
        "We build tokenizers from the training data to tokenize the source and target seuqnces and convert them into word ids."
      ]
    },
    {
      "cell_type": "code",
      "execution_count": null,
      "id": "d536303a",
      "metadata": {
        "id": "d536303a"
      },
      "outputs": [],
      "source": [
        "unk_token = '[UNK]'\n",
        "pad_token = '[PAD]'\n",
        "bos_token = '<bos>'\n",
        "eos_token = '<eos>'\n",
        "src_tokenizer = Tokenizer(WordLevel(unk_token=unk_token))\n",
        "src_tokenizer.pre_tokenizer = WhitespaceSplit()\n",
        "\n",
        "src_trainer = WordLevelTrainer(special_tokens=[pad_token, unk_token])\n",
        "src_tokenizer.train_from_iterator(train_data['src'], trainer=src_trainer)\n",
        "\n",
        "tgt_tokenizer = Tokenizer(WordLevel(unk_token=unk_token))\n",
        "tgt_tokenizer.pre_tokenizer = WhitespaceSplit()\n",
        "\n",
        "tgt_trainer = WordLevelTrainer(special_tokens=[pad_token, unk_token, bos_token, eos_token])\n",
        "\n",
        "tgt_tokenizer.train_from_iterator(train_data['tgt'], trainer=tgt_trainer)\n",
        "\n",
        "tgt_tokenizer.post_processor = TemplateProcessing(single=f\"{bos_token} $A {eos_token}\", special_tokens=[(bos_token, tgt_tokenizer.token_to_id(bos_token)), (eos_token, tgt_tokenizer.token_to_id(eos_token))])"
      ]
    },
    {
      "cell_type": "markdown",
      "id": "b6deb302",
      "metadata": {
        "id": "b6deb302"
      },
      "source": [
        "Note that we prepended `<bos>` and appended `<eos>` to target sentences. The purpose for introducing them will become clear in later parts of this lab.\n",
        "\n",
        "We use `datasets.Dataset.map` to convert text into word ids. As shown in lab 1-5, first we need to wrap `tokenizer` with the `transformers.PreTrainedTokenizerFast` class to be compatible with the `datasets` library."
      ]
    },
    {
      "cell_type": "code",
      "execution_count": null,
      "id": "ddd34b6a",
      "metadata": {
        "id": "ddd34b6a"
      },
      "outputs": [],
      "source": [
        "hf_src_tokenizer = PreTrainedTokenizerFast(tokenizer_object=src_tokenizer, pad_token=pad_token, unk_token=unk_token)\n",
        "hf_tgt_tokenizer = PreTrainedTokenizerFast(tokenizer_object=tgt_tokenizer, pad_token=pad_token, unk_token=unk_token, bos_token=bos_token, eos_token=eos_token)"
      ]
    },
    {
      "cell_type": "code",
      "execution_count": null,
      "id": "3da6825e",
      "metadata": {
        "colab": {
          "base_uri": "https://localhost:8080/",
          "height": 113,
          "referenced_widgets": [
            "0fb284e31bcc4700bbf5bbff177bf100",
            "4b46f8a801de407294cee918c6352e4b",
            "08dceadc63f24b69983f2856e1f53224",
            "dfca5b4243dd400f85cdb20669235af7",
            "cbda4ff6f3f843958ed8aa13d8005ca8",
            "86e51791039142c3b830627285449b7d",
            "7a2a59b0bf4c4b85b5ebab53dacdeaf9",
            "8d3418123c654fe5ab4d3510644693b6",
            "3504d397d9414c63a039467dd5a66593",
            "5929dfe01839498090d622a297078ea4",
            "a5a39e4177774e6a8ab4ed241fa0686c",
            "b7289f360b27439a85c2f11cf71184d7",
            "89fa3d94084b48ec8852ae17d8af36fa",
            "26661a67918442ad93fb55f81d1317c9",
            "5edf0342d19f4e46892b35e5c67f80a8",
            "156a71b81aa14d89bfe7cdf175134d2b",
            "2f519754dc32447d9a00d382be821ddc",
            "661cd5f1742644ab8676c1cb4feb17dd",
            "536bc79512874dfd8a323689edb1be7e",
            "6c815f3a617d444c8e2b5e580af47420",
            "4919afe630b9453a867d1278e21f2276",
            "c159497e107146f6b389131d48df3ff9",
            "6cbd64aa010941d48124237155a45f11",
            "d994898062be445f91932f184c4ad65b",
            "0961eeb9d0f140b29164115f74d5f453",
            "997cbbb654f64085abf482ff94f4ccd0",
            "f509d907830a423fb41d5ee550285b42",
            "7acaa5bf6a8d4780a82ca7cf7ecdc687",
            "4f228db104e84db08d9a9095170261ef",
            "69dff3af59b74236a069feeadf449d5d",
            "b0c2ca32c34d4164bc84d914028ccd69",
            "3aa735c1228041039b3b819496f14606",
            "1cd0368f48f845868598f6950c206112"
          ]
        },
        "id": "3da6825e",
        "outputId": "20ea8edb-c8ff-4699-93cb-9d995d124b75"
      },
      "outputs": [
        {
          "output_type": "display_data",
          "data": {
            "text/plain": [
              "  0%|          | 0/65022 [00:00<?, ?ex/s]"
            ],
            "application/vnd.jupyter.widget-view+json": {
              "version_major": 2,
              "version_minor": 0,
              "model_id": "0fb284e31bcc4700bbf5bbff177bf100"
            }
          },
          "metadata": {}
        },
        {
          "output_type": "display_data",
          "data": {
            "text/plain": [
              "  0%|          | 0/700 [00:00<?, ?ex/s]"
            ],
            "application/vnd.jupyter.widget-view+json": {
              "version_major": 2,
              "version_minor": 0,
              "model_id": "b7289f360b27439a85c2f11cf71184d7"
            }
          },
          "metadata": {}
        },
        {
          "output_type": "display_data",
          "data": {
            "text/plain": [
              "  0%|          | 0/700 [00:00<?, ?ex/s]"
            ],
            "application/vnd.jupyter.widget-view+json": {
              "version_major": 2,
              "version_minor": 0,
              "model_id": "6cbd64aa010941d48124237155a45f11"
            }
          },
          "metadata": {}
        }
      ],
      "source": [
        "def encode(example):\n",
        "    example['src_ids'] = hf_src_tokenizer(example['src']).input_ids\n",
        "    example['tgt_ids'] = hf_tgt_tokenizer(example['tgt']).input_ids\n",
        "    return example\n",
        "\n",
        "train_data = train_data.map(encode)\n",
        "val_data = val_data.map(encode)\n",
        "test_data = test_data.map(encode)"
      ]
    },
    {
      "cell_type": "code",
      "execution_count": null,
      "id": "2e38d847",
      "metadata": {
        "colab": {
          "base_uri": "https://localhost:8080/"
        },
        "id": "2e38d847",
        "outputId": "750f0c13-0443-4fde-be3e-19bfd229aaae"
      },
      "outputs": [
        {
          "output_type": "stream",
          "name": "stdout",
          "text": [
            "Size of src vocab: 34\n",
            "Size of tgt vocab: 14\n",
            "Index for src padding: 0\n",
            "Index for tgt padding: 0\n",
            "Index for start of sequence token: 2\n",
            "Index for end of sequence token: 3\n"
          ]
        }
      ],
      "source": [
        "# Compute size of vocabulary\n",
        "src_vocab = hf_src_tokenizer.get_vocab()\n",
        "tgt_vocab = hf_tgt_tokenizer.get_vocab()\n",
        "\n",
        "print(f\"Size of src vocab: {len(src_vocab)}\")\n",
        "print(f\"Size of tgt vocab: {len(tgt_vocab)}\")\n",
        "print(f\"Index for src padding: {src_vocab[pad_token]}\")\n",
        "print(f\"Index for tgt padding: {tgt_vocab[pad_token]}\")\n",
        "print(f\"Index for start of sequence token: {tgt_vocab[bos_token]}\")\n",
        "print(f\"Index for end of sequence token: {tgt_vocab[eos_token]}\")"
      ]
    },
    {
      "cell_type": "markdown",
      "id": "7c1aa7cc",
      "metadata": {
        "id": "7c1aa7cc"
      },
      "source": [
        "To load data in batched tensors, we use `torch.utils.data.DataLoader` for data splits, which enables us to iterate over the dataset under a given `BATCH_SIZE`. For the test set, we use a batch size of 1, to make the decoding implementation easier."
      ]
    },
    {
      "cell_type": "code",
      "execution_count": null,
      "id": "b7ffebe7",
      "metadata": {
        "id": "b7ffebe7"
      },
      "outputs": [],
      "source": [
        "BATCH_SIZE = 32     # batch size for training and validation\n",
        "TEST_BATCH_SIZE = 1 # batch size for test; we use 1 to make implementation easier\n",
        "\n",
        "# Defines how to batch a list of examples together\n",
        "def collate_fn(examples):\n",
        "    batch = {}\n",
        "    bsz = len(examples)\n",
        "    src_ids, tgt_ids = [], []\n",
        "    for example in examples:\n",
        "        src_ids.append(example['src_ids'])\n",
        "        tgt_ids.append(example['tgt_ids'])\n",
        "\n",
        "    src_len = torch.LongTensor([len(word_ids) for word_ids in src_ids]).to(device)\n",
        "    src_max_length = max(src_len)\n",
        "    tgt_max_length = max([len(word_ids) for word_ids in tgt_ids])\n",
        "\n",
        "    src_batch = torch.zeros(bsz, src_max_length).long().fill_(src_vocab[pad_token]).to(device)\n",
        "    tgt_batch = torch.zeros(bsz, tgt_max_length).long().fill_(tgt_vocab[pad_token]).to(device)\n",
        "    for b in range(bsz):\n",
        "        src_batch[b][:len(src_ids[b])] = torch.LongTensor(src_ids[b]).to(device)\n",
        "        tgt_batch[b][:len(tgt_ids[b])] = torch.LongTensor(tgt_ids[b]).to(device)\n",
        "\n",
        "    batch['src_lengths'] = src_len\n",
        "    batch['src_ids'] = src_batch\n",
        "    batch['tgt_ids'] = tgt_batch\n",
        "    return batch\n",
        "\n",
        "train_iter = torch.utils.data.DataLoader(train_data,\n",
        "                                         batch_size=BATCH_SIZE,\n",
        "                                         shuffle=True,\n",
        "                                         collate_fn=collate_fn)\n",
        "val_iter = torch.utils.data.DataLoader(val_data,\n",
        "                                       batch_size=BATCH_SIZE,\n",
        "                                       shuffle=False,\n",
        "                                       collate_fn=collate_fn)\n",
        "test_iter = torch.utils.data.DataLoader(test_data,\n",
        "                                        batch_size=TEST_BATCH_SIZE,\n",
        "                                        shuffle=False,\n",
        "                                        collate_fn=collate_fn)"
      ]
    },
    {
      "cell_type": "markdown",
      "id": "440caa3a",
      "metadata": {
        "id": "440caa3a"
      },
      "source": [
        "Let's take a look at a batch from these iterators."
      ]
    },
    {
      "cell_type": "code",
      "execution_count": null,
      "id": "1426eccd",
      "metadata": {
        "colab": {
          "base_uri": "https://localhost:8080/"
        },
        "id": "1426eccd",
        "outputId": "bb70bb1e-972b-43ee-bffd-5873cffadbca"
      },
      "outputs": [
        {
          "output_type": "stream",
          "name": "stdout",
          "text": [
            "Size of src batch: torch.Size([32, 17])\n",
            "Third src sentence in batch: tensor([18,  9,  4,  2, 17,  7,  0,  0,  0,  0,  0,  0,  0,  0,  0,  0,  0],\n",
            "       device='cuda:0')\n",
            "Length of the third src sentence in batch: 17\n",
            "Converted back to string: sixty three thousand and forty seven [PAD] [PAD] [PAD] [PAD] [PAD] [PAD] [PAD] [PAD] [PAD] [PAD] [PAD]\n",
            "Size of tgt batch: torch.Size([32, 12])\n",
            "Third tgt sentence in batch: tensor([ 2,  8,  4, 13, 10,  6,  3,  0,  0,  0,  0,  0], device='cuda:0')\n",
            "Converted back to string: <bos> 6 3 0 4 7 <eos> [PAD] [PAD] [PAD] [PAD] [PAD]\n"
          ]
        }
      ],
      "source": [
        "batch = next(iter(train_iter))\n",
        "src_ids = batch['src_ids']\n",
        "src_example = src_ids[2]\n",
        "print (f\"Size of src batch: {src_ids.size()}\")\n",
        "print (f\"Third src sentence in batch: {src_example}\")\n",
        "print (f\"Length of the third src sentence in batch: {len(src_example)}\")\n",
        "print (f\"Converted back to string: {hf_src_tokenizer.decode(src_example)}\")\n",
        "\n",
        "tgt_ids = batch['tgt_ids']\n",
        "tgt_example = tgt_ids[2]\n",
        "print (f\"Size of tgt batch: {tgt_ids.size()}\")\n",
        "print (f\"Third tgt sentence in batch: {tgt_example}\")\n",
        "print (f\"Converted back to string: {hf_tgt_tokenizer.decode(tgt_example)}\")"
      ]
    },
    {
      "cell_type": "markdown",
      "id": "5ac2618b",
      "metadata": {
        "id": "5ac2618b"
      },
      "source": [
        "# Neural Encoder-Decoder Models"
      ]
    },
    {
      "cell_type": "markdown",
      "id": "d0cb74b0",
      "metadata": {
        "id": "d0cb74b0"
      },
      "source": [
        "Sequence-to-sequence models are sometimes called neural encoder-decoder models, as they consist of an encoder, which maps a sequence of source tokens into some vector representations, and a decoder, which generates a sequence of output words from those encoded vectors.\n",
        "\n",
        "Formally, given a sequence of source tokens $\\vect{x} = x_1, \\ldots, x_S$, the goal is to map it to a sequence of target tokens $\\vect{y} = y_1, \\ldots, y_T$.\n",
        "\n",
        "In practice, we prepend a special beginning-of-sequence symbol $y_0$=`<bos>` to the target sequence. Further, in order to provide a way of knowing when to stop generating $\\vect{y}$, we append a special end-of-sequence symbol $y_{T+1}$=`<eos>` to the target sequence, such that when it is produced by the model, the generation process stops.\n",
        "\n",
        "The generation process is structured as a generative model:\n",
        "\n",
        "$$\n",
        "\\Pr(y_0, \\ldots, y_{T+1} \\mid x_1, \\ldots, x_S) = \\prod_{t=1}^{T+1} \\Pr(y_t \\mid y_{<t}, x_1, \\ldots, x_S),\n",
        "$$\n",
        "\n",
        "where $y_{<t}$ denotes the tokens before $y_t$ (that is, $y_0, \\ldots, y_{t-1}$).\n",
        "\n",
        "We use a recurrent neural network with parameters $\\theta$ to parameterize $\\Pr(y_t \\mid y_{<t}, x_1, \\ldots, x_S)$:\n",
        "\n",
        "$$\n",
        "\\Pr(y_t \\mid y_{<t}, x_1, \\ldots, x_S) \\approx {\\Pr}_\\theta(y_t \\mid y_{<t}, x_1, \\ldots, x_S),\n",
        "$$\n",
        "\n",
        "or equivalently,\n",
        "\n",
        "$$\n",
        "{\\Pr}_\\theta(y_1, \\ldots, y_T \\mid x_1, \\ldots, x_S) = \\prod_{t=1}^{T+1} {\\Pr}_\\theta(y_t \\mid y_{<t}, x_1, \\ldots, x_S)\n",
        "$$\n",
        "\n",
        "In neural encoder-decoder models, we first use an encoder to encode $\\vect{x}$ into some vectors (either of fixed length as we'll see in this lab, or of varying length as we'll see in the next lab). Based on the encoded vectors, we use a decoder to generate $\\vect{y}$:\n",
        "\n",
        "$$\n",
        "{\\Pr}_\\theta(y_t \\mid y_{<t}, x_1, \\ldots, x_S) = \\text{decode}(\\text{encode}(x_1, \\ldots, x_S), y_{<t})\n",
        "$$"
      ]
    },
    {
      "cell_type": "markdown",
      "id": "2e0fce1e",
      "metadata": {
        "id": "2e0fce1e"
      },
      "source": [
        "### RNN Encoder-Decoders"
      ]
    },
    {
      "cell_type": "markdown",
      "id": "003b8045",
      "metadata": {
        "deletable": false,
        "editable": false,
        "id": "003b8045"
      },
      "source": [
        "We can use any recurrent neural networks such as LSTMs as encoders and decoders. In this lab, we will use a bidirectional LSTM as the encoder, and a unidirectional LSTM as the decoder, as shown in the illustration below.\n",
        "\n",
        "<img src=\"https://github.com/nlp-course/data/raw/master/img/encoder_decoder.png\" alt=\"encoder-decoder illustration\" />\n",
        "\n",
        "In the above illustration, $S=4$, $T=3$, and there are two encoder/decoder layers. Since we are using a bidirectional encoder, for each layer there are two final states, one for the cell running from left to right (such as $h_{0,4}$), and the other for the cell running from right to left (such as $h_{0,4}'$). We concatenate these two states and use the result to initialize the corresponding layer of the decoder. (In the example, we concatenate $h_{0,4}$ and $h_{0,4}'$ to initialize layer 0, and we concatenate $h_{1,4}$ and $h_{1,4}'$ to initialize layer 1.) Therefore, to make the sizes match, we set the hidden state size of the encoder to be half of that of the decoder.\n",
        "\n",
        "Note that in PyTorch's LSTM implementation, the final hidden state is represented as a tuple `(h, c)` ([documentation here](https://pytorch.org/docs/stable/generated/torch.nn.LSTM.html)), so we want to apply the same operations to `c` to initialize the decoder.\n",
        "\n",
        "You'll implement `forward_encoder` and `forward_decoder` in the code below. The `forward_encoder` function will be reminiscent of a sequence model from labs 2-* and project segment 2. It operates on a batch of source examples and proceeds as follows:\n",
        "\n",
        "1. Map the input words to some word embeddings. You'll notice that the embedding size is an argument to the model.\n",
        "\n",
        "2. Optionally \"pack\" the sequences to save some computation using `torch.nn.utils.rnn.pack_padded_sequence`, imported above as `pack`.\n",
        "\n",
        "3. Run the encoder RNN (a bidirectional LSTM) over the batch, generating a batch of output states.\n",
        "\n",
        "4. Reshape the final state information (which will have `h` and `c` components each of half the size needed to initialize the decoder) so that it is appropriate to initialize the decoder with.\n",
        "\n",
        "The `forward_decoder` function takes the reshaped encoder final state information and the ground truth target sequences and returns logits (unnormalized log probs) for each target word. (These are ready to be converted to probability distributions via a softmax.)\n",
        "\n",
        "The steps in decoding are:\n",
        "\n",
        "1. Map the target words to word embeddings.\n",
        "\n",
        "2. Run the decoder RNN (a unidirectional LSTM) over the batch, initializing the hidden units from the encoder final states, generating a batch of output states.\n",
        "\n",
        "3. Map the RNN outputs to vectors of vocabulary size (so that they could be softmaxed into a distribution over the vocabulary).\n",
        "\n",
        "The components that you'll be plugging together to do all this are already established in the `__init__` method.\n",
        "\n",
        "> The major exception is the reshaping of the encoder output `h` and `c` to form the decoder input `h` and `c`. **This is the trickiest part.** As usual, your best strategy is to keep careful track of the shapes of each input and output of a layer or operation. We recommend that you try out just the reshaping code on small sample data to test it out before running any encodings or decodings.\n",
        "\n",
        "**Hint #1:** The total number of `for` loops in our solution code for the parts you are to write is...zero.\n",
        "\n",
        "**Hint #2:** According to the documentation of [torch.nn.LSTM](https://pytorch.org/docs/stable/generated/torch.nn.LSTM.html), its outputs are: `outputs, (h, c)`. `outputs` contains all the intermediate states, which you don't need in this lab. You will need `h` and `c`, both of them have the shape: `(num_layers * num_directions, batch_size, hidden_size)`.\n",
        "<!--\n",
        "BEGIN QUESTION\n",
        "name: encoder_decoder\n",
        "-->"
      ]
    },
    {
      "cell_type": "code",
      "execution_count": null,
      "id": "abeb1a6e",
      "metadata": {
        "id": "abeb1a6e"
      },
      "outputs": [],
      "source": [
        "# TODO - finish implementing the `forward_encoder` and `forward_decoder` methods\n",
        "class EncoderDecoder(nn.Module):\n",
        "    def __init__(self, hf_src_tokenizer, hf_tgt_tokenizer, embedding_size=64, hidden_size=64, layers=3):\n",
        "        \"\"\"\n",
        "        Initializer. Creates network modules and loss function.\n",
        "        Arguments:\n",
        "            hf_src_tokenizer: hf src tokenizer\n",
        "            hf_tgt_tokenizer: hf tgt tokenizer\n",
        "            embedding_size: word embedding size\n",
        "            hidden_size: hidden layer size of both encoder and decoder\n",
        "            layers: number of layers of both encoder and decoder\n",
        "        \"\"\"\n",
        "        super(EncoderDecoder, self).__init__()\n",
        "        self.hf_src_tokenizer = hf_src_tokenizer\n",
        "        self.hf_tgt_tokenizer = hf_tgt_tokenizer\n",
        "\n",
        "        # Keep the vocabulary sizes available\n",
        "        self.V_src = len(self.hf_src_tokenizer)\n",
        "        self.V_tgt = len(self.hf_tgt_tokenizer)\n",
        "\n",
        "        # Get special word ids or tokens\n",
        "        self.padding_id_src = self.hf_src_tokenizer.pad_token_id\n",
        "        self.padding_id_tgt = self.hf_tgt_tokenizer.pad_token_id\n",
        "        self.bos_id = self.hf_tgt_tokenizer.bos_token_id\n",
        "        self.eos_id = self.hf_tgt_tokenizer.eos_token_id\n",
        "\n",
        "        # Keep hyper-parameters available\n",
        "        self.embedding_size = embedding_size\n",
        "        self.hidden_size = hidden_size\n",
        "        self.layers = layers\n",
        "\n",
        "        # Create essential modules\n",
        "        self.word_embeddings_src = nn.Embedding(self.V_src, embedding_size)\n",
        "        self.word_embeddings_tgt = nn.Embedding(self.V_tgt, embedding_size)\n",
        "\n",
        "        # RNN cells\n",
        "        self.encoder_rnn = nn.LSTM(\n",
        "            input_size=embedding_size,\n",
        "            hidden_size=hidden_size // 2,  # to match decoder hidden size\n",
        "            num_layers=layers,\n",
        "            batch_first=True,\n",
        "            bidirectional=True,  # bidirectional encoder\n",
        "        )\n",
        "        self.decoder_rnn = nn.LSTM(\n",
        "            input_size=embedding_size,\n",
        "            hidden_size=hidden_size,\n",
        "            num_layers=layers,\n",
        "            batch_first=True,\n",
        "            bidirectional=False,  # unidirectional decoder\n",
        "        )\n",
        "\n",
        "        # Final projection layer\n",
        "        self.hidden2output = nn.Linear(hidden_size, self.V_tgt)\n",
        "\n",
        "        # Create loss function\n",
        "        self.loss_function = nn.CrossEntropyLoss(\n",
        "            reduction=\"sum\", ignore_index=self.padding_id_tgt\n",
        "        )\n",
        "\n",
        "    def forward_encoder(self, src, src_lengths):\n",
        "        \"\"\"\n",
        "        Encodes source words `src`.\n",
        "        Arguments:\n",
        "            src: src batch of size (batch_size, max_src_len)\n",
        "            src_lengths: src lengths of size (batch_size)\n",
        "        Returns:\n",
        "            a tuple (h, c) where h/c is of size (layers, bsz, hidden_size)\n",
        "        \"\"\"\n",
        "        # TODO - implement this function\n",
        "        # Optional: use `pack` to deal with paddings (https://discuss.pytorch.org/t/simple-working-example-how-to-use-packing-for-variable-length-sequence-inputs-for-rnn/2120)\n",
        "        # note that the batch size is the first dimension, and the sequences are not sorted.\n",
        "        embedded = self.word_embeddings_src(src)\n",
        "        packed = pack(embedded,src_lengths.tolist(), batch_first =True, enforce_sorted = False)\n",
        "        _,(h,c) = self.encoder_rnn(packed, None)\n",
        "        h_new = h.reshape(self.layers, 2, len(src_lengths), self.hidden_size // 2).transpose(1,2).reshape(self.layers,src.size()[0],self.hidden_size).to(device)\n",
        "        c_new = c.reshape(self.layers, 2, len(src_lengths), self.hidden_size // 2).transpose(1,2).reshape(self.layers,src.size()[0],self.hidden_size).to(device)\n",
        "        return(h_new, c_new)\n",
        "\n",
        "\n",
        "\n",
        "    def forward_decoder(self, encoder_final_state, tgt_in):\n",
        "        \"\"\"\n",
        "        Decodes based on encoder final state and ground truth target words.\n",
        "        Arguments:\n",
        "            encoder_final_state: a tuple (h, c) where h/c is of size (layers, bsz, hidden_size)\n",
        "            tgt_in: a tensor of size (bsz, tgt_len)\n",
        "        Returns:\n",
        "            Logits of size (bsz, tgt_len, V_tgt) (before the softmax operation)\n",
        "        \"\"\"\n",
        "        # TODO - implement this function\n",
        "        embedded = self.word_embeddings_tgt(tgt_in)\n",
        "        output,(h,c) = self.decoder_rnn(embedded, (encoder_final_state[0].contiguous(),encoder_final_state[1].contiguous()))\n",
        "        logits = self.hidden2output(output)\n",
        "        return logits\n",
        "\n",
        "\n",
        "    def forward(self, src, src_lengths, tgt_in):\n",
        "        \"\"\"\n",
        "        Performs forward computation, returns logits.\n",
        "        Arguments:\n",
        "            src: src batch of size (bsz, max_src_len)\n",
        "            src_lengths: src lengths of size (bsz)\n",
        "            tgt_in:  a tensor of size (bsz, tgt_len)\n",
        "        \"\"\"\n",
        "        # Forward encoder\n",
        "        encoder_final_state = self.forward_encoder(src, src_lengths)  # tuple (h, c)\n",
        "        # Forward decoder\n",
        "        logits = self.forward_decoder(encoder_final_state, tgt_in)  # bsz, tgt_len, V_tgt\n",
        "        return logits\n",
        "\n",
        "    def forward_decoder_incrementally(self, decoder_state, tgt_in_token):\n",
        "        \"\"\"\n",
        "        Forward the decoder at `decoder_state` for a single step with token `tgt_in_token`.\n",
        "        This function will only be used in the beam search section.\n",
        "        Arguments:\n",
        "            decoder_state: a tuple (h, c) where h/c is of size (layers, 1, hidden_size)\n",
        "            tgt_in_token: a tensor of size (1), a single token\n",
        "        Returns:\n",
        "            `logits`: Log probabilities for `tgt_in_token` of size (V_tgt)\n",
        "            `decoder_state`: updated decoder state, ready for next incremental update\n",
        "        \"\"\"\n",
        "        bsz = decoder_state[0].size(1)\n",
        "        assert bsz == 1, \"forward_decoder_incrementally only supports batch size 1!\"\n",
        "        # Compute word embeddings\n",
        "        tgt_embeddings = self.word_embeddings_tgt(\n",
        "            tgt_in_token.view(1, 1)\n",
        "        )  # bsz, tgt_len, hidden\n",
        "        # Forward decoder RNN and return all hidden states\n",
        "        decoder_outs, decoder_state = self.decoder_rnn(tgt_embeddings, decoder_state)\n",
        "        # Project to get logits\n",
        "        logits = self.hidden2output(decoder_outs)  # bsz, tgt_len, V_tgt\n",
        "        # Get log probabilities\n",
        "        logits = torch.log_softmax(logits, -1)\n",
        "        return logits.view(-1), decoder_state\n",
        "\n",
        "    def evaluate_ppl(self, iterator):\n",
        "        \"\"\"Returns the model's perplexity on a given dataset `iterator`.\"\"\"\n",
        "        # Switch to eval mode\n",
        "        self.eval()\n",
        "        total_loss = 0\n",
        "        total_words = 0\n",
        "        for batch in iterator:\n",
        "            # Input and target\n",
        "            src = batch['src_ids']              # bsz, max_src_len\n",
        "            src_lengths = batch['src_lengths']  # bsz\n",
        "            tgt_in = batch['tgt_ids'][:, :-1].contiguous() # Remove <eos> for decode input (y_0=<bos>, y_1, y_2)\n",
        "            tgt_out = batch['tgt_ids'][:, 1:].contiguous() # Remove <bos> as target        (y_1, y_2, y_3=<eos>)\n",
        "            # Forward to get logits\n",
        "            logits = self.forward(src, src_lengths, tgt_in) # bsz, tgt_len, V_tgt\n",
        "            # Compute cross entropy loss\n",
        "            loss = self.loss_function(logits.view(-1, self.V_tgt), tgt_out.view(-1))\n",
        "            total_loss += loss.item()\n",
        "            total_words += tgt_out.ne(self.padding_id_tgt).float().sum().item()\n",
        "        return math.exp(total_loss / total_words)\n",
        "\n",
        "    def train_all(self, train_iter, val_iter, epochs=10, learning_rate=0.001):\n",
        "        \"\"\"Train the model.\"\"\"\n",
        "        # Switch the module to training mode\n",
        "        self.train()\n",
        "        # Use Adam to optimize the parameters\n",
        "        optim = torch.optim.Adam(self.parameters(), lr=learning_rate)\n",
        "        best_validation_ppl = float(\"inf\")\n",
        "        best_model = None\n",
        "        # Run the optimization for multiple epochs\n",
        "        for epoch in range(epochs):\n",
        "            total_words = 0\n",
        "            total_loss = 0.0\n",
        "            for batch in tqdm(train_iter):\n",
        "                # Zero the parameter gradients\n",
        "                self.zero_grad()\n",
        "                # Input and target\n",
        "                tgt = batch['tgt_ids']              # bsz, max_tgt_len\n",
        "                src = batch['src_ids']              # bsz, max_src_len\n",
        "                src_lengths = batch['src_lengths']  # bsz\n",
        "                tgt_in = tgt[:, :-1] # Remove <eos> for decode input (y_0=<bos>, y_1, y_2)\n",
        "                tgt_out = tgt[:, 1:] # Remove <bos> as target        (y_1, y_2, y_3=<eos>)\n",
        "                batch_size = src.size(0)\n",
        "                # Run forward pass and compute loss along the way.\n",
        "                logits = self.forward(src, src_lengths, tgt_in) # bsz, tgt_len, V_tgt\n",
        "                loss = self.loss_function(logits.reshape(-1, self.V_tgt), tgt_out.reshape(-1))\n",
        "                # Training stats\n",
        "                num_tgt_words = tgt_out.ne(self.padding_id_tgt).float().sum().item()\n",
        "                total_words += num_tgt_words\n",
        "                total_loss += loss.item()\n",
        "                # Perform backpropagation\n",
        "                loss.div(batch_size).backward()\n",
        "                optim.step()\n",
        "\n",
        "            # Evaluate and track improvements on the validation dataset\n",
        "            validation_ppl = self.evaluate_ppl(val_iter)\n",
        "            self.train()\n",
        "            if validation_ppl < best_validation_ppl:\n",
        "                best_validation_ppl = validation_ppl\n",
        "                self.best_model = copy.deepcopy(self.state_dict())\n",
        "            epoch_loss = total_loss / total_words\n",
        "            print(f\"Epoch: {epoch} Training Perplexity: {math.exp(epoch_loss):.4f} \"\n",
        "                  f\"Validation Perplexity: {validation_ppl:.4f}\")"
      ]
    },
    {
      "cell_type": "code",
      "execution_count": null,
      "id": "34556a5f",
      "metadata": {
        "colab": {
          "base_uri": "https://localhost:8080/"
        },
        "id": "34556a5f",
        "outputId": "bc863d47-6a17-4187-9d92-03e380f400dd"
      },
      "outputs": [
        {
          "output_type": "stream",
          "name": "stderr",
          "text": [
            "100%|██████████| 2032/2032 [00:34<00:00, 58.42it/s]\n"
          ]
        },
        {
          "output_type": "stream",
          "name": "stdout",
          "text": [
            "Epoch: 0 Training Perplexity: 1.6814 Validation Perplexity: 1.0491\n"
          ]
        },
        {
          "output_type": "stream",
          "name": "stderr",
          "text": [
            "100%|██████████| 2032/2032 [00:33<00:00, 60.07it/s]\n"
          ]
        },
        {
          "output_type": "stream",
          "name": "stdout",
          "text": [
            "Epoch: 1 Training Perplexity: 1.0346 Validation Perplexity: 1.0252\n"
          ]
        },
        {
          "output_type": "execute_result",
          "data": {
            "text/plain": [
              "<All keys matched successfully>"
            ]
          },
          "metadata": {},
          "execution_count": 36
        }
      ],
      "source": [
        "EPOCHS = 2  # epochs, we highly recommend starting with a smaller number like 1\n",
        "LEARNING_RATE = 2e-3  # learning rate\n",
        "\n",
        "# Instantiate and train classifier\n",
        "model = EncoderDecoder(\n",
        "    hf_src_tokenizer,\n",
        "    hf_tgt_tokenizer,\n",
        "    embedding_size=64,\n",
        "    hidden_size=64,\n",
        "    layers=3,\n",
        ").to(device)\n",
        "\n",
        "model.train_all(train_iter, val_iter, epochs=EPOCHS, learning_rate=LEARNING_RATE)\n",
        "model.load_state_dict(model.best_model)"
      ]
    },
    {
      "cell_type": "markdown",
      "id": "e119d5f9",
      "metadata": {
        "id": "e119d5f9"
      },
      "source": [
        "Since the task we consider here is very simple, we should expect a perplexity very close to 1."
      ]
    },
    {
      "cell_type": "code",
      "execution_count": null,
      "id": "69bde15f",
      "metadata": {
        "colab": {
          "base_uri": "https://localhost:8080/"
        },
        "id": "69bde15f",
        "outputId": "9749fd80-f2a6-4242-ed38-a46042d4ec0f"
      },
      "outputs": [
        {
          "output_type": "stream",
          "name": "stdout",
          "text": [
            "Test perplexity: 1.019\n"
          ]
        }
      ],
      "source": [
        "# Evaluate model performance\n",
        "print (f'Test perplexity: {model.evaluate_ppl(test_iter):.3f}')"
      ]
    },
    {
      "cell_type": "code",
      "execution_count": null,
      "id": "8b78ec39",
      "metadata": {
        "deletable": false,
        "editable": false,
        "colab": {
          "base_uri": "https://localhost:8080/",
          "height": 46
        },
        "id": "8b78ec39",
        "outputId": "09628792-4fe5-4bea-be36-82a7aa408250"
      },
      "outputs": [
        {
          "output_type": "execute_result",
          "data": {
            "text/plain": [
              "\n",
              "    All tests passed!\n",
              "    "
            ],
            "text/html": [
              "\n",
              "    \n",
              "    \n",
              "        <p>All tests passed!</p>\n",
              "    \n",
              "    "
            ]
          },
          "metadata": {},
          "execution_count": 20
        }
      ],
      "source": [
        "grader.check(\"encoder_decoder_ppl\")"
      ]
    },
    {
      "cell_type": "markdown",
      "id": "85138f2c",
      "metadata": {
        "deletable": false,
        "editable": false,
        "id": "85138f2c"
      },
      "source": [
        "<!-- BEGIN QUESTION -->\n",
        "\n",
        "#  Decoding\n",
        "\n",
        "\n",
        "Now that we have a well-trained model, we need to consider how to use it to do the actual conversion. At decoding time, given a source sequence $x_1, \\ldots, x_S$, we want to find the target sequence $y_1^*, \\ldots, y_T^*, y_{T+1}^*$ (recall that $y _{T+1} = \\langle\\text{eos}\\rangle$) such that the conditional likelihood is maximized:\n",
        "\n",
        "\\begin{align*}\n",
        "y_1^*, \\ldots, y_T^*, y_{T+1}^* &= \\argmax{y_1, \\ldots, y_T, y_{T+1}} {\\Pr}_\\theta(y_1, \\ldots, y_T \\mid x_1, \\ldots, x_S)\\\\\n",
        "&= \\argmax{y_1, \\ldots, y_T, y_{T+1}} \\prod_{t=1}^{T+1} {\\Pr}_\\theta(y_t \\mid y_{<t}, x_1, \\ldots, x_S)\\\\\n",
        "\\end{align*}\n",
        "\n",
        "In previous labs and project segments, we used _greedy decoding_, i.e., taking $\\hat{y}_1= \\argmax{y_1} {\\Pr}_\\theta(y_1 \\mid y_{0}, x_1, \\ldots, x_S)$, $\\hat{y}_2= \\argmax{y_2} {\\Pr}_\\theta(y_2 \\mid y_{0}, \\hat{y}_1, x_1, \\ldots, x_S)$, ..., $\\hat{y}_{T+1}= \\argmax{y_{T+1}} {\\Pr}_\\theta(y_{T+1} \\mid y_{0}, \\hat{y}_1, \\ldots, \\hat{y}_{T}, x_1, \\ldots, x_S)$, until $\\hat{y}_{T+1}=\\langle\\text{eos}\\rangle$.\n",
        "\n",
        "**Question:**  Does greedy decoding guarantee finding the optimal sequence (the sequence with the highest conditional likelihood)? Why or why not?\n",
        "\n",
        "<!--\n",
        "BEGIN QUESTION\n",
        "name: open_response_decoding\n",
        "manual: true\n",
        "-->"
      ]
    },
    {
      "cell_type": "markdown",
      "id": "57642336",
      "metadata": {
        "id": "57642336"
      },
      "source": [
        "Greedy decoding does not guarantee finding the optimal sequence as it has a limited view of the context - once we find the optimal y1, for example, we lock that choice as part of the context for y2. However, it is possible that a different choice for y1 would have allowed a better choice for y2 that would have gained an overall higher probability, and so on.\n",
        "\n"
      ]
    },
    {
      "cell_type": "markdown",
      "id": "640977c7",
      "metadata": {
        "deletable": false,
        "editable": false,
        "id": "640977c7"
      },
      "source": [
        "<!-- END QUESTION -->\n",
        "\n",
        "<!-- BEGIN QUESTION -->\n",
        "\n",
        "## Beam search decoding\n",
        "\n",
        "Beam search decoding is the most commonly used decoding method in sequence-to-sequence approaches. Like greedy decoding, it uses a left-to-right search process. But instead of only keeping the single argmax at each position, beam search maintains the $K$ best partial hypotheses $H_t = \\{(y_1^{(k)}, \\ldots, y_t^{(k)}): k\\in\\{1, \\ldots, K\\}\\}$ at every step $t$. To proceed to $t+1$, we compute the scores of sequences  $y_1^{(k)}, \\ldots, y_t^{(k)}, y_{t+1}$ for every possible extension $y_{t+1}\\in \\mathcal{V}$ and every possible prefix $(y_1^{(k)}, \\ldots, y_t^{(k)}) \\in H_t$, where $\\mathcal{V}$ is the vocabulary. Among these $K\\times |\\mathcal{V}|$ sequences, we only keep the top $K$ sequences with the best partial scores, and that becomes $H_{t+1} = \\{(y_1^{(k)}, \\ldots, y_{t+1}^{(k)}): k\\in\\{1, \\ldots, K\\}\\}$. To start at $t=1$, $H_1 = \\{(y): y \\in \\text{K-argmax}_{y_1\\in\\mathcal{V}} \\log P(y_1|y_0=bos) \\}$. Here $K$ is called the beam size.\n",
        "\n",
        "To summarize,\n",
        "\n",
        "\\begin{align*}\n",
        "H_1 &= \\{(y): y \\in \\operatorname*{K-argmax}_{y_1\\in\\mathcal{V}} \\log P(y_1|y_0=bos) \\}\\\\\n",
        "H_{t+1} &= \\operatorname*{K-argmax}\\limits_{\\{(y_1, y_2, \\ldots, y_{t+1})\\in \\mathcal{V}^{t+1}: (y_1, \\ldots, y_t) \\in H_t \\}} \\log P(y_1, \\ldots, y_{t+1} | x)\n",
        "\\end{align*}\n",
        "\n",
        "until we reach a pre-specified maximum search length, and we collect the completed hypotheses along the way. (By completed we mean ending with `<eos>`.) The finished hypothesis with the best score will then be returned.\n",
        "\n",
        "**Question:** Is beam search better than greedy search when $K=1$? Is it better when $K>1$? Why? How big a $K$ value do we need to get a guarantee that we can find the globally best sequence (assuming a maximum sequence length $T$ and vocabulary size $|\\mathcal{V}|$).\n",
        "\n",
        "<!--\n",
        "BEGIN QUESTION\n",
        "name: open_response_beam_search_greedy\n",
        "manual: true\n",
        "-->"
      ]
    },
    {
      "cell_type": "markdown",
      "id": "e8638025",
      "metadata": {
        "id": "e8638025"
      },
      "source": [
        "For K=1, beam search is identical to greedy search as we only take into account the single highest probability at each step.\n",
        "When K>1, we allow ourselves some better context from the rigid greedy search so it is better.\n",
        "For K = |V|^T, we always look at all of the options which will guarantee that we find the global maximum, but it will be more computationally expensive."
      ]
    },
    {
      "cell_type": "markdown",
      "id": "95c1b35d",
      "metadata": {
        "id": "95c1b35d"
      },
      "source": [
        "<!-- END QUESTION -->\n",
        "\n",
        "\n",
        "\n",
        "Under the probabilistic formulation of sequence-to-sequence models, the partial scores are decomposable over time steps: $\\log {\\Pr}_\\theta(y_1, \\ldots, y_T \\mid x) = \\sum_{t=1}^T \\log {\\Pr}_\\theta(y_t \\mid y_{<t}, x)$. Therefore, we can save computation in the above process by maintaining the partial sums $\\sum_{t'=1}^t \\log {\\Pr}_\\theta(y_{t'}^{(k)} \\mid y_{<t'}^{(k)}, x)$, such that we only need to compute $\\log {\\Pr}_\\theta(y_{t+1} \\mid y_{<t+1}^{(k)})$ when we want to go from $t$ to $t+1$.\n",
        "\n",
        "Here is pseudo-code for the beam search algorithm to decode a single example `x` of maximum length `max_T` using a beam size of `K`.\n",
        "\n",
        "```\n",
        " 1.  def beam_search(x, K, max_T):\n",
        " 2.      finished = []        # for storing completed hypotheses\n",
        "         # Initialize the beam\n",
        " 3.      beams = [Beam(hyp=(bos), score=0)] # initial hypothesis: bos, initial score: 0\n",
        "\n",
        " 4.      for t in [1..max_T]  # main body of search over time steps           \n",
        " 5.          hypotheses = []\n",
        "\n",
        "             # Expand each beam by all possible tokens y_{t+1}\n",
        " 6.          for beam in beams:\n",
        " 7.              y_{1:t}, score = beam.hyp, beam.score\n",
        " 8.              for y_{t+1} in V:\n",
        " 9.                  y_{1:t+1} = y_{1:t} + [y_{t+1}]\n",
        " 10.                 new_score = score + log P(y_{t+1} | y_{1:t}, x)\n",
        " 11.                 hypotheses.append(Beam(hyp=y_{1:t+1}, score=new_score))\n",
        "\n",
        "             # Find K best next beams\n",
        " 12.         beams = sorted(hypotheses, key=lambda beam: -beam.score)[:K]\n",
        "\n",
        "             # Set aside finished beams (those that end in <eos>)\n",
        " 13.         for beam in beams:\n",
        " 14.             y_{t+1} = beam.hyp[-1]\n",
        " 15.             if y_{t+1} == eos:\n",
        " 16.                 finished.append(beam)\n",
        " 17.                 beams.remove(beam)\n",
        "\n",
        "             # Break the loop if everything is finished\n",
        " 18.         if len(beams) == 0:\n",
        " 19.             break              \n",
        " 20.     return sorted(finished, key=lambda beam: -beam.score)[0] # return the best finished hypothesis\n",
        "```\n"
      ]
    },
    {
      "cell_type": "markdown",
      "id": "7603cb01",
      "metadata": {
        "deletable": false,
        "editable": false,
        "id": "7603cb01"
      },
      "source": [
        "Implement function `beam_search` in the below code. Note that there are some differences from the pseudo-code: first, we maintained a `decoder_state` in addition to $y_{1:t}$ and score such that we can compute $P(y_{t+1} \\mid y_{<t+1},x)$ efficiently; second, instead of creating a list of actual hypotheses as in lines 8-11, we use tensors to get pointers to the beam id and $y_{t+1}$ that are among the best K next beams.\n",
        "\n",
        "<!--\n",
        "BEGIN QUESTION\n",
        "name: beam_search\n",
        "-->"
      ]
    },
    {
      "cell_type": "code",
      "execution_count": null,
      "id": "ce5d7aeb",
      "metadata": {
        "id": "ce5d7aeb"
      },
      "outputs": [],
      "source": [
        "MAX_T = 15     # max target length\n",
        "\n",
        "class Beam():\n",
        "  \"\"\"Helper class for storing a hypothesis, its score and its decoder hidden state.\"\"\"\n",
        "  def __init__(self, decoder_state, tokens, score):\n",
        "    self.decoder_state = decoder_state\n",
        "    self.tokens = tokens\n",
        "    self.score = score\n",
        "\n",
        "class BeamSearcher():\n",
        "  \"\"\"Main class for beam search.\"\"\"\n",
        "  def __init__(self, model):\n",
        "    self.model = model\n",
        "    self.bos_id = model.bos_id\n",
        "    self.eos_id = model.eos_id\n",
        "    self.V = model.V_tgt\n",
        "\n",
        "\n",
        "  def beam_search(self, src, src_lengths, K, max_T=MAX_T):\n",
        "    \"\"\"Performs beam search decoding.\n",
        "\n",
        "    Arguments:\n",
        "        src: src batch of size (1, max_src_len)\n",
        "        src_lengths: src lengths of size (1)\n",
        "        K: beam size\n",
        "        max_T: max possible target length considered\n",
        "    Returns:\n",
        "        a list of token ids\n",
        "    \"\"\"\n",
        "    finished = []\n",
        "    # Initialize the beam\n",
        "    self.model.eval()\n",
        "    #TODO - fill in encoder_final_state and init_beam below\n",
        "    encoder_final_state = model.forward_encoder(src, src_lengths)\n",
        "    init_beam = Beam(tokens=([self.bos_id]), score=0, decoder_state = encoder_final_state)\n",
        "    beams = [init_beam]\n",
        "\n",
        "    for t in range(max_T): # main body of search over time steps\n",
        "\n",
        "        # Expand each beam by all possible tokens y_{t+1}\n",
        "        all_total_scores = []\n",
        "        for beam in beams:\n",
        "            y_1_to_t, score, decoder_state = beam.tokens, beam.score, beam.decoder_state\n",
        "            y_t = y_1_to_t[-1]\n",
        "            #TODO - finish the code below\n",
        "            # Hint: you might want to use `model.forward_decoder_incrementally`\n",
        "            new_scores, new_state = model.forward_decoder_incrementally(decoder_state, torch.tensor(y_t).to(device))\n",
        "            decoder_state = new_state\n",
        "            total_scores = score + new_scores\n",
        "            all_total_scores.append(total_scores)\n",
        "            beam.decoder_state = decoder_state # update decoder state in the beam\n",
        "        all_total_scores = torch.stack(all_total_scores) # (K, V) when t>0, (1, V) when t=0\n",
        "\n",
        "        # Find K best next beams\n",
        "        # The below code has the same functionality as line 6-12, but is more efficient\n",
        "        all_scores_flattened = all_total_scores.view(-1) # K*V when t>0, 1*V when t=0\n",
        "        topk_scores, topk_ids = all_scores_flattened.topk(K, 0)\n",
        "        beam_ids = topk_ids.div(self.V, rounding_mode='floor')\n",
        "        next_tokens = topk_ids - beam_ids * self.V\n",
        "        new_beams = []\n",
        "        for k in range(K):\n",
        "            beam_id = beam_ids[k]       # which beam it comes from\n",
        "            y_t_plus_1 = next_tokens[k] # which y_{t+1}\n",
        "            score = topk_scores[k]\n",
        "            beam = beams[beam_id]\n",
        "            decoder_state = beam.decoder_state\n",
        "            y_1_to_t = beam.tokens\n",
        "            #TODO\n",
        "            new_beam = Beam(tokens= y_1_to_t + [y_t_plus_1], score=score, decoder_state = decoder_state)\n",
        "            new_beams.append(new_beam)\n",
        "        beams = new_beams\n",
        "\n",
        "        # Set aside completed beams\n",
        "        # TODO - move completed beams to `finished` (and remove them from `beams`)\n",
        "        for beam in beams:\n",
        "          if beam.tokens[-1] == self.eos_id:\n",
        "            beam.tokens = torch.tensor(beam.tokens)\n",
        "            finished.append(beam)\n",
        "            beams.remove(beam)\n",
        "\n",
        "        # Break the loop if everything is completed\n",
        "        if len(beams) == 0:\n",
        "            break\n",
        "\n",
        "    # Return the best hypothesis\n",
        "    if len(finished) > 0:\n",
        "        finished = sorted(finished, key=lambda beam: -beam.score)\n",
        "        return [token.item() for token in finished[0].tokens]\n",
        "    else: # when nothing is finished, return an unfinished hypothesis\n",
        "        return [token.item() for token in beams[0].tokens]"
      ]
    },
    {
      "cell_type": "code",
      "execution_count": null,
      "id": "240814d3",
      "metadata": {
        "deletable": false,
        "editable": false,
        "id": "240814d3",
        "colab": {
          "base_uri": "https://localhost:8080/",
          "height": 46
        },
        "outputId": "7c522dea-6b9c-465e-fe71-21da4dcbb3df"
      },
      "outputs": [
        {
          "output_type": "execute_result",
          "data": {
            "text/plain": [
              "\n",
              "    All tests passed!\n",
              "    "
            ],
            "text/html": [
              "\n",
              "    \n",
              "    \n",
              "        <p>All tests passed!</p>\n",
              "    \n",
              "    "
            ]
          },
          "metadata": {},
          "execution_count": 54
        }
      ],
      "source": [
        "grader.check(\"beam_search\")"
      ]
    },
    {
      "cell_type": "markdown",
      "id": "6b2bf4e0",
      "metadata": {
        "id": "6b2bf4e0"
      },
      "source": [
        "Now we can use beam search decoding to predict the outputs for the test set inputs using the trained model."
      ]
    },
    {
      "cell_type": "code",
      "execution_count": null,
      "id": "b221d614",
      "metadata": {
        "id": "b221d614",
        "colab": {
          "base_uri": "https://localhost:8080/"
        },
        "outputId": "1dbb666a-661b-4282-85a8-44ebefc1e375"
      },
      "outputs": [
        {
          "output_type": "stream",
          "name": "stderr",
          "text": [
            "<ipython-input-53-52f460b6086b>:47: UserWarning: To copy construct from a tensor, it is recommended to use sourceTensor.clone().detach() or sourceTensor.clone().detach().requires_grad_(True), rather than torch.tensor(sourceTensor).\n",
            "  new_scores, new_state = model.forward_decoder_incrementally(decoder_state, torch.tensor(y_t).to(device))\n"
          ]
        },
        {
          "output_type": "stream",
          "name": "stdout",
          "text": [
            "Source:       1. sixteen thousand eight hundred and thirty two\n",
            "Prediction:   1 6 8 3 2\n",
            "Ground truth: 1 6 8 3 2\n",
            "\n",
            "Source:       2. sixty seven million six hundred and eighty five thousand two hundred and thirty\n",
            "Prediction:   6 7 6 8 5 2 3 0\n",
            "Ground truth: 6 7 6 8 5 2 3 0\n",
            "\n",
            "Source:       3. six thousand two hundred and twelve\n",
            "Prediction:   6 2 1 2\n",
            "Ground truth: 6 2 1 2\n",
            "\n",
            "Source:       4. seven hundred and ninety eight million three hundred and thirty one thousand eight hundred and eighteen\n",
            "Prediction:   7 9 8 3 3 1 8 1 8\n",
            "Ground truth: 7 9 8 3 3 1 8 1 8\n",
            "\n",
            "Source:       5. eighty eight million four hundred and thirteen thousand nine hundred and eighteen\n",
            "Prediction:   8 8 4 1 3 9 1 8\n",
            "Ground truth: 8 8 4 1 3 9 1 8\n",
            "\n",
            "Source:       6. three hundred and seventy four thousand two hundred and seventy\n",
            "Prediction:   3 7 4 2 7 0\n",
            "Ground truth: 3 7 4 2 7 0\n",
            "\n",
            "Source:       7. ninety eight million three hundred and seventy thousand five hundred and forty five\n",
            "Prediction:   9 8 3 7 0 5 4 5\n",
            "Ground truth: 9 8 3 7 0 5 4 5\n",
            "\n",
            "Source:       8. ninety seven thousand seven hundred and sixty two\n",
            "Prediction:   9 7 7 6 2\n",
            "Ground truth: 9 7 7 6 2\n",
            "\n",
            "Source:       9. four hundred and ten thousand two hundred and three\n",
            "Prediction:   4 1 0 2 0 3\n",
            "Ground truth: 4 1 0 2 0 3\n",
            "\n",
            "Source:       10. five hundred and ninety eight thousand three hundred and ninety seven\n",
            "Prediction:   5 9 8 3 9 7\n",
            "Ground truth: 5 9 8 3 9 7\n",
            "\n",
            "Accuracy: 0.95\n"
          ]
        }
      ],
      "source": [
        "DEBUG_FIRST = 10  # set to 0 to disable printing predictions\n",
        "K = 5             # beam size 5\n",
        "\n",
        "correct = 0\n",
        "total = 0\n",
        "\n",
        "# create beam searcher\n",
        "beam_searcher = BeamSearcher(model)\n",
        "\n",
        "for index, batch in enumerate(test_iter, start=1):\n",
        "  # Input and output\n",
        "  src = batch['src_ids']\n",
        "  src_lengths = batch['src_lengths']\n",
        "  # Predict\n",
        "  prediction = beam_searcher.beam_search(src, src_lengths, K)\n",
        "  # Convert to string\n",
        "  prediction = hf_tgt_tokenizer.decode(prediction, skip_special_tokens=True)\n",
        "  ground_truth = hf_tgt_tokenizer.decode(batch['tgt_ids'][0], skip_special_tokens=True)\n",
        "  # Print out the first few examples\n",
        "  if DEBUG_FIRST >= index :\n",
        "    src = hf_src_tokenizer.decode(src[0], skip_special_tokens=True)\n",
        "    print (f'Source:       {index}. {src}\\n'\n",
        "           f'Prediction:   {prediction}\\n'\n",
        "           f'Ground truth: {ground_truth}\\n')\n",
        "  if ground_truth == prediction:\n",
        "    correct += 1\n",
        "  total += 1\n",
        "\n",
        "print (f'Accuracy: {correct/total:.2f}')"
      ]
    },
    {
      "cell_type": "markdown",
      "id": "293f8141",
      "metadata": {
        "id": "293f8141"
      },
      "source": [
        "You might have noticed that using a larger $K$ might lead to very similar performance as using $K=1$ (greedy decoding). This is largely due to the fact that there are no dependencies among target tokens in our dataset (e.g., knowing that $y_1$ is 1 does not affect our prediction on $y_2$ conditioned on the source). In real world applications, people usually find using a fixed value of $K>1$ (such as $K=5$) performs better than greedy decoding."
      ]
    },
    {
      "cell_type": "markdown",
      "id": "f55044a8",
      "metadata": {
        "deletable": false,
        "editable": false,
        "id": "f55044a8"
      },
      "source": [
        "<!-- BEGIN QUESTION -->\n",
        "\n",
        "**Question:** Can we use beam search decoding to decode an HMM? For state space $Q$, sequence length $T$, what is the complexity of beam search with beam size $K$? What is the complexity of Viterbi decoding? What are their pros and cons?\n",
        "\n",
        "<!--\n",
        "BEGIN QUESTION\n",
        "name: open_response_decoding_hmm\n",
        "manual: true\n",
        "-->"
      ]
    },
    {
      "cell_type": "markdown",
      "id": "cc0de70e",
      "metadata": {
        "id": "cc0de70e"
      },
      "source": [
        "If we replace the tokens with the sequence and the vocabulary with the state space, we can use beam search to decode an HMM.\n",
        "The complexity will be O(TKQ).\n",
        "The complexity of the viterbi algorithm is O(T*Q^2).\n",
        "Since we can choose K to be not larger than Q, beam search will be faster.\n",
        "However, viterbi looks at all options and therefore is guaranteed to give the best decoding, while beam searching might miss it because of its semi - greedy approach."
      ]
    },
    {
      "cell_type": "markdown",
      "id": "bf9c0d1b",
      "metadata": {
        "deletable": false,
        "editable": false,
        "id": "bf9c0d1b"
      },
      "source": [
        "<!-- END QUESTION -->\n",
        "\n",
        "<!-- BEGIN QUESTION -->\n",
        "\n",
        "# Lab debrief\n",
        "\n",
        "**Question:** We're interested in any thoughts your group has about this lab so that we can improve this lab for later years, and to inform later labs for this year. Please list any issues that arose or comments you have to improve the lab. Useful things to comment on might include the following:\n",
        "\n",
        "* Was the lab too long or too short?\n",
        "* Were the readings appropriate for the lab?\n",
        "* Was it clear (at least after you completed the lab) what the points of the exercises were?\n",
        "* Are there additions or changes you think would make the lab better?\n",
        "\n",
        "but you should comment on whatever aspects you found especially positive or negative.\n",
        "\n",
        "<!--\n",
        "BEGIN QUESTION\n",
        "name: open_response_debrief\n",
        "manual: true\n",
        "-->"
      ]
    },
    {
      "cell_type": "markdown",
      "id": "9defa93a",
      "metadata": {
        "id": "9defa93a"
      },
      "source": [
        "_Type your answer here, replacing this text._"
      ]
    },
    {
      "cell_type": "markdown",
      "id": "5fb96e0c",
      "metadata": {
        "id": "5fb96e0c"
      },
      "source": [
        "<!-- END QUESTION -->\n",
        "\n",
        "\n",
        "\n",
        "# End of Lab 4-4"
      ]
    },
    {
      "cell_type": "markdown",
      "id": "a475d427",
      "metadata": {
        "deletable": false,
        "editable": false,
        "id": "a475d427"
      },
      "source": [
        "---\n",
        "\n",
        "To double-check your work, the cell below will rerun all of the autograder tests."
      ]
    },
    {
      "cell_type": "code",
      "execution_count": null,
      "id": "ef9fb86e",
      "metadata": {
        "deletable": false,
        "editable": false,
        "id": "ef9fb86e",
        "colab": {
          "base_uri": "https://localhost:8080/",
          "height": 116
        },
        "outputId": "1ee6644d-6a55-47d8-d02a-280576a09ba9"
      },
      "outputs": [
        {
          "output_type": "execute_result",
          "data": {
            "text/plain": [
              "beam_search:\n",
              "\n",
              "    All tests passed!\n",
              "    \n",
              "\n",
              "encoder_decoder_ppl:\n",
              "\n",
              "    All tests passed!\n",
              "    \n"
            ],
            "text/html": [
              "<p><strong>beam_search:</strong></p>\n",
              "\n",
              "    \n",
              "    \n",
              "        <p>All tests passed!</p>\n",
              "    \n",
              "    \n",
              "\n",
              "<p><strong>encoder_decoder_ppl:</strong></p>\n",
              "\n",
              "    \n",
              "    \n",
              "        <p>All tests passed!</p>\n",
              "    \n",
              "    \n",
              "\n"
            ]
          },
          "metadata": {},
          "execution_count": 56
        }
      ],
      "source": [
        "grader.check_all()"
      ]
    }
  ],
  "metadata": {
    "accelerator": "GPU",
    "colab": {
      "provenance": [],
      "toc_visible": true
    },
    "kernelspec": {
      "display_name": "otter-latest",
      "language": "python",
      "name": "python3"
    },
    "language_info": {
      "codemirror_mode": {
        "name": "ipython",
        "version": 3
      },
      "file_extension": ".py",
      "mimetype": "text/x-python",
      "name": "python",
      "nbconvert_exporter": "python",
      "pygments_lexer": "ipython3",
      "version": "3.8.3"
    },
    "title": "CS236299 Lab 4-4: Sequence-to-sequence models",
    "vscode": {
      "interpreter": {
        "hash": "4fba83c08fc02185bb2310bd24d0cd81fb04529c933f82aa81c61aab9d5528dc"
      }
    },
    "widgets": {
      "application/vnd.jupyter.widget-state+json": {
        "79661abea3f34758854afefdce3a3f32": {
          "model_module": "@jupyter-widgets/controls",
          "model_name": "HBoxModel",
          "model_module_version": "1.5.0",
          "state": {
            "_dom_classes": [],
            "_model_module": "@jupyter-widgets/controls",
            "_model_module_version": "1.5.0",
            "_model_name": "HBoxModel",
            "_view_count": null,
            "_view_module": "@jupyter-widgets/controls",
            "_view_module_version": "1.5.0",
            "_view_name": "HBoxView",
            "box_style": "",
            "children": [
              "IPY_MODEL_30c22d0ac19c44528074dd5f8f1b104b",
              "IPY_MODEL_aceae270e8264a008d78411dc1d10cc5",
              "IPY_MODEL_3d006fa7f0e34616af67a75d1eb3e4d7"
            ],
            "layout": "IPY_MODEL_b8159238c0f44a69ac30f00a5211e141"
          }
        },
        "30c22d0ac19c44528074dd5f8f1b104b": {
          "model_module": "@jupyter-widgets/controls",
          "model_name": "HTMLModel",
          "model_module_version": "1.5.0",
          "state": {
            "_dom_classes": [],
            "_model_module": "@jupyter-widgets/controls",
            "_model_module_version": "1.5.0",
            "_model_name": "HTMLModel",
            "_view_count": null,
            "_view_module": "@jupyter-widgets/controls",
            "_view_module_version": "1.5.0",
            "_view_name": "HTMLView",
            "description": "",
            "description_tooltip": null,
            "layout": "IPY_MODEL_1e4982387c834c44a4ab022d52b54aea",
            "placeholder": "​",
            "style": "IPY_MODEL_cdb5d4bf2c9146cd9e49bc9ecf417e1d",
            "value": "Downloading data files: 100%"
          }
        },
        "aceae270e8264a008d78411dc1d10cc5": {
          "model_module": "@jupyter-widgets/controls",
          "model_name": "FloatProgressModel",
          "model_module_version": "1.5.0",
          "state": {
            "_dom_classes": [],
            "_model_module": "@jupyter-widgets/controls",
            "_model_module_version": "1.5.0",
            "_model_name": "FloatProgressModel",
            "_view_count": null,
            "_view_module": "@jupyter-widgets/controls",
            "_view_module_version": "1.5.0",
            "_view_name": "ProgressView",
            "bar_style": "success",
            "description": "",
            "description_tooltip": null,
            "layout": "IPY_MODEL_745b1c1621de4eea902703d042b61c41",
            "max": 3,
            "min": 0,
            "orientation": "horizontal",
            "style": "IPY_MODEL_98d8cbb81c404118b5303bf51dc7d471",
            "value": 3
          }
        },
        "3d006fa7f0e34616af67a75d1eb3e4d7": {
          "model_module": "@jupyter-widgets/controls",
          "model_name": "HTMLModel",
          "model_module_version": "1.5.0",
          "state": {
            "_dom_classes": [],
            "_model_module": "@jupyter-widgets/controls",
            "_model_module_version": "1.5.0",
            "_model_name": "HTMLModel",
            "_view_count": null,
            "_view_module": "@jupyter-widgets/controls",
            "_view_module_version": "1.5.0",
            "_view_name": "HTMLView",
            "description": "",
            "description_tooltip": null,
            "layout": "IPY_MODEL_78abcd3802f34c04941acc5fc08c4fbc",
            "placeholder": "​",
            "style": "IPY_MODEL_493cbec4ad434c5daa235e902b3b34a1",
            "value": " 3/3 [00:00&lt;00:00, 176.72it/s]"
          }
        },
        "b8159238c0f44a69ac30f00a5211e141": {
          "model_module": "@jupyter-widgets/base",
          "model_name": "LayoutModel",
          "model_module_version": "1.2.0",
          "state": {
            "_model_module": "@jupyter-widgets/base",
            "_model_module_version": "1.2.0",
            "_model_name": "LayoutModel",
            "_view_count": null,
            "_view_module": "@jupyter-widgets/base",
            "_view_module_version": "1.2.0",
            "_view_name": "LayoutView",
            "align_content": null,
            "align_items": null,
            "align_self": null,
            "border": null,
            "bottom": null,
            "display": null,
            "flex": null,
            "flex_flow": null,
            "grid_area": null,
            "grid_auto_columns": null,
            "grid_auto_flow": null,
            "grid_auto_rows": null,
            "grid_column": null,
            "grid_gap": null,
            "grid_row": null,
            "grid_template_areas": null,
            "grid_template_columns": null,
            "grid_template_rows": null,
            "height": null,
            "justify_content": null,
            "justify_items": null,
            "left": null,
            "margin": null,
            "max_height": null,
            "max_width": null,
            "min_height": null,
            "min_width": null,
            "object_fit": null,
            "object_position": null,
            "order": null,
            "overflow": null,
            "overflow_x": null,
            "overflow_y": null,
            "padding": null,
            "right": null,
            "top": null,
            "visibility": null,
            "width": null
          }
        },
        "1e4982387c834c44a4ab022d52b54aea": {
          "model_module": "@jupyter-widgets/base",
          "model_name": "LayoutModel",
          "model_module_version": "1.2.0",
          "state": {
            "_model_module": "@jupyter-widgets/base",
            "_model_module_version": "1.2.0",
            "_model_name": "LayoutModel",
            "_view_count": null,
            "_view_module": "@jupyter-widgets/base",
            "_view_module_version": "1.2.0",
            "_view_name": "LayoutView",
            "align_content": null,
            "align_items": null,
            "align_self": null,
            "border": null,
            "bottom": null,
            "display": null,
            "flex": null,
            "flex_flow": null,
            "grid_area": null,
            "grid_auto_columns": null,
            "grid_auto_flow": null,
            "grid_auto_rows": null,
            "grid_column": null,
            "grid_gap": null,
            "grid_row": null,
            "grid_template_areas": null,
            "grid_template_columns": null,
            "grid_template_rows": null,
            "height": null,
            "justify_content": null,
            "justify_items": null,
            "left": null,
            "margin": null,
            "max_height": null,
            "max_width": null,
            "min_height": null,
            "min_width": null,
            "object_fit": null,
            "object_position": null,
            "order": null,
            "overflow": null,
            "overflow_x": null,
            "overflow_y": null,
            "padding": null,
            "right": null,
            "top": null,
            "visibility": null,
            "width": null
          }
        },
        "cdb5d4bf2c9146cd9e49bc9ecf417e1d": {
          "model_module": "@jupyter-widgets/controls",
          "model_name": "DescriptionStyleModel",
          "model_module_version": "1.5.0",
          "state": {
            "_model_module": "@jupyter-widgets/controls",
            "_model_module_version": "1.5.0",
            "_model_name": "DescriptionStyleModel",
            "_view_count": null,
            "_view_module": "@jupyter-widgets/base",
            "_view_module_version": "1.2.0",
            "_view_name": "StyleView",
            "description_width": ""
          }
        },
        "745b1c1621de4eea902703d042b61c41": {
          "model_module": "@jupyter-widgets/base",
          "model_name": "LayoutModel",
          "model_module_version": "1.2.0",
          "state": {
            "_model_module": "@jupyter-widgets/base",
            "_model_module_version": "1.2.0",
            "_model_name": "LayoutModel",
            "_view_count": null,
            "_view_module": "@jupyter-widgets/base",
            "_view_module_version": "1.2.0",
            "_view_name": "LayoutView",
            "align_content": null,
            "align_items": null,
            "align_self": null,
            "border": null,
            "bottom": null,
            "display": null,
            "flex": null,
            "flex_flow": null,
            "grid_area": null,
            "grid_auto_columns": null,
            "grid_auto_flow": null,
            "grid_auto_rows": null,
            "grid_column": null,
            "grid_gap": null,
            "grid_row": null,
            "grid_template_areas": null,
            "grid_template_columns": null,
            "grid_template_rows": null,
            "height": null,
            "justify_content": null,
            "justify_items": null,
            "left": null,
            "margin": null,
            "max_height": null,
            "max_width": null,
            "min_height": null,
            "min_width": null,
            "object_fit": null,
            "object_position": null,
            "order": null,
            "overflow": null,
            "overflow_x": null,
            "overflow_y": null,
            "padding": null,
            "right": null,
            "top": null,
            "visibility": null,
            "width": null
          }
        },
        "98d8cbb81c404118b5303bf51dc7d471": {
          "model_module": "@jupyter-widgets/controls",
          "model_name": "ProgressStyleModel",
          "model_module_version": "1.5.0",
          "state": {
            "_model_module": "@jupyter-widgets/controls",
            "_model_module_version": "1.5.0",
            "_model_name": "ProgressStyleModel",
            "_view_count": null,
            "_view_module": "@jupyter-widgets/base",
            "_view_module_version": "1.2.0",
            "_view_name": "StyleView",
            "bar_color": null,
            "description_width": ""
          }
        },
        "78abcd3802f34c04941acc5fc08c4fbc": {
          "model_module": "@jupyter-widgets/base",
          "model_name": "LayoutModel",
          "model_module_version": "1.2.0",
          "state": {
            "_model_module": "@jupyter-widgets/base",
            "_model_module_version": "1.2.0",
            "_model_name": "LayoutModel",
            "_view_count": null,
            "_view_module": "@jupyter-widgets/base",
            "_view_module_version": "1.2.0",
            "_view_name": "LayoutView",
            "align_content": null,
            "align_items": null,
            "align_self": null,
            "border": null,
            "bottom": null,
            "display": null,
            "flex": null,
            "flex_flow": null,
            "grid_area": null,
            "grid_auto_columns": null,
            "grid_auto_flow": null,
            "grid_auto_rows": null,
            "grid_column": null,
            "grid_gap": null,
            "grid_row": null,
            "grid_template_areas": null,
            "grid_template_columns": null,
            "grid_template_rows": null,
            "height": null,
            "justify_content": null,
            "justify_items": null,
            "left": null,
            "margin": null,
            "max_height": null,
            "max_width": null,
            "min_height": null,
            "min_width": null,
            "object_fit": null,
            "object_position": null,
            "order": null,
            "overflow": null,
            "overflow_x": null,
            "overflow_y": null,
            "padding": null,
            "right": null,
            "top": null,
            "visibility": null,
            "width": null
          }
        },
        "493cbec4ad434c5daa235e902b3b34a1": {
          "model_module": "@jupyter-widgets/controls",
          "model_name": "DescriptionStyleModel",
          "model_module_version": "1.5.0",
          "state": {
            "_model_module": "@jupyter-widgets/controls",
            "_model_module_version": "1.5.0",
            "_model_name": "DescriptionStyleModel",
            "_view_count": null,
            "_view_module": "@jupyter-widgets/base",
            "_view_module_version": "1.2.0",
            "_view_name": "StyleView",
            "description_width": ""
          }
        },
        "3dc7348fb5284ff6b9080ad6772a6fbf": {
          "model_module": "@jupyter-widgets/controls",
          "model_name": "HBoxModel",
          "model_module_version": "1.5.0",
          "state": {
            "_dom_classes": [],
            "_model_module": "@jupyter-widgets/controls",
            "_model_module_version": "1.5.0",
            "_model_name": "HBoxModel",
            "_view_count": null,
            "_view_module": "@jupyter-widgets/controls",
            "_view_module_version": "1.5.0",
            "_view_name": "HBoxView",
            "box_style": "",
            "children": [
              "IPY_MODEL_382e872d425946c3ab3f30ccdac3800f",
              "IPY_MODEL_b18a4328bfa14ff48d275611286d1752",
              "IPY_MODEL_43ad05fd09f14d97b63594aeb285d340"
            ],
            "layout": "IPY_MODEL_0e4701f50e6f4555998f8ca5e602e1d5"
          }
        },
        "382e872d425946c3ab3f30ccdac3800f": {
          "model_module": "@jupyter-widgets/controls",
          "model_name": "HTMLModel",
          "model_module_version": "1.5.0",
          "state": {
            "_dom_classes": [],
            "_model_module": "@jupyter-widgets/controls",
            "_model_module_version": "1.5.0",
            "_model_name": "HTMLModel",
            "_view_count": null,
            "_view_module": "@jupyter-widgets/controls",
            "_view_module_version": "1.5.0",
            "_view_name": "HTMLView",
            "description": "",
            "description_tooltip": null,
            "layout": "IPY_MODEL_f61bf93c909d43aaac4786ee16cc8e82",
            "placeholder": "​",
            "style": "IPY_MODEL_25580b80c8c5432297761eb39beecbfc",
            "value": "Extracting data files: 100%"
          }
        },
        "b18a4328bfa14ff48d275611286d1752": {
          "model_module": "@jupyter-widgets/controls",
          "model_name": "FloatProgressModel",
          "model_module_version": "1.5.0",
          "state": {
            "_dom_classes": [],
            "_model_module": "@jupyter-widgets/controls",
            "_model_module_version": "1.5.0",
            "_model_name": "FloatProgressModel",
            "_view_count": null,
            "_view_module": "@jupyter-widgets/controls",
            "_view_module_version": "1.5.0",
            "_view_name": "ProgressView",
            "bar_style": "success",
            "description": "",
            "description_tooltip": null,
            "layout": "IPY_MODEL_3c55913225424fb89cae176e83bb672e",
            "max": 3,
            "min": 0,
            "orientation": "horizontal",
            "style": "IPY_MODEL_54bd7a91637d476ea731fe0abdf7ac40",
            "value": 3
          }
        },
        "43ad05fd09f14d97b63594aeb285d340": {
          "model_module": "@jupyter-widgets/controls",
          "model_name": "HTMLModel",
          "model_module_version": "1.5.0",
          "state": {
            "_dom_classes": [],
            "_model_module": "@jupyter-widgets/controls",
            "_model_module_version": "1.5.0",
            "_model_name": "HTMLModel",
            "_view_count": null,
            "_view_module": "@jupyter-widgets/controls",
            "_view_module_version": "1.5.0",
            "_view_name": "HTMLView",
            "description": "",
            "description_tooltip": null,
            "layout": "IPY_MODEL_81586067a5a243ee889c59aefd1aa4c5",
            "placeholder": "​",
            "style": "IPY_MODEL_5dbecb9b1e794ad09d3af6a2cf8650dc",
            "value": " 3/3 [00:00&lt;00:00, 142.24it/s]"
          }
        },
        "0e4701f50e6f4555998f8ca5e602e1d5": {
          "model_module": "@jupyter-widgets/base",
          "model_name": "LayoutModel",
          "model_module_version": "1.2.0",
          "state": {
            "_model_module": "@jupyter-widgets/base",
            "_model_module_version": "1.2.0",
            "_model_name": "LayoutModel",
            "_view_count": null,
            "_view_module": "@jupyter-widgets/base",
            "_view_module_version": "1.2.0",
            "_view_name": "LayoutView",
            "align_content": null,
            "align_items": null,
            "align_self": null,
            "border": null,
            "bottom": null,
            "display": null,
            "flex": null,
            "flex_flow": null,
            "grid_area": null,
            "grid_auto_columns": null,
            "grid_auto_flow": null,
            "grid_auto_rows": null,
            "grid_column": null,
            "grid_gap": null,
            "grid_row": null,
            "grid_template_areas": null,
            "grid_template_columns": null,
            "grid_template_rows": null,
            "height": null,
            "justify_content": null,
            "justify_items": null,
            "left": null,
            "margin": null,
            "max_height": null,
            "max_width": null,
            "min_height": null,
            "min_width": null,
            "object_fit": null,
            "object_position": null,
            "order": null,
            "overflow": null,
            "overflow_x": null,
            "overflow_y": null,
            "padding": null,
            "right": null,
            "top": null,
            "visibility": null,
            "width": null
          }
        },
        "f61bf93c909d43aaac4786ee16cc8e82": {
          "model_module": "@jupyter-widgets/base",
          "model_name": "LayoutModel",
          "model_module_version": "1.2.0",
          "state": {
            "_model_module": "@jupyter-widgets/base",
            "_model_module_version": "1.2.0",
            "_model_name": "LayoutModel",
            "_view_count": null,
            "_view_module": "@jupyter-widgets/base",
            "_view_module_version": "1.2.0",
            "_view_name": "LayoutView",
            "align_content": null,
            "align_items": null,
            "align_self": null,
            "border": null,
            "bottom": null,
            "display": null,
            "flex": null,
            "flex_flow": null,
            "grid_area": null,
            "grid_auto_columns": null,
            "grid_auto_flow": null,
            "grid_auto_rows": null,
            "grid_column": null,
            "grid_gap": null,
            "grid_row": null,
            "grid_template_areas": null,
            "grid_template_columns": null,
            "grid_template_rows": null,
            "height": null,
            "justify_content": null,
            "justify_items": null,
            "left": null,
            "margin": null,
            "max_height": null,
            "max_width": null,
            "min_height": null,
            "min_width": null,
            "object_fit": null,
            "object_position": null,
            "order": null,
            "overflow": null,
            "overflow_x": null,
            "overflow_y": null,
            "padding": null,
            "right": null,
            "top": null,
            "visibility": null,
            "width": null
          }
        },
        "25580b80c8c5432297761eb39beecbfc": {
          "model_module": "@jupyter-widgets/controls",
          "model_name": "DescriptionStyleModel",
          "model_module_version": "1.5.0",
          "state": {
            "_model_module": "@jupyter-widgets/controls",
            "_model_module_version": "1.5.0",
            "_model_name": "DescriptionStyleModel",
            "_view_count": null,
            "_view_module": "@jupyter-widgets/base",
            "_view_module_version": "1.2.0",
            "_view_name": "StyleView",
            "description_width": ""
          }
        },
        "3c55913225424fb89cae176e83bb672e": {
          "model_module": "@jupyter-widgets/base",
          "model_name": "LayoutModel",
          "model_module_version": "1.2.0",
          "state": {
            "_model_module": "@jupyter-widgets/base",
            "_model_module_version": "1.2.0",
            "_model_name": "LayoutModel",
            "_view_count": null,
            "_view_module": "@jupyter-widgets/base",
            "_view_module_version": "1.2.0",
            "_view_name": "LayoutView",
            "align_content": null,
            "align_items": null,
            "align_self": null,
            "border": null,
            "bottom": null,
            "display": null,
            "flex": null,
            "flex_flow": null,
            "grid_area": null,
            "grid_auto_columns": null,
            "grid_auto_flow": null,
            "grid_auto_rows": null,
            "grid_column": null,
            "grid_gap": null,
            "grid_row": null,
            "grid_template_areas": null,
            "grid_template_columns": null,
            "grid_template_rows": null,
            "height": null,
            "justify_content": null,
            "justify_items": null,
            "left": null,
            "margin": null,
            "max_height": null,
            "max_width": null,
            "min_height": null,
            "min_width": null,
            "object_fit": null,
            "object_position": null,
            "order": null,
            "overflow": null,
            "overflow_x": null,
            "overflow_y": null,
            "padding": null,
            "right": null,
            "top": null,
            "visibility": null,
            "width": null
          }
        },
        "54bd7a91637d476ea731fe0abdf7ac40": {
          "model_module": "@jupyter-widgets/controls",
          "model_name": "ProgressStyleModel",
          "model_module_version": "1.5.0",
          "state": {
            "_model_module": "@jupyter-widgets/controls",
            "_model_module_version": "1.5.0",
            "_model_name": "ProgressStyleModel",
            "_view_count": null,
            "_view_module": "@jupyter-widgets/base",
            "_view_module_version": "1.2.0",
            "_view_name": "StyleView",
            "bar_color": null,
            "description_width": ""
          }
        },
        "81586067a5a243ee889c59aefd1aa4c5": {
          "model_module": "@jupyter-widgets/base",
          "model_name": "LayoutModel",
          "model_module_version": "1.2.0",
          "state": {
            "_model_module": "@jupyter-widgets/base",
            "_model_module_version": "1.2.0",
            "_model_name": "LayoutModel",
            "_view_count": null,
            "_view_module": "@jupyter-widgets/base",
            "_view_module_version": "1.2.0",
            "_view_name": "LayoutView",
            "align_content": null,
            "align_items": null,
            "align_self": null,
            "border": null,
            "bottom": null,
            "display": null,
            "flex": null,
            "flex_flow": null,
            "grid_area": null,
            "grid_auto_columns": null,
            "grid_auto_flow": null,
            "grid_auto_rows": null,
            "grid_column": null,
            "grid_gap": null,
            "grid_row": null,
            "grid_template_areas": null,
            "grid_template_columns": null,
            "grid_template_rows": null,
            "height": null,
            "justify_content": null,
            "justify_items": null,
            "left": null,
            "margin": null,
            "max_height": null,
            "max_width": null,
            "min_height": null,
            "min_width": null,
            "object_fit": null,
            "object_position": null,
            "order": null,
            "overflow": null,
            "overflow_x": null,
            "overflow_y": null,
            "padding": null,
            "right": null,
            "top": null,
            "visibility": null,
            "width": null
          }
        },
        "5dbecb9b1e794ad09d3af6a2cf8650dc": {
          "model_module": "@jupyter-widgets/controls",
          "model_name": "DescriptionStyleModel",
          "model_module_version": "1.5.0",
          "state": {
            "_model_module": "@jupyter-widgets/controls",
            "_model_module_version": "1.5.0",
            "_model_name": "DescriptionStyleModel",
            "_view_count": null,
            "_view_module": "@jupyter-widgets/base",
            "_view_module_version": "1.2.0",
            "_view_name": "StyleView",
            "description_width": ""
          }
        },
        "cb8041de130c4073a9c2ada74d3e1bcf": {
          "model_module": "@jupyter-widgets/controls",
          "model_name": "HBoxModel",
          "model_module_version": "1.5.0",
          "state": {
            "_dom_classes": [],
            "_model_module": "@jupyter-widgets/controls",
            "_model_module_version": "1.5.0",
            "_model_name": "HBoxModel",
            "_view_count": null,
            "_view_module": "@jupyter-widgets/controls",
            "_view_module_version": "1.5.0",
            "_view_name": "HBoxView",
            "box_style": "",
            "children": [
              "IPY_MODEL_c260c75ce2a644429c44c7507f17ff45",
              "IPY_MODEL_16bd3e90afe945e2b0fe0696ce3d371f",
              "IPY_MODEL_45413ff37b0f4430bc4553f322cdacce"
            ],
            "layout": "IPY_MODEL_ca233947ba144e919d9a2dbdea6569ac"
          }
        },
        "c260c75ce2a644429c44c7507f17ff45": {
          "model_module": "@jupyter-widgets/controls",
          "model_name": "HTMLModel",
          "model_module_version": "1.5.0",
          "state": {
            "_dom_classes": [],
            "_model_module": "@jupyter-widgets/controls",
            "_model_module_version": "1.5.0",
            "_model_name": "HTMLModel",
            "_view_count": null,
            "_view_module": "@jupyter-widgets/controls",
            "_view_module_version": "1.5.0",
            "_view_name": "HTMLView",
            "description": "",
            "description_tooltip": null,
            "layout": "IPY_MODEL_a44d7ad93a194632b34d595888941f37",
            "placeholder": "​",
            "style": "IPY_MODEL_8dc2aaff087b4b9dae0a283b42e76594",
            "value": "Generating train split: "
          }
        },
        "16bd3e90afe945e2b0fe0696ce3d371f": {
          "model_module": "@jupyter-widgets/controls",
          "model_name": "FloatProgressModel",
          "model_module_version": "1.5.0",
          "state": {
            "_dom_classes": [],
            "_model_module": "@jupyter-widgets/controls",
            "_model_module_version": "1.5.0",
            "_model_name": "FloatProgressModel",
            "_view_count": null,
            "_view_module": "@jupyter-widgets/controls",
            "_view_module_version": "1.5.0",
            "_view_name": "ProgressView",
            "bar_style": "info",
            "description": "",
            "description_tooltip": null,
            "layout": "IPY_MODEL_4cbd478e9dce413b995212351f1c8e94",
            "max": 1,
            "min": 0,
            "orientation": "horizontal",
            "style": "IPY_MODEL_523c416ac4a140d897e7c1dbecb9c940",
            "value": 1
          }
        },
        "45413ff37b0f4430bc4553f322cdacce": {
          "model_module": "@jupyter-widgets/controls",
          "model_name": "HTMLModel",
          "model_module_version": "1.5.0",
          "state": {
            "_dom_classes": [],
            "_model_module": "@jupyter-widgets/controls",
            "_model_module_version": "1.5.0",
            "_model_name": "HTMLModel",
            "_view_count": null,
            "_view_module": "@jupyter-widgets/controls",
            "_view_module_version": "1.5.0",
            "_view_name": "HTMLView",
            "description": "",
            "description_tooltip": null,
            "layout": "IPY_MODEL_f812194f37ab47d280d66923ab765b63",
            "placeholder": "​",
            "style": "IPY_MODEL_af3071311cf841faa852728b5306d0a2",
            "value": " 30000/0 [00:00&lt;00:00, 190763.48 examples/s]"
          }
        },
        "ca233947ba144e919d9a2dbdea6569ac": {
          "model_module": "@jupyter-widgets/base",
          "model_name": "LayoutModel",
          "model_module_version": "1.2.0",
          "state": {
            "_model_module": "@jupyter-widgets/base",
            "_model_module_version": "1.2.0",
            "_model_name": "LayoutModel",
            "_view_count": null,
            "_view_module": "@jupyter-widgets/base",
            "_view_module_version": "1.2.0",
            "_view_name": "LayoutView",
            "align_content": null,
            "align_items": null,
            "align_self": null,
            "border": null,
            "bottom": null,
            "display": null,
            "flex": null,
            "flex_flow": null,
            "grid_area": null,
            "grid_auto_columns": null,
            "grid_auto_flow": null,
            "grid_auto_rows": null,
            "grid_column": null,
            "grid_gap": null,
            "grid_row": null,
            "grid_template_areas": null,
            "grid_template_columns": null,
            "grid_template_rows": null,
            "height": null,
            "justify_content": null,
            "justify_items": null,
            "left": null,
            "margin": null,
            "max_height": null,
            "max_width": null,
            "min_height": null,
            "min_width": null,
            "object_fit": null,
            "object_position": null,
            "order": null,
            "overflow": null,
            "overflow_x": null,
            "overflow_y": null,
            "padding": null,
            "right": null,
            "top": null,
            "visibility": "hidden",
            "width": null
          }
        },
        "a44d7ad93a194632b34d595888941f37": {
          "model_module": "@jupyter-widgets/base",
          "model_name": "LayoutModel",
          "model_module_version": "1.2.0",
          "state": {
            "_model_module": "@jupyter-widgets/base",
            "_model_module_version": "1.2.0",
            "_model_name": "LayoutModel",
            "_view_count": null,
            "_view_module": "@jupyter-widgets/base",
            "_view_module_version": "1.2.0",
            "_view_name": "LayoutView",
            "align_content": null,
            "align_items": null,
            "align_self": null,
            "border": null,
            "bottom": null,
            "display": null,
            "flex": null,
            "flex_flow": null,
            "grid_area": null,
            "grid_auto_columns": null,
            "grid_auto_flow": null,
            "grid_auto_rows": null,
            "grid_column": null,
            "grid_gap": null,
            "grid_row": null,
            "grid_template_areas": null,
            "grid_template_columns": null,
            "grid_template_rows": null,
            "height": null,
            "justify_content": null,
            "justify_items": null,
            "left": null,
            "margin": null,
            "max_height": null,
            "max_width": null,
            "min_height": null,
            "min_width": null,
            "object_fit": null,
            "object_position": null,
            "order": null,
            "overflow": null,
            "overflow_x": null,
            "overflow_y": null,
            "padding": null,
            "right": null,
            "top": null,
            "visibility": null,
            "width": null
          }
        },
        "8dc2aaff087b4b9dae0a283b42e76594": {
          "model_module": "@jupyter-widgets/controls",
          "model_name": "DescriptionStyleModel",
          "model_module_version": "1.5.0",
          "state": {
            "_model_module": "@jupyter-widgets/controls",
            "_model_module_version": "1.5.0",
            "_model_name": "DescriptionStyleModel",
            "_view_count": null,
            "_view_module": "@jupyter-widgets/base",
            "_view_module_version": "1.2.0",
            "_view_name": "StyleView",
            "description_width": ""
          }
        },
        "4cbd478e9dce413b995212351f1c8e94": {
          "model_module": "@jupyter-widgets/base",
          "model_name": "LayoutModel",
          "model_module_version": "1.2.0",
          "state": {
            "_model_module": "@jupyter-widgets/base",
            "_model_module_version": "1.2.0",
            "_model_name": "LayoutModel",
            "_view_count": null,
            "_view_module": "@jupyter-widgets/base",
            "_view_module_version": "1.2.0",
            "_view_name": "LayoutView",
            "align_content": null,
            "align_items": null,
            "align_self": null,
            "border": null,
            "bottom": null,
            "display": null,
            "flex": null,
            "flex_flow": null,
            "grid_area": null,
            "grid_auto_columns": null,
            "grid_auto_flow": null,
            "grid_auto_rows": null,
            "grid_column": null,
            "grid_gap": null,
            "grid_row": null,
            "grid_template_areas": null,
            "grid_template_columns": null,
            "grid_template_rows": null,
            "height": null,
            "justify_content": null,
            "justify_items": null,
            "left": null,
            "margin": null,
            "max_height": null,
            "max_width": null,
            "min_height": null,
            "min_width": null,
            "object_fit": null,
            "object_position": null,
            "order": null,
            "overflow": null,
            "overflow_x": null,
            "overflow_y": null,
            "padding": null,
            "right": null,
            "top": null,
            "visibility": null,
            "width": "20px"
          }
        },
        "523c416ac4a140d897e7c1dbecb9c940": {
          "model_module": "@jupyter-widgets/controls",
          "model_name": "ProgressStyleModel",
          "model_module_version": "1.5.0",
          "state": {
            "_model_module": "@jupyter-widgets/controls",
            "_model_module_version": "1.5.0",
            "_model_name": "ProgressStyleModel",
            "_view_count": null,
            "_view_module": "@jupyter-widgets/base",
            "_view_module_version": "1.2.0",
            "_view_name": "StyleView",
            "bar_color": null,
            "description_width": ""
          }
        },
        "f812194f37ab47d280d66923ab765b63": {
          "model_module": "@jupyter-widgets/base",
          "model_name": "LayoutModel",
          "model_module_version": "1.2.0",
          "state": {
            "_model_module": "@jupyter-widgets/base",
            "_model_module_version": "1.2.0",
            "_model_name": "LayoutModel",
            "_view_count": null,
            "_view_module": "@jupyter-widgets/base",
            "_view_module_version": "1.2.0",
            "_view_name": "LayoutView",
            "align_content": null,
            "align_items": null,
            "align_self": null,
            "border": null,
            "bottom": null,
            "display": null,
            "flex": null,
            "flex_flow": null,
            "grid_area": null,
            "grid_auto_columns": null,
            "grid_auto_flow": null,
            "grid_auto_rows": null,
            "grid_column": null,
            "grid_gap": null,
            "grid_row": null,
            "grid_template_areas": null,
            "grid_template_columns": null,
            "grid_template_rows": null,
            "height": null,
            "justify_content": null,
            "justify_items": null,
            "left": null,
            "margin": null,
            "max_height": null,
            "max_width": null,
            "min_height": null,
            "min_width": null,
            "object_fit": null,
            "object_position": null,
            "order": null,
            "overflow": null,
            "overflow_x": null,
            "overflow_y": null,
            "padding": null,
            "right": null,
            "top": null,
            "visibility": null,
            "width": null
          }
        },
        "af3071311cf841faa852728b5306d0a2": {
          "model_module": "@jupyter-widgets/controls",
          "model_name": "DescriptionStyleModel",
          "model_module_version": "1.5.0",
          "state": {
            "_model_module": "@jupyter-widgets/controls",
            "_model_module_version": "1.5.0",
            "_model_name": "DescriptionStyleModel",
            "_view_count": null,
            "_view_module": "@jupyter-widgets/base",
            "_view_module_version": "1.2.0",
            "_view_name": "StyleView",
            "description_width": ""
          }
        },
        "ba794ba9b8b749deaa0102ecbb7fad07": {
          "model_module": "@jupyter-widgets/controls",
          "model_name": "HBoxModel",
          "model_module_version": "1.5.0",
          "state": {
            "_dom_classes": [],
            "_model_module": "@jupyter-widgets/controls",
            "_model_module_version": "1.5.0",
            "_model_name": "HBoxModel",
            "_view_count": null,
            "_view_module": "@jupyter-widgets/controls",
            "_view_module_version": "1.5.0",
            "_view_name": "HBoxView",
            "box_style": "",
            "children": [
              "IPY_MODEL_4586dad6de694d8c8980ef02c0882f79",
              "IPY_MODEL_5555809e4d714957b075c2c8629552c3",
              "IPY_MODEL_0229beffaa76419e85bca5213584c3e3"
            ],
            "layout": "IPY_MODEL_5871e5e35bb7479391128398b9442c3c"
          }
        },
        "4586dad6de694d8c8980ef02c0882f79": {
          "model_module": "@jupyter-widgets/controls",
          "model_name": "HTMLModel",
          "model_module_version": "1.5.0",
          "state": {
            "_dom_classes": [],
            "_model_module": "@jupyter-widgets/controls",
            "_model_module_version": "1.5.0",
            "_model_name": "HTMLModel",
            "_view_count": null,
            "_view_module": "@jupyter-widgets/controls",
            "_view_module_version": "1.5.0",
            "_view_name": "HTMLView",
            "description": "",
            "description_tooltip": null,
            "layout": "IPY_MODEL_4d328b458d4d4102a57260cdfe8b4851",
            "placeholder": "​",
            "style": "IPY_MODEL_8d61143faa7e4fb38ef1fd342936ecba",
            "value": "Generating val split: "
          }
        },
        "5555809e4d714957b075c2c8629552c3": {
          "model_module": "@jupyter-widgets/controls",
          "model_name": "FloatProgressModel",
          "model_module_version": "1.5.0",
          "state": {
            "_dom_classes": [],
            "_model_module": "@jupyter-widgets/controls",
            "_model_module_version": "1.5.0",
            "_model_name": "FloatProgressModel",
            "_view_count": null,
            "_view_module": "@jupyter-widgets/controls",
            "_view_module_version": "1.5.0",
            "_view_name": "ProgressView",
            "bar_style": "info",
            "description": "",
            "description_tooltip": null,
            "layout": "IPY_MODEL_5b9888e98f184d08b046c8aeafb928af",
            "max": 1,
            "min": 0,
            "orientation": "horizontal",
            "style": "IPY_MODEL_671f292f28a14915b28dd9ee6eb77a84",
            "value": 1
          }
        },
        "0229beffaa76419e85bca5213584c3e3": {
          "model_module": "@jupyter-widgets/controls",
          "model_name": "HTMLModel",
          "model_module_version": "1.5.0",
          "state": {
            "_dom_classes": [],
            "_model_module": "@jupyter-widgets/controls",
            "_model_module_version": "1.5.0",
            "_model_name": "HTMLModel",
            "_view_count": null,
            "_view_module": "@jupyter-widgets/controls",
            "_view_module_version": "1.5.0",
            "_view_name": "HTMLView",
            "description": "",
            "description_tooltip": null,
            "layout": "IPY_MODEL_8268926d60e54a89adbf2e1dc97eac80",
            "placeholder": "​",
            "style": "IPY_MODEL_ede6a0b2b30840ca84153bb28d87a8bb",
            "value": " 0/0 [00:00&lt;?, ? examples/s]"
          }
        },
        "5871e5e35bb7479391128398b9442c3c": {
          "model_module": "@jupyter-widgets/base",
          "model_name": "LayoutModel",
          "model_module_version": "1.2.0",
          "state": {
            "_model_module": "@jupyter-widgets/base",
            "_model_module_version": "1.2.0",
            "_model_name": "LayoutModel",
            "_view_count": null,
            "_view_module": "@jupyter-widgets/base",
            "_view_module_version": "1.2.0",
            "_view_name": "LayoutView",
            "align_content": null,
            "align_items": null,
            "align_self": null,
            "border": null,
            "bottom": null,
            "display": null,
            "flex": null,
            "flex_flow": null,
            "grid_area": null,
            "grid_auto_columns": null,
            "grid_auto_flow": null,
            "grid_auto_rows": null,
            "grid_column": null,
            "grid_gap": null,
            "grid_row": null,
            "grid_template_areas": null,
            "grid_template_columns": null,
            "grid_template_rows": null,
            "height": null,
            "justify_content": null,
            "justify_items": null,
            "left": null,
            "margin": null,
            "max_height": null,
            "max_width": null,
            "min_height": null,
            "min_width": null,
            "object_fit": null,
            "object_position": null,
            "order": null,
            "overflow": null,
            "overflow_x": null,
            "overflow_y": null,
            "padding": null,
            "right": null,
            "top": null,
            "visibility": "hidden",
            "width": null
          }
        },
        "4d328b458d4d4102a57260cdfe8b4851": {
          "model_module": "@jupyter-widgets/base",
          "model_name": "LayoutModel",
          "model_module_version": "1.2.0",
          "state": {
            "_model_module": "@jupyter-widgets/base",
            "_model_module_version": "1.2.0",
            "_model_name": "LayoutModel",
            "_view_count": null,
            "_view_module": "@jupyter-widgets/base",
            "_view_module_version": "1.2.0",
            "_view_name": "LayoutView",
            "align_content": null,
            "align_items": null,
            "align_self": null,
            "border": null,
            "bottom": null,
            "display": null,
            "flex": null,
            "flex_flow": null,
            "grid_area": null,
            "grid_auto_columns": null,
            "grid_auto_flow": null,
            "grid_auto_rows": null,
            "grid_column": null,
            "grid_gap": null,
            "grid_row": null,
            "grid_template_areas": null,
            "grid_template_columns": null,
            "grid_template_rows": null,
            "height": null,
            "justify_content": null,
            "justify_items": null,
            "left": null,
            "margin": null,
            "max_height": null,
            "max_width": null,
            "min_height": null,
            "min_width": null,
            "object_fit": null,
            "object_position": null,
            "order": null,
            "overflow": null,
            "overflow_x": null,
            "overflow_y": null,
            "padding": null,
            "right": null,
            "top": null,
            "visibility": null,
            "width": null
          }
        },
        "8d61143faa7e4fb38ef1fd342936ecba": {
          "model_module": "@jupyter-widgets/controls",
          "model_name": "DescriptionStyleModel",
          "model_module_version": "1.5.0",
          "state": {
            "_model_module": "@jupyter-widgets/controls",
            "_model_module_version": "1.5.0",
            "_model_name": "DescriptionStyleModel",
            "_view_count": null,
            "_view_module": "@jupyter-widgets/base",
            "_view_module_version": "1.2.0",
            "_view_name": "StyleView",
            "description_width": ""
          }
        },
        "5b9888e98f184d08b046c8aeafb928af": {
          "model_module": "@jupyter-widgets/base",
          "model_name": "LayoutModel",
          "model_module_version": "1.2.0",
          "state": {
            "_model_module": "@jupyter-widgets/base",
            "_model_module_version": "1.2.0",
            "_model_name": "LayoutModel",
            "_view_count": null,
            "_view_module": "@jupyter-widgets/base",
            "_view_module_version": "1.2.0",
            "_view_name": "LayoutView",
            "align_content": null,
            "align_items": null,
            "align_self": null,
            "border": null,
            "bottom": null,
            "display": null,
            "flex": null,
            "flex_flow": null,
            "grid_area": null,
            "grid_auto_columns": null,
            "grid_auto_flow": null,
            "grid_auto_rows": null,
            "grid_column": null,
            "grid_gap": null,
            "grid_row": null,
            "grid_template_areas": null,
            "grid_template_columns": null,
            "grid_template_rows": null,
            "height": null,
            "justify_content": null,
            "justify_items": null,
            "left": null,
            "margin": null,
            "max_height": null,
            "max_width": null,
            "min_height": null,
            "min_width": null,
            "object_fit": null,
            "object_position": null,
            "order": null,
            "overflow": null,
            "overflow_x": null,
            "overflow_y": null,
            "padding": null,
            "right": null,
            "top": null,
            "visibility": null,
            "width": "20px"
          }
        },
        "671f292f28a14915b28dd9ee6eb77a84": {
          "model_module": "@jupyter-widgets/controls",
          "model_name": "ProgressStyleModel",
          "model_module_version": "1.5.0",
          "state": {
            "_model_module": "@jupyter-widgets/controls",
            "_model_module_version": "1.5.0",
            "_model_name": "ProgressStyleModel",
            "_view_count": null,
            "_view_module": "@jupyter-widgets/base",
            "_view_module_version": "1.2.0",
            "_view_name": "StyleView",
            "bar_color": null,
            "description_width": ""
          }
        },
        "8268926d60e54a89adbf2e1dc97eac80": {
          "model_module": "@jupyter-widgets/base",
          "model_name": "LayoutModel",
          "model_module_version": "1.2.0",
          "state": {
            "_model_module": "@jupyter-widgets/base",
            "_model_module_version": "1.2.0",
            "_model_name": "LayoutModel",
            "_view_count": null,
            "_view_module": "@jupyter-widgets/base",
            "_view_module_version": "1.2.0",
            "_view_name": "LayoutView",
            "align_content": null,
            "align_items": null,
            "align_self": null,
            "border": null,
            "bottom": null,
            "display": null,
            "flex": null,
            "flex_flow": null,
            "grid_area": null,
            "grid_auto_columns": null,
            "grid_auto_flow": null,
            "grid_auto_rows": null,
            "grid_column": null,
            "grid_gap": null,
            "grid_row": null,
            "grid_template_areas": null,
            "grid_template_columns": null,
            "grid_template_rows": null,
            "height": null,
            "justify_content": null,
            "justify_items": null,
            "left": null,
            "margin": null,
            "max_height": null,
            "max_width": null,
            "min_height": null,
            "min_width": null,
            "object_fit": null,
            "object_position": null,
            "order": null,
            "overflow": null,
            "overflow_x": null,
            "overflow_y": null,
            "padding": null,
            "right": null,
            "top": null,
            "visibility": null,
            "width": null
          }
        },
        "ede6a0b2b30840ca84153bb28d87a8bb": {
          "model_module": "@jupyter-widgets/controls",
          "model_name": "DescriptionStyleModel",
          "model_module_version": "1.5.0",
          "state": {
            "_model_module": "@jupyter-widgets/controls",
            "_model_module_version": "1.5.0",
            "_model_name": "DescriptionStyleModel",
            "_view_count": null,
            "_view_module": "@jupyter-widgets/base",
            "_view_module_version": "1.2.0",
            "_view_name": "StyleView",
            "description_width": ""
          }
        },
        "b8b1208716bf48fba918ba210e7d0fc5": {
          "model_module": "@jupyter-widgets/controls",
          "model_name": "HBoxModel",
          "model_module_version": "1.5.0",
          "state": {
            "_dom_classes": [],
            "_model_module": "@jupyter-widgets/controls",
            "_model_module_version": "1.5.0",
            "_model_name": "HBoxModel",
            "_view_count": null,
            "_view_module": "@jupyter-widgets/controls",
            "_view_module_version": "1.5.0",
            "_view_name": "HBoxView",
            "box_style": "",
            "children": [
              "IPY_MODEL_32c2b62f83de4f5888739e4f04cc177b",
              "IPY_MODEL_6f64fc3fad28448abcbb00803817296a",
              "IPY_MODEL_d873354228364a9ab31ef2e9c93f80e4"
            ],
            "layout": "IPY_MODEL_5af8b28e5f1847a69237c221f808f873"
          }
        },
        "32c2b62f83de4f5888739e4f04cc177b": {
          "model_module": "@jupyter-widgets/controls",
          "model_name": "HTMLModel",
          "model_module_version": "1.5.0",
          "state": {
            "_dom_classes": [],
            "_model_module": "@jupyter-widgets/controls",
            "_model_module_version": "1.5.0",
            "_model_name": "HTMLModel",
            "_view_count": null,
            "_view_module": "@jupyter-widgets/controls",
            "_view_module_version": "1.5.0",
            "_view_name": "HTMLView",
            "description": "",
            "description_tooltip": null,
            "layout": "IPY_MODEL_3dd3b8bcbcef44bdabb4c21bd9811642",
            "placeholder": "​",
            "style": "IPY_MODEL_37faa76545684a998f0919b0180bc010",
            "value": "Generating test split: "
          }
        },
        "6f64fc3fad28448abcbb00803817296a": {
          "model_module": "@jupyter-widgets/controls",
          "model_name": "FloatProgressModel",
          "model_module_version": "1.5.0",
          "state": {
            "_dom_classes": [],
            "_model_module": "@jupyter-widgets/controls",
            "_model_module_version": "1.5.0",
            "_model_name": "FloatProgressModel",
            "_view_count": null,
            "_view_module": "@jupyter-widgets/controls",
            "_view_module_version": "1.5.0",
            "_view_name": "ProgressView",
            "bar_style": "info",
            "description": "",
            "description_tooltip": null,
            "layout": "IPY_MODEL_8da88ed7be124d1da24f83fcf8f30af2",
            "max": 1,
            "min": 0,
            "orientation": "horizontal",
            "style": "IPY_MODEL_444f17a5c768448e9236dd906f183d7c",
            "value": 1
          }
        },
        "d873354228364a9ab31ef2e9c93f80e4": {
          "model_module": "@jupyter-widgets/controls",
          "model_name": "HTMLModel",
          "model_module_version": "1.5.0",
          "state": {
            "_dom_classes": [],
            "_model_module": "@jupyter-widgets/controls",
            "_model_module_version": "1.5.0",
            "_model_name": "HTMLModel",
            "_view_count": null,
            "_view_module": "@jupyter-widgets/controls",
            "_view_module_version": "1.5.0",
            "_view_name": "HTMLView",
            "description": "",
            "description_tooltip": null,
            "layout": "IPY_MODEL_16c06328ff1845b48a3c04bf8cd15169",
            "placeholder": "​",
            "style": "IPY_MODEL_acc9da31ef19436db9a494905a44b15b",
            "value": " 0/0 [00:00&lt;?, ? examples/s]"
          }
        },
        "5af8b28e5f1847a69237c221f808f873": {
          "model_module": "@jupyter-widgets/base",
          "model_name": "LayoutModel",
          "model_module_version": "1.2.0",
          "state": {
            "_model_module": "@jupyter-widgets/base",
            "_model_module_version": "1.2.0",
            "_model_name": "LayoutModel",
            "_view_count": null,
            "_view_module": "@jupyter-widgets/base",
            "_view_module_version": "1.2.0",
            "_view_name": "LayoutView",
            "align_content": null,
            "align_items": null,
            "align_self": null,
            "border": null,
            "bottom": null,
            "display": null,
            "flex": null,
            "flex_flow": null,
            "grid_area": null,
            "grid_auto_columns": null,
            "grid_auto_flow": null,
            "grid_auto_rows": null,
            "grid_column": null,
            "grid_gap": null,
            "grid_row": null,
            "grid_template_areas": null,
            "grid_template_columns": null,
            "grid_template_rows": null,
            "height": null,
            "justify_content": null,
            "justify_items": null,
            "left": null,
            "margin": null,
            "max_height": null,
            "max_width": null,
            "min_height": null,
            "min_width": null,
            "object_fit": null,
            "object_position": null,
            "order": null,
            "overflow": null,
            "overflow_x": null,
            "overflow_y": null,
            "padding": null,
            "right": null,
            "top": null,
            "visibility": "hidden",
            "width": null
          }
        },
        "3dd3b8bcbcef44bdabb4c21bd9811642": {
          "model_module": "@jupyter-widgets/base",
          "model_name": "LayoutModel",
          "model_module_version": "1.2.0",
          "state": {
            "_model_module": "@jupyter-widgets/base",
            "_model_module_version": "1.2.0",
            "_model_name": "LayoutModel",
            "_view_count": null,
            "_view_module": "@jupyter-widgets/base",
            "_view_module_version": "1.2.0",
            "_view_name": "LayoutView",
            "align_content": null,
            "align_items": null,
            "align_self": null,
            "border": null,
            "bottom": null,
            "display": null,
            "flex": null,
            "flex_flow": null,
            "grid_area": null,
            "grid_auto_columns": null,
            "grid_auto_flow": null,
            "grid_auto_rows": null,
            "grid_column": null,
            "grid_gap": null,
            "grid_row": null,
            "grid_template_areas": null,
            "grid_template_columns": null,
            "grid_template_rows": null,
            "height": null,
            "justify_content": null,
            "justify_items": null,
            "left": null,
            "margin": null,
            "max_height": null,
            "max_width": null,
            "min_height": null,
            "min_width": null,
            "object_fit": null,
            "object_position": null,
            "order": null,
            "overflow": null,
            "overflow_x": null,
            "overflow_y": null,
            "padding": null,
            "right": null,
            "top": null,
            "visibility": null,
            "width": null
          }
        },
        "37faa76545684a998f0919b0180bc010": {
          "model_module": "@jupyter-widgets/controls",
          "model_name": "DescriptionStyleModel",
          "model_module_version": "1.5.0",
          "state": {
            "_model_module": "@jupyter-widgets/controls",
            "_model_module_version": "1.5.0",
            "_model_name": "DescriptionStyleModel",
            "_view_count": null,
            "_view_module": "@jupyter-widgets/base",
            "_view_module_version": "1.2.0",
            "_view_name": "StyleView",
            "description_width": ""
          }
        },
        "8da88ed7be124d1da24f83fcf8f30af2": {
          "model_module": "@jupyter-widgets/base",
          "model_name": "LayoutModel",
          "model_module_version": "1.2.0",
          "state": {
            "_model_module": "@jupyter-widgets/base",
            "_model_module_version": "1.2.0",
            "_model_name": "LayoutModel",
            "_view_count": null,
            "_view_module": "@jupyter-widgets/base",
            "_view_module_version": "1.2.0",
            "_view_name": "LayoutView",
            "align_content": null,
            "align_items": null,
            "align_self": null,
            "border": null,
            "bottom": null,
            "display": null,
            "flex": null,
            "flex_flow": null,
            "grid_area": null,
            "grid_auto_columns": null,
            "grid_auto_flow": null,
            "grid_auto_rows": null,
            "grid_column": null,
            "grid_gap": null,
            "grid_row": null,
            "grid_template_areas": null,
            "grid_template_columns": null,
            "grid_template_rows": null,
            "height": null,
            "justify_content": null,
            "justify_items": null,
            "left": null,
            "margin": null,
            "max_height": null,
            "max_width": null,
            "min_height": null,
            "min_width": null,
            "object_fit": null,
            "object_position": null,
            "order": null,
            "overflow": null,
            "overflow_x": null,
            "overflow_y": null,
            "padding": null,
            "right": null,
            "top": null,
            "visibility": null,
            "width": "20px"
          }
        },
        "444f17a5c768448e9236dd906f183d7c": {
          "model_module": "@jupyter-widgets/controls",
          "model_name": "ProgressStyleModel",
          "model_module_version": "1.5.0",
          "state": {
            "_model_module": "@jupyter-widgets/controls",
            "_model_module_version": "1.5.0",
            "_model_name": "ProgressStyleModel",
            "_view_count": null,
            "_view_module": "@jupyter-widgets/base",
            "_view_module_version": "1.2.0",
            "_view_name": "StyleView",
            "bar_color": null,
            "description_width": ""
          }
        },
        "16c06328ff1845b48a3c04bf8cd15169": {
          "model_module": "@jupyter-widgets/base",
          "model_name": "LayoutModel",
          "model_module_version": "1.2.0",
          "state": {
            "_model_module": "@jupyter-widgets/base",
            "_model_module_version": "1.2.0",
            "_model_name": "LayoutModel",
            "_view_count": null,
            "_view_module": "@jupyter-widgets/base",
            "_view_module_version": "1.2.0",
            "_view_name": "LayoutView",
            "align_content": null,
            "align_items": null,
            "align_self": null,
            "border": null,
            "bottom": null,
            "display": null,
            "flex": null,
            "flex_flow": null,
            "grid_area": null,
            "grid_auto_columns": null,
            "grid_auto_flow": null,
            "grid_auto_rows": null,
            "grid_column": null,
            "grid_gap": null,
            "grid_row": null,
            "grid_template_areas": null,
            "grid_template_columns": null,
            "grid_template_rows": null,
            "height": null,
            "justify_content": null,
            "justify_items": null,
            "left": null,
            "margin": null,
            "max_height": null,
            "max_width": null,
            "min_height": null,
            "min_width": null,
            "object_fit": null,
            "object_position": null,
            "order": null,
            "overflow": null,
            "overflow_x": null,
            "overflow_y": null,
            "padding": null,
            "right": null,
            "top": null,
            "visibility": null,
            "width": null
          }
        },
        "acc9da31ef19436db9a494905a44b15b": {
          "model_module": "@jupyter-widgets/controls",
          "model_name": "DescriptionStyleModel",
          "model_module_version": "1.5.0",
          "state": {
            "_model_module": "@jupyter-widgets/controls",
            "_model_module_version": "1.5.0",
            "_model_name": "DescriptionStyleModel",
            "_view_count": null,
            "_view_module": "@jupyter-widgets/base",
            "_view_module_version": "1.2.0",
            "_view_name": "StyleView",
            "description_width": ""
          }
        },
        "c7d9bf27150d4f7fa17bf903fdf28bf9": {
          "model_module": "@jupyter-widgets/controls",
          "model_name": "HBoxModel",
          "model_module_version": "1.5.0",
          "state": {
            "_dom_classes": [],
            "_model_module": "@jupyter-widgets/controls",
            "_model_module_version": "1.5.0",
            "_model_name": "HBoxModel",
            "_view_count": null,
            "_view_module": "@jupyter-widgets/controls",
            "_view_module_version": "1.5.0",
            "_view_name": "HBoxView",
            "box_style": "",
            "children": [
              "IPY_MODEL_4910f66ee62f41debffe7e59809639fc",
              "IPY_MODEL_fa4da5ae2f414aa18b39e717d80d457f",
              "IPY_MODEL_5ff7f31416af4e03bf43a2674c15e954"
            ],
            "layout": "IPY_MODEL_ff89e5288e5849049d28993a100674a7"
          }
        },
        "4910f66ee62f41debffe7e59809639fc": {
          "model_module": "@jupyter-widgets/controls",
          "model_name": "HTMLModel",
          "model_module_version": "1.5.0",
          "state": {
            "_dom_classes": [],
            "_model_module": "@jupyter-widgets/controls",
            "_model_module_version": "1.5.0",
            "_model_name": "HTMLModel",
            "_view_count": null,
            "_view_module": "@jupyter-widgets/controls",
            "_view_module_version": "1.5.0",
            "_view_name": "HTMLView",
            "description": "",
            "description_tooltip": null,
            "layout": "IPY_MODEL_9a2d5e899662451f974f89104a28c82c",
            "placeholder": "​",
            "style": "IPY_MODEL_14ce539ba47f48158c9f6ac51f16f970",
            "value": "100%"
          }
        },
        "fa4da5ae2f414aa18b39e717d80d457f": {
          "model_module": "@jupyter-widgets/controls",
          "model_name": "FloatProgressModel",
          "model_module_version": "1.5.0",
          "state": {
            "_dom_classes": [],
            "_model_module": "@jupyter-widgets/controls",
            "_model_module_version": "1.5.0",
            "_model_name": "FloatProgressModel",
            "_view_count": null,
            "_view_module": "@jupyter-widgets/controls",
            "_view_module_version": "1.5.0",
            "_view_name": "ProgressView",
            "bar_style": "success",
            "description": "",
            "description_tooltip": null,
            "layout": "IPY_MODEL_0350487e2b80426a9636dbf694ad8f7d",
            "max": 3,
            "min": 0,
            "orientation": "horizontal",
            "style": "IPY_MODEL_7bfee97a11e24157828b4c8709ac3bde",
            "value": 3
          }
        },
        "5ff7f31416af4e03bf43a2674c15e954": {
          "model_module": "@jupyter-widgets/controls",
          "model_name": "HTMLModel",
          "model_module_version": "1.5.0",
          "state": {
            "_dom_classes": [],
            "_model_module": "@jupyter-widgets/controls",
            "_model_module_version": "1.5.0",
            "_model_name": "HTMLModel",
            "_view_count": null,
            "_view_module": "@jupyter-widgets/controls",
            "_view_module_version": "1.5.0",
            "_view_name": "HTMLView",
            "description": "",
            "description_tooltip": null,
            "layout": "IPY_MODEL_9d80351121d3463582060084f54c337b",
            "placeholder": "​",
            "style": "IPY_MODEL_7e707a6c50d64d8a85af9527db576075",
            "value": " 3/3 [00:00&lt;00:00, 91.68it/s]"
          }
        },
        "ff89e5288e5849049d28993a100674a7": {
          "model_module": "@jupyter-widgets/base",
          "model_name": "LayoutModel",
          "model_module_version": "1.2.0",
          "state": {
            "_model_module": "@jupyter-widgets/base",
            "_model_module_version": "1.2.0",
            "_model_name": "LayoutModel",
            "_view_count": null,
            "_view_module": "@jupyter-widgets/base",
            "_view_module_version": "1.2.0",
            "_view_name": "LayoutView",
            "align_content": null,
            "align_items": null,
            "align_self": null,
            "border": null,
            "bottom": null,
            "display": null,
            "flex": null,
            "flex_flow": null,
            "grid_area": null,
            "grid_auto_columns": null,
            "grid_auto_flow": null,
            "grid_auto_rows": null,
            "grid_column": null,
            "grid_gap": null,
            "grid_row": null,
            "grid_template_areas": null,
            "grid_template_columns": null,
            "grid_template_rows": null,
            "height": null,
            "justify_content": null,
            "justify_items": null,
            "left": null,
            "margin": null,
            "max_height": null,
            "max_width": null,
            "min_height": null,
            "min_width": null,
            "object_fit": null,
            "object_position": null,
            "order": null,
            "overflow": null,
            "overflow_x": null,
            "overflow_y": null,
            "padding": null,
            "right": null,
            "top": null,
            "visibility": null,
            "width": null
          }
        },
        "9a2d5e899662451f974f89104a28c82c": {
          "model_module": "@jupyter-widgets/base",
          "model_name": "LayoutModel",
          "model_module_version": "1.2.0",
          "state": {
            "_model_module": "@jupyter-widgets/base",
            "_model_module_version": "1.2.0",
            "_model_name": "LayoutModel",
            "_view_count": null,
            "_view_module": "@jupyter-widgets/base",
            "_view_module_version": "1.2.0",
            "_view_name": "LayoutView",
            "align_content": null,
            "align_items": null,
            "align_self": null,
            "border": null,
            "bottom": null,
            "display": null,
            "flex": null,
            "flex_flow": null,
            "grid_area": null,
            "grid_auto_columns": null,
            "grid_auto_flow": null,
            "grid_auto_rows": null,
            "grid_column": null,
            "grid_gap": null,
            "grid_row": null,
            "grid_template_areas": null,
            "grid_template_columns": null,
            "grid_template_rows": null,
            "height": null,
            "justify_content": null,
            "justify_items": null,
            "left": null,
            "margin": null,
            "max_height": null,
            "max_width": null,
            "min_height": null,
            "min_width": null,
            "object_fit": null,
            "object_position": null,
            "order": null,
            "overflow": null,
            "overflow_x": null,
            "overflow_y": null,
            "padding": null,
            "right": null,
            "top": null,
            "visibility": null,
            "width": null
          }
        },
        "14ce539ba47f48158c9f6ac51f16f970": {
          "model_module": "@jupyter-widgets/controls",
          "model_name": "DescriptionStyleModel",
          "model_module_version": "1.5.0",
          "state": {
            "_model_module": "@jupyter-widgets/controls",
            "_model_module_version": "1.5.0",
            "_model_name": "DescriptionStyleModel",
            "_view_count": null,
            "_view_module": "@jupyter-widgets/base",
            "_view_module_version": "1.2.0",
            "_view_name": "StyleView",
            "description_width": ""
          }
        },
        "0350487e2b80426a9636dbf694ad8f7d": {
          "model_module": "@jupyter-widgets/base",
          "model_name": "LayoutModel",
          "model_module_version": "1.2.0",
          "state": {
            "_model_module": "@jupyter-widgets/base",
            "_model_module_version": "1.2.0",
            "_model_name": "LayoutModel",
            "_view_count": null,
            "_view_module": "@jupyter-widgets/base",
            "_view_module_version": "1.2.0",
            "_view_name": "LayoutView",
            "align_content": null,
            "align_items": null,
            "align_self": null,
            "border": null,
            "bottom": null,
            "display": null,
            "flex": null,
            "flex_flow": null,
            "grid_area": null,
            "grid_auto_columns": null,
            "grid_auto_flow": null,
            "grid_auto_rows": null,
            "grid_column": null,
            "grid_gap": null,
            "grid_row": null,
            "grid_template_areas": null,
            "grid_template_columns": null,
            "grid_template_rows": null,
            "height": null,
            "justify_content": null,
            "justify_items": null,
            "left": null,
            "margin": null,
            "max_height": null,
            "max_width": null,
            "min_height": null,
            "min_width": null,
            "object_fit": null,
            "object_position": null,
            "order": null,
            "overflow": null,
            "overflow_x": null,
            "overflow_y": null,
            "padding": null,
            "right": null,
            "top": null,
            "visibility": null,
            "width": null
          }
        },
        "7bfee97a11e24157828b4c8709ac3bde": {
          "model_module": "@jupyter-widgets/controls",
          "model_name": "ProgressStyleModel",
          "model_module_version": "1.5.0",
          "state": {
            "_model_module": "@jupyter-widgets/controls",
            "_model_module_version": "1.5.0",
            "_model_name": "ProgressStyleModel",
            "_view_count": null,
            "_view_module": "@jupyter-widgets/base",
            "_view_module_version": "1.2.0",
            "_view_name": "StyleView",
            "bar_color": null,
            "description_width": ""
          }
        },
        "9d80351121d3463582060084f54c337b": {
          "model_module": "@jupyter-widgets/base",
          "model_name": "LayoutModel",
          "model_module_version": "1.2.0",
          "state": {
            "_model_module": "@jupyter-widgets/base",
            "_model_module_version": "1.2.0",
            "_model_name": "LayoutModel",
            "_view_count": null,
            "_view_module": "@jupyter-widgets/base",
            "_view_module_version": "1.2.0",
            "_view_name": "LayoutView",
            "align_content": null,
            "align_items": null,
            "align_self": null,
            "border": null,
            "bottom": null,
            "display": null,
            "flex": null,
            "flex_flow": null,
            "grid_area": null,
            "grid_auto_columns": null,
            "grid_auto_flow": null,
            "grid_auto_rows": null,
            "grid_column": null,
            "grid_gap": null,
            "grid_row": null,
            "grid_template_areas": null,
            "grid_template_columns": null,
            "grid_template_rows": null,
            "height": null,
            "justify_content": null,
            "justify_items": null,
            "left": null,
            "margin": null,
            "max_height": null,
            "max_width": null,
            "min_height": null,
            "min_width": null,
            "object_fit": null,
            "object_position": null,
            "order": null,
            "overflow": null,
            "overflow_x": null,
            "overflow_y": null,
            "padding": null,
            "right": null,
            "top": null,
            "visibility": null,
            "width": null
          }
        },
        "7e707a6c50d64d8a85af9527db576075": {
          "model_module": "@jupyter-widgets/controls",
          "model_name": "DescriptionStyleModel",
          "model_module_version": "1.5.0",
          "state": {
            "_model_module": "@jupyter-widgets/controls",
            "_model_module_version": "1.5.0",
            "_model_name": "DescriptionStyleModel",
            "_view_count": null,
            "_view_module": "@jupyter-widgets/base",
            "_view_module_version": "1.2.0",
            "_view_name": "StyleView",
            "description_width": ""
          }
        },
        "0fb284e31bcc4700bbf5bbff177bf100": {
          "model_module": "@jupyter-widgets/controls",
          "model_name": "HBoxModel",
          "model_module_version": "1.5.0",
          "state": {
            "_dom_classes": [],
            "_model_module": "@jupyter-widgets/controls",
            "_model_module_version": "1.5.0",
            "_model_name": "HBoxModel",
            "_view_count": null,
            "_view_module": "@jupyter-widgets/controls",
            "_view_module_version": "1.5.0",
            "_view_name": "HBoxView",
            "box_style": "",
            "children": [
              "IPY_MODEL_4b46f8a801de407294cee918c6352e4b",
              "IPY_MODEL_08dceadc63f24b69983f2856e1f53224",
              "IPY_MODEL_dfca5b4243dd400f85cdb20669235af7"
            ],
            "layout": "IPY_MODEL_cbda4ff6f3f843958ed8aa13d8005ca8"
          }
        },
        "4b46f8a801de407294cee918c6352e4b": {
          "model_module": "@jupyter-widgets/controls",
          "model_name": "HTMLModel",
          "model_module_version": "1.5.0",
          "state": {
            "_dom_classes": [],
            "_model_module": "@jupyter-widgets/controls",
            "_model_module_version": "1.5.0",
            "_model_name": "HTMLModel",
            "_view_count": null,
            "_view_module": "@jupyter-widgets/controls",
            "_view_module_version": "1.5.0",
            "_view_name": "HTMLView",
            "description": "",
            "description_tooltip": null,
            "layout": "IPY_MODEL_86e51791039142c3b830627285449b7d",
            "placeholder": "​",
            "style": "IPY_MODEL_7a2a59b0bf4c4b85b5ebab53dacdeaf9",
            "value": "100%"
          }
        },
        "08dceadc63f24b69983f2856e1f53224": {
          "model_module": "@jupyter-widgets/controls",
          "model_name": "FloatProgressModel",
          "model_module_version": "1.5.0",
          "state": {
            "_dom_classes": [],
            "_model_module": "@jupyter-widgets/controls",
            "_model_module_version": "1.5.0",
            "_model_name": "FloatProgressModel",
            "_view_count": null,
            "_view_module": "@jupyter-widgets/controls",
            "_view_module_version": "1.5.0",
            "_view_name": "ProgressView",
            "bar_style": "success",
            "description": "",
            "description_tooltip": null,
            "layout": "IPY_MODEL_8d3418123c654fe5ab4d3510644693b6",
            "max": 65022,
            "min": 0,
            "orientation": "horizontal",
            "style": "IPY_MODEL_3504d397d9414c63a039467dd5a66593",
            "value": 65022
          }
        },
        "dfca5b4243dd400f85cdb20669235af7": {
          "model_module": "@jupyter-widgets/controls",
          "model_name": "HTMLModel",
          "model_module_version": "1.5.0",
          "state": {
            "_dom_classes": [],
            "_model_module": "@jupyter-widgets/controls",
            "_model_module_version": "1.5.0",
            "_model_name": "HTMLModel",
            "_view_count": null,
            "_view_module": "@jupyter-widgets/controls",
            "_view_module_version": "1.5.0",
            "_view_name": "HTMLView",
            "description": "",
            "description_tooltip": null,
            "layout": "IPY_MODEL_5929dfe01839498090d622a297078ea4",
            "placeholder": "​",
            "style": "IPY_MODEL_a5a39e4177774e6a8ab4ed241fa0686c",
            "value": " 65022/65022 [00:22&lt;00:00, 4805.57ex/s]"
          }
        },
        "cbda4ff6f3f843958ed8aa13d8005ca8": {
          "model_module": "@jupyter-widgets/base",
          "model_name": "LayoutModel",
          "model_module_version": "1.2.0",
          "state": {
            "_model_module": "@jupyter-widgets/base",
            "_model_module_version": "1.2.0",
            "_model_name": "LayoutModel",
            "_view_count": null,
            "_view_module": "@jupyter-widgets/base",
            "_view_module_version": "1.2.0",
            "_view_name": "LayoutView",
            "align_content": null,
            "align_items": null,
            "align_self": null,
            "border": null,
            "bottom": null,
            "display": null,
            "flex": null,
            "flex_flow": null,
            "grid_area": null,
            "grid_auto_columns": null,
            "grid_auto_flow": null,
            "grid_auto_rows": null,
            "grid_column": null,
            "grid_gap": null,
            "grid_row": null,
            "grid_template_areas": null,
            "grid_template_columns": null,
            "grid_template_rows": null,
            "height": null,
            "justify_content": null,
            "justify_items": null,
            "left": null,
            "margin": null,
            "max_height": null,
            "max_width": null,
            "min_height": null,
            "min_width": null,
            "object_fit": null,
            "object_position": null,
            "order": null,
            "overflow": null,
            "overflow_x": null,
            "overflow_y": null,
            "padding": null,
            "right": null,
            "top": null,
            "visibility": null,
            "width": null
          }
        },
        "86e51791039142c3b830627285449b7d": {
          "model_module": "@jupyter-widgets/base",
          "model_name": "LayoutModel",
          "model_module_version": "1.2.0",
          "state": {
            "_model_module": "@jupyter-widgets/base",
            "_model_module_version": "1.2.0",
            "_model_name": "LayoutModel",
            "_view_count": null,
            "_view_module": "@jupyter-widgets/base",
            "_view_module_version": "1.2.0",
            "_view_name": "LayoutView",
            "align_content": null,
            "align_items": null,
            "align_self": null,
            "border": null,
            "bottom": null,
            "display": null,
            "flex": null,
            "flex_flow": null,
            "grid_area": null,
            "grid_auto_columns": null,
            "grid_auto_flow": null,
            "grid_auto_rows": null,
            "grid_column": null,
            "grid_gap": null,
            "grid_row": null,
            "grid_template_areas": null,
            "grid_template_columns": null,
            "grid_template_rows": null,
            "height": null,
            "justify_content": null,
            "justify_items": null,
            "left": null,
            "margin": null,
            "max_height": null,
            "max_width": null,
            "min_height": null,
            "min_width": null,
            "object_fit": null,
            "object_position": null,
            "order": null,
            "overflow": null,
            "overflow_x": null,
            "overflow_y": null,
            "padding": null,
            "right": null,
            "top": null,
            "visibility": null,
            "width": null
          }
        },
        "7a2a59b0bf4c4b85b5ebab53dacdeaf9": {
          "model_module": "@jupyter-widgets/controls",
          "model_name": "DescriptionStyleModel",
          "model_module_version": "1.5.0",
          "state": {
            "_model_module": "@jupyter-widgets/controls",
            "_model_module_version": "1.5.0",
            "_model_name": "DescriptionStyleModel",
            "_view_count": null,
            "_view_module": "@jupyter-widgets/base",
            "_view_module_version": "1.2.0",
            "_view_name": "StyleView",
            "description_width": ""
          }
        },
        "8d3418123c654fe5ab4d3510644693b6": {
          "model_module": "@jupyter-widgets/base",
          "model_name": "LayoutModel",
          "model_module_version": "1.2.0",
          "state": {
            "_model_module": "@jupyter-widgets/base",
            "_model_module_version": "1.2.0",
            "_model_name": "LayoutModel",
            "_view_count": null,
            "_view_module": "@jupyter-widgets/base",
            "_view_module_version": "1.2.0",
            "_view_name": "LayoutView",
            "align_content": null,
            "align_items": null,
            "align_self": null,
            "border": null,
            "bottom": null,
            "display": null,
            "flex": null,
            "flex_flow": null,
            "grid_area": null,
            "grid_auto_columns": null,
            "grid_auto_flow": null,
            "grid_auto_rows": null,
            "grid_column": null,
            "grid_gap": null,
            "grid_row": null,
            "grid_template_areas": null,
            "grid_template_columns": null,
            "grid_template_rows": null,
            "height": null,
            "justify_content": null,
            "justify_items": null,
            "left": null,
            "margin": null,
            "max_height": null,
            "max_width": null,
            "min_height": null,
            "min_width": null,
            "object_fit": null,
            "object_position": null,
            "order": null,
            "overflow": null,
            "overflow_x": null,
            "overflow_y": null,
            "padding": null,
            "right": null,
            "top": null,
            "visibility": null,
            "width": null
          }
        },
        "3504d397d9414c63a039467dd5a66593": {
          "model_module": "@jupyter-widgets/controls",
          "model_name": "ProgressStyleModel",
          "model_module_version": "1.5.0",
          "state": {
            "_model_module": "@jupyter-widgets/controls",
            "_model_module_version": "1.5.0",
            "_model_name": "ProgressStyleModel",
            "_view_count": null,
            "_view_module": "@jupyter-widgets/base",
            "_view_module_version": "1.2.0",
            "_view_name": "StyleView",
            "bar_color": null,
            "description_width": ""
          }
        },
        "5929dfe01839498090d622a297078ea4": {
          "model_module": "@jupyter-widgets/base",
          "model_name": "LayoutModel",
          "model_module_version": "1.2.0",
          "state": {
            "_model_module": "@jupyter-widgets/base",
            "_model_module_version": "1.2.0",
            "_model_name": "LayoutModel",
            "_view_count": null,
            "_view_module": "@jupyter-widgets/base",
            "_view_module_version": "1.2.0",
            "_view_name": "LayoutView",
            "align_content": null,
            "align_items": null,
            "align_self": null,
            "border": null,
            "bottom": null,
            "display": null,
            "flex": null,
            "flex_flow": null,
            "grid_area": null,
            "grid_auto_columns": null,
            "grid_auto_flow": null,
            "grid_auto_rows": null,
            "grid_column": null,
            "grid_gap": null,
            "grid_row": null,
            "grid_template_areas": null,
            "grid_template_columns": null,
            "grid_template_rows": null,
            "height": null,
            "justify_content": null,
            "justify_items": null,
            "left": null,
            "margin": null,
            "max_height": null,
            "max_width": null,
            "min_height": null,
            "min_width": null,
            "object_fit": null,
            "object_position": null,
            "order": null,
            "overflow": null,
            "overflow_x": null,
            "overflow_y": null,
            "padding": null,
            "right": null,
            "top": null,
            "visibility": null,
            "width": null
          }
        },
        "a5a39e4177774e6a8ab4ed241fa0686c": {
          "model_module": "@jupyter-widgets/controls",
          "model_name": "DescriptionStyleModel",
          "model_module_version": "1.5.0",
          "state": {
            "_model_module": "@jupyter-widgets/controls",
            "_model_module_version": "1.5.0",
            "_model_name": "DescriptionStyleModel",
            "_view_count": null,
            "_view_module": "@jupyter-widgets/base",
            "_view_module_version": "1.2.0",
            "_view_name": "StyleView",
            "description_width": ""
          }
        },
        "b7289f360b27439a85c2f11cf71184d7": {
          "model_module": "@jupyter-widgets/controls",
          "model_name": "HBoxModel",
          "model_module_version": "1.5.0",
          "state": {
            "_dom_classes": [],
            "_model_module": "@jupyter-widgets/controls",
            "_model_module_version": "1.5.0",
            "_model_name": "HBoxModel",
            "_view_count": null,
            "_view_module": "@jupyter-widgets/controls",
            "_view_module_version": "1.5.0",
            "_view_name": "HBoxView",
            "box_style": "",
            "children": [
              "IPY_MODEL_89fa3d94084b48ec8852ae17d8af36fa",
              "IPY_MODEL_26661a67918442ad93fb55f81d1317c9",
              "IPY_MODEL_5edf0342d19f4e46892b35e5c67f80a8"
            ],
            "layout": "IPY_MODEL_156a71b81aa14d89bfe7cdf175134d2b"
          }
        },
        "89fa3d94084b48ec8852ae17d8af36fa": {
          "model_module": "@jupyter-widgets/controls",
          "model_name": "HTMLModel",
          "model_module_version": "1.5.0",
          "state": {
            "_dom_classes": [],
            "_model_module": "@jupyter-widgets/controls",
            "_model_module_version": "1.5.0",
            "_model_name": "HTMLModel",
            "_view_count": null,
            "_view_module": "@jupyter-widgets/controls",
            "_view_module_version": "1.5.0",
            "_view_name": "HTMLView",
            "description": "",
            "description_tooltip": null,
            "layout": "IPY_MODEL_2f519754dc32447d9a00d382be821ddc",
            "placeholder": "​",
            "style": "IPY_MODEL_661cd5f1742644ab8676c1cb4feb17dd",
            "value": "100%"
          }
        },
        "26661a67918442ad93fb55f81d1317c9": {
          "model_module": "@jupyter-widgets/controls",
          "model_name": "FloatProgressModel",
          "model_module_version": "1.5.0",
          "state": {
            "_dom_classes": [],
            "_model_module": "@jupyter-widgets/controls",
            "_model_module_version": "1.5.0",
            "_model_name": "FloatProgressModel",
            "_view_count": null,
            "_view_module": "@jupyter-widgets/controls",
            "_view_module_version": "1.5.0",
            "_view_name": "ProgressView",
            "bar_style": "success",
            "description": "",
            "description_tooltip": null,
            "layout": "IPY_MODEL_536bc79512874dfd8a323689edb1be7e",
            "max": 700,
            "min": 0,
            "orientation": "horizontal",
            "style": "IPY_MODEL_6c815f3a617d444c8e2b5e580af47420",
            "value": 700
          }
        },
        "5edf0342d19f4e46892b35e5c67f80a8": {
          "model_module": "@jupyter-widgets/controls",
          "model_name": "HTMLModel",
          "model_module_version": "1.5.0",
          "state": {
            "_dom_classes": [],
            "_model_module": "@jupyter-widgets/controls",
            "_model_module_version": "1.5.0",
            "_model_name": "HTMLModel",
            "_view_count": null,
            "_view_module": "@jupyter-widgets/controls",
            "_view_module_version": "1.5.0",
            "_view_name": "HTMLView",
            "description": "",
            "description_tooltip": null,
            "layout": "IPY_MODEL_4919afe630b9453a867d1278e21f2276",
            "placeholder": "​",
            "style": "IPY_MODEL_c159497e107146f6b389131d48df3ff9",
            "value": " 700/700 [00:00&lt;00:00, 3640.13ex/s]"
          }
        },
        "156a71b81aa14d89bfe7cdf175134d2b": {
          "model_module": "@jupyter-widgets/base",
          "model_name": "LayoutModel",
          "model_module_version": "1.2.0",
          "state": {
            "_model_module": "@jupyter-widgets/base",
            "_model_module_version": "1.2.0",
            "_model_name": "LayoutModel",
            "_view_count": null,
            "_view_module": "@jupyter-widgets/base",
            "_view_module_version": "1.2.0",
            "_view_name": "LayoutView",
            "align_content": null,
            "align_items": null,
            "align_self": null,
            "border": null,
            "bottom": null,
            "display": null,
            "flex": null,
            "flex_flow": null,
            "grid_area": null,
            "grid_auto_columns": null,
            "grid_auto_flow": null,
            "grid_auto_rows": null,
            "grid_column": null,
            "grid_gap": null,
            "grid_row": null,
            "grid_template_areas": null,
            "grid_template_columns": null,
            "grid_template_rows": null,
            "height": null,
            "justify_content": null,
            "justify_items": null,
            "left": null,
            "margin": null,
            "max_height": null,
            "max_width": null,
            "min_height": null,
            "min_width": null,
            "object_fit": null,
            "object_position": null,
            "order": null,
            "overflow": null,
            "overflow_x": null,
            "overflow_y": null,
            "padding": null,
            "right": null,
            "top": null,
            "visibility": null,
            "width": null
          }
        },
        "2f519754dc32447d9a00d382be821ddc": {
          "model_module": "@jupyter-widgets/base",
          "model_name": "LayoutModel",
          "model_module_version": "1.2.0",
          "state": {
            "_model_module": "@jupyter-widgets/base",
            "_model_module_version": "1.2.0",
            "_model_name": "LayoutModel",
            "_view_count": null,
            "_view_module": "@jupyter-widgets/base",
            "_view_module_version": "1.2.0",
            "_view_name": "LayoutView",
            "align_content": null,
            "align_items": null,
            "align_self": null,
            "border": null,
            "bottom": null,
            "display": null,
            "flex": null,
            "flex_flow": null,
            "grid_area": null,
            "grid_auto_columns": null,
            "grid_auto_flow": null,
            "grid_auto_rows": null,
            "grid_column": null,
            "grid_gap": null,
            "grid_row": null,
            "grid_template_areas": null,
            "grid_template_columns": null,
            "grid_template_rows": null,
            "height": null,
            "justify_content": null,
            "justify_items": null,
            "left": null,
            "margin": null,
            "max_height": null,
            "max_width": null,
            "min_height": null,
            "min_width": null,
            "object_fit": null,
            "object_position": null,
            "order": null,
            "overflow": null,
            "overflow_x": null,
            "overflow_y": null,
            "padding": null,
            "right": null,
            "top": null,
            "visibility": null,
            "width": null
          }
        },
        "661cd5f1742644ab8676c1cb4feb17dd": {
          "model_module": "@jupyter-widgets/controls",
          "model_name": "DescriptionStyleModel",
          "model_module_version": "1.5.0",
          "state": {
            "_model_module": "@jupyter-widgets/controls",
            "_model_module_version": "1.5.0",
            "_model_name": "DescriptionStyleModel",
            "_view_count": null,
            "_view_module": "@jupyter-widgets/base",
            "_view_module_version": "1.2.0",
            "_view_name": "StyleView",
            "description_width": ""
          }
        },
        "536bc79512874dfd8a323689edb1be7e": {
          "model_module": "@jupyter-widgets/base",
          "model_name": "LayoutModel",
          "model_module_version": "1.2.0",
          "state": {
            "_model_module": "@jupyter-widgets/base",
            "_model_module_version": "1.2.0",
            "_model_name": "LayoutModel",
            "_view_count": null,
            "_view_module": "@jupyter-widgets/base",
            "_view_module_version": "1.2.0",
            "_view_name": "LayoutView",
            "align_content": null,
            "align_items": null,
            "align_self": null,
            "border": null,
            "bottom": null,
            "display": null,
            "flex": null,
            "flex_flow": null,
            "grid_area": null,
            "grid_auto_columns": null,
            "grid_auto_flow": null,
            "grid_auto_rows": null,
            "grid_column": null,
            "grid_gap": null,
            "grid_row": null,
            "grid_template_areas": null,
            "grid_template_columns": null,
            "grid_template_rows": null,
            "height": null,
            "justify_content": null,
            "justify_items": null,
            "left": null,
            "margin": null,
            "max_height": null,
            "max_width": null,
            "min_height": null,
            "min_width": null,
            "object_fit": null,
            "object_position": null,
            "order": null,
            "overflow": null,
            "overflow_x": null,
            "overflow_y": null,
            "padding": null,
            "right": null,
            "top": null,
            "visibility": null,
            "width": null
          }
        },
        "6c815f3a617d444c8e2b5e580af47420": {
          "model_module": "@jupyter-widgets/controls",
          "model_name": "ProgressStyleModel",
          "model_module_version": "1.5.0",
          "state": {
            "_model_module": "@jupyter-widgets/controls",
            "_model_module_version": "1.5.0",
            "_model_name": "ProgressStyleModel",
            "_view_count": null,
            "_view_module": "@jupyter-widgets/base",
            "_view_module_version": "1.2.0",
            "_view_name": "StyleView",
            "bar_color": null,
            "description_width": ""
          }
        },
        "4919afe630b9453a867d1278e21f2276": {
          "model_module": "@jupyter-widgets/base",
          "model_name": "LayoutModel",
          "model_module_version": "1.2.0",
          "state": {
            "_model_module": "@jupyter-widgets/base",
            "_model_module_version": "1.2.0",
            "_model_name": "LayoutModel",
            "_view_count": null,
            "_view_module": "@jupyter-widgets/base",
            "_view_module_version": "1.2.0",
            "_view_name": "LayoutView",
            "align_content": null,
            "align_items": null,
            "align_self": null,
            "border": null,
            "bottom": null,
            "display": null,
            "flex": null,
            "flex_flow": null,
            "grid_area": null,
            "grid_auto_columns": null,
            "grid_auto_flow": null,
            "grid_auto_rows": null,
            "grid_column": null,
            "grid_gap": null,
            "grid_row": null,
            "grid_template_areas": null,
            "grid_template_columns": null,
            "grid_template_rows": null,
            "height": null,
            "justify_content": null,
            "justify_items": null,
            "left": null,
            "margin": null,
            "max_height": null,
            "max_width": null,
            "min_height": null,
            "min_width": null,
            "object_fit": null,
            "object_position": null,
            "order": null,
            "overflow": null,
            "overflow_x": null,
            "overflow_y": null,
            "padding": null,
            "right": null,
            "top": null,
            "visibility": null,
            "width": null
          }
        },
        "c159497e107146f6b389131d48df3ff9": {
          "model_module": "@jupyter-widgets/controls",
          "model_name": "DescriptionStyleModel",
          "model_module_version": "1.5.0",
          "state": {
            "_model_module": "@jupyter-widgets/controls",
            "_model_module_version": "1.5.0",
            "_model_name": "DescriptionStyleModel",
            "_view_count": null,
            "_view_module": "@jupyter-widgets/base",
            "_view_module_version": "1.2.0",
            "_view_name": "StyleView",
            "description_width": ""
          }
        },
        "6cbd64aa010941d48124237155a45f11": {
          "model_module": "@jupyter-widgets/controls",
          "model_name": "HBoxModel",
          "model_module_version": "1.5.0",
          "state": {
            "_dom_classes": [],
            "_model_module": "@jupyter-widgets/controls",
            "_model_module_version": "1.5.0",
            "_model_name": "HBoxModel",
            "_view_count": null,
            "_view_module": "@jupyter-widgets/controls",
            "_view_module_version": "1.5.0",
            "_view_name": "HBoxView",
            "box_style": "",
            "children": [
              "IPY_MODEL_d994898062be445f91932f184c4ad65b",
              "IPY_MODEL_0961eeb9d0f140b29164115f74d5f453",
              "IPY_MODEL_997cbbb654f64085abf482ff94f4ccd0"
            ],
            "layout": "IPY_MODEL_f509d907830a423fb41d5ee550285b42"
          }
        },
        "d994898062be445f91932f184c4ad65b": {
          "model_module": "@jupyter-widgets/controls",
          "model_name": "HTMLModel",
          "model_module_version": "1.5.0",
          "state": {
            "_dom_classes": [],
            "_model_module": "@jupyter-widgets/controls",
            "_model_module_version": "1.5.0",
            "_model_name": "HTMLModel",
            "_view_count": null,
            "_view_module": "@jupyter-widgets/controls",
            "_view_module_version": "1.5.0",
            "_view_name": "HTMLView",
            "description": "",
            "description_tooltip": null,
            "layout": "IPY_MODEL_7acaa5bf6a8d4780a82ca7cf7ecdc687",
            "placeholder": "​",
            "style": "IPY_MODEL_4f228db104e84db08d9a9095170261ef",
            "value": "100%"
          }
        },
        "0961eeb9d0f140b29164115f74d5f453": {
          "model_module": "@jupyter-widgets/controls",
          "model_name": "FloatProgressModel",
          "model_module_version": "1.5.0",
          "state": {
            "_dom_classes": [],
            "_model_module": "@jupyter-widgets/controls",
            "_model_module_version": "1.5.0",
            "_model_name": "FloatProgressModel",
            "_view_count": null,
            "_view_module": "@jupyter-widgets/controls",
            "_view_module_version": "1.5.0",
            "_view_name": "ProgressView",
            "bar_style": "success",
            "description": "",
            "description_tooltip": null,
            "layout": "IPY_MODEL_69dff3af59b74236a069feeadf449d5d",
            "max": 700,
            "min": 0,
            "orientation": "horizontal",
            "style": "IPY_MODEL_b0c2ca32c34d4164bc84d914028ccd69",
            "value": 700
          }
        },
        "997cbbb654f64085abf482ff94f4ccd0": {
          "model_module": "@jupyter-widgets/controls",
          "model_name": "HTMLModel",
          "model_module_version": "1.5.0",
          "state": {
            "_dom_classes": [],
            "_model_module": "@jupyter-widgets/controls",
            "_model_module_version": "1.5.0",
            "_model_name": "HTMLModel",
            "_view_count": null,
            "_view_module": "@jupyter-widgets/controls",
            "_view_module_version": "1.5.0",
            "_view_name": "HTMLView",
            "description": "",
            "description_tooltip": null,
            "layout": "IPY_MODEL_3aa735c1228041039b3b819496f14606",
            "placeholder": "​",
            "style": "IPY_MODEL_1cd0368f48f845868598f6950c206112",
            "value": " 700/700 [00:00&lt;00:00, 3144.17ex/s]"
          }
        },
        "f509d907830a423fb41d5ee550285b42": {
          "model_module": "@jupyter-widgets/base",
          "model_name": "LayoutModel",
          "model_module_version": "1.2.0",
          "state": {
            "_model_module": "@jupyter-widgets/base",
            "_model_module_version": "1.2.0",
            "_model_name": "LayoutModel",
            "_view_count": null,
            "_view_module": "@jupyter-widgets/base",
            "_view_module_version": "1.2.0",
            "_view_name": "LayoutView",
            "align_content": null,
            "align_items": null,
            "align_self": null,
            "border": null,
            "bottom": null,
            "display": null,
            "flex": null,
            "flex_flow": null,
            "grid_area": null,
            "grid_auto_columns": null,
            "grid_auto_flow": null,
            "grid_auto_rows": null,
            "grid_column": null,
            "grid_gap": null,
            "grid_row": null,
            "grid_template_areas": null,
            "grid_template_columns": null,
            "grid_template_rows": null,
            "height": null,
            "justify_content": null,
            "justify_items": null,
            "left": null,
            "margin": null,
            "max_height": null,
            "max_width": null,
            "min_height": null,
            "min_width": null,
            "object_fit": null,
            "object_position": null,
            "order": null,
            "overflow": null,
            "overflow_x": null,
            "overflow_y": null,
            "padding": null,
            "right": null,
            "top": null,
            "visibility": null,
            "width": null
          }
        },
        "7acaa5bf6a8d4780a82ca7cf7ecdc687": {
          "model_module": "@jupyter-widgets/base",
          "model_name": "LayoutModel",
          "model_module_version": "1.2.0",
          "state": {
            "_model_module": "@jupyter-widgets/base",
            "_model_module_version": "1.2.0",
            "_model_name": "LayoutModel",
            "_view_count": null,
            "_view_module": "@jupyter-widgets/base",
            "_view_module_version": "1.2.0",
            "_view_name": "LayoutView",
            "align_content": null,
            "align_items": null,
            "align_self": null,
            "border": null,
            "bottom": null,
            "display": null,
            "flex": null,
            "flex_flow": null,
            "grid_area": null,
            "grid_auto_columns": null,
            "grid_auto_flow": null,
            "grid_auto_rows": null,
            "grid_column": null,
            "grid_gap": null,
            "grid_row": null,
            "grid_template_areas": null,
            "grid_template_columns": null,
            "grid_template_rows": null,
            "height": null,
            "justify_content": null,
            "justify_items": null,
            "left": null,
            "margin": null,
            "max_height": null,
            "max_width": null,
            "min_height": null,
            "min_width": null,
            "object_fit": null,
            "object_position": null,
            "order": null,
            "overflow": null,
            "overflow_x": null,
            "overflow_y": null,
            "padding": null,
            "right": null,
            "top": null,
            "visibility": null,
            "width": null
          }
        },
        "4f228db104e84db08d9a9095170261ef": {
          "model_module": "@jupyter-widgets/controls",
          "model_name": "DescriptionStyleModel",
          "model_module_version": "1.5.0",
          "state": {
            "_model_module": "@jupyter-widgets/controls",
            "_model_module_version": "1.5.0",
            "_model_name": "DescriptionStyleModel",
            "_view_count": null,
            "_view_module": "@jupyter-widgets/base",
            "_view_module_version": "1.2.0",
            "_view_name": "StyleView",
            "description_width": ""
          }
        },
        "69dff3af59b74236a069feeadf449d5d": {
          "model_module": "@jupyter-widgets/base",
          "model_name": "LayoutModel",
          "model_module_version": "1.2.0",
          "state": {
            "_model_module": "@jupyter-widgets/base",
            "_model_module_version": "1.2.0",
            "_model_name": "LayoutModel",
            "_view_count": null,
            "_view_module": "@jupyter-widgets/base",
            "_view_module_version": "1.2.0",
            "_view_name": "LayoutView",
            "align_content": null,
            "align_items": null,
            "align_self": null,
            "border": null,
            "bottom": null,
            "display": null,
            "flex": null,
            "flex_flow": null,
            "grid_area": null,
            "grid_auto_columns": null,
            "grid_auto_flow": null,
            "grid_auto_rows": null,
            "grid_column": null,
            "grid_gap": null,
            "grid_row": null,
            "grid_template_areas": null,
            "grid_template_columns": null,
            "grid_template_rows": null,
            "height": null,
            "justify_content": null,
            "justify_items": null,
            "left": null,
            "margin": null,
            "max_height": null,
            "max_width": null,
            "min_height": null,
            "min_width": null,
            "object_fit": null,
            "object_position": null,
            "order": null,
            "overflow": null,
            "overflow_x": null,
            "overflow_y": null,
            "padding": null,
            "right": null,
            "top": null,
            "visibility": null,
            "width": null
          }
        },
        "b0c2ca32c34d4164bc84d914028ccd69": {
          "model_module": "@jupyter-widgets/controls",
          "model_name": "ProgressStyleModel",
          "model_module_version": "1.5.0",
          "state": {
            "_model_module": "@jupyter-widgets/controls",
            "_model_module_version": "1.5.0",
            "_model_name": "ProgressStyleModel",
            "_view_count": null,
            "_view_module": "@jupyter-widgets/base",
            "_view_module_version": "1.2.0",
            "_view_name": "StyleView",
            "bar_color": null,
            "description_width": ""
          }
        },
        "3aa735c1228041039b3b819496f14606": {
          "model_module": "@jupyter-widgets/base",
          "model_name": "LayoutModel",
          "model_module_version": "1.2.0",
          "state": {
            "_model_module": "@jupyter-widgets/base",
            "_model_module_version": "1.2.0",
            "_model_name": "LayoutModel",
            "_view_count": null,
            "_view_module": "@jupyter-widgets/base",
            "_view_module_version": "1.2.0",
            "_view_name": "LayoutView",
            "align_content": null,
            "align_items": null,
            "align_self": null,
            "border": null,
            "bottom": null,
            "display": null,
            "flex": null,
            "flex_flow": null,
            "grid_area": null,
            "grid_auto_columns": null,
            "grid_auto_flow": null,
            "grid_auto_rows": null,
            "grid_column": null,
            "grid_gap": null,
            "grid_row": null,
            "grid_template_areas": null,
            "grid_template_columns": null,
            "grid_template_rows": null,
            "height": null,
            "justify_content": null,
            "justify_items": null,
            "left": null,
            "margin": null,
            "max_height": null,
            "max_width": null,
            "min_height": null,
            "min_width": null,
            "object_fit": null,
            "object_position": null,
            "order": null,
            "overflow": null,
            "overflow_x": null,
            "overflow_y": null,
            "padding": null,
            "right": null,
            "top": null,
            "visibility": null,
            "width": null
          }
        },
        "1cd0368f48f845868598f6950c206112": {
          "model_module": "@jupyter-widgets/controls",
          "model_name": "DescriptionStyleModel",
          "model_module_version": "1.5.0",
          "state": {
            "_model_module": "@jupyter-widgets/controls",
            "_model_module_version": "1.5.0",
            "_model_name": "DescriptionStyleModel",
            "_view_count": null,
            "_view_module": "@jupyter-widgets/base",
            "_view_module_version": "1.2.0",
            "_view_name": "StyleView",
            "description_width": ""
          }
        }
      }
    }
  },
  "nbformat": 4,
  "nbformat_minor": 5
}