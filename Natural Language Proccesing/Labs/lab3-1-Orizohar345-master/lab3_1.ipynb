{
 "cells": [
  {
   "cell_type": "code",
   "execution_count": 1,
   "id": "8f5ba5cf",
   "metadata": {
    "colab": {
     "base_uri": "https://localhost:8080/"
    },
    "deletable": false,
    "editable": false,
    "id": "8f5ba5cf",
    "jupyter": {
     "outputs_hidden": true,
     "source_hidden": true
    },
    "outputId": "68c636c1-ea26-427e-89ec-39b28f4bbdae"
   },
   "outputs": [
    {
     "name": "stdout",
     "output_type": "stream",
     "text": [
      "\n"
     ]
    }
   ],
   "source": [
    "# Please do not change this cell because some hidden tests might depend on it.\n",
    "import os\n",
    "\n",
    "# Otter grader does not handle ! commands well, so we define and use our\n",
    "# own function to execute shell commands.\n",
    "def shell(commands, warn=True):\n",
    "    \"\"\"Executes the string `commands` as a sequence of shell commands.\n",
    "\n",
    "       Prints the result to stdout and returns the exit status.\n",
    "       Provides a printed warning on non-zero exit status unless `warn`\n",
    "       flag is unset.\n",
    "    \"\"\"\n",
    "    file = os.popen(commands)\n",
    "    print (file.read().rstrip('\\n'))\n",
    "    exit_status = file.close()\n",
    "    if warn and exit_status != None:\n",
    "        print(f\"Completed with errors. Exit status: {exit_status}\\n\")\n",
    "    return exit_status\n",
    "\n",
    "shell(\"\"\"\n",
    "ls requirements.txt >/dev/null 2>&1\n",
    "if [ ! $? = 0 ]; then\n",
    " rm -rf .tmp\n",
    " git clone https://github.com/cs236299-2023-spring/lab3-1.git .tmp\n",
    " mv .tmp/tests ./\n",
    " mv .tmp/requirements.txt ./\n",
    " rm -rf .tmp\n",
    "fi\n",
    "pip install -q -r requirements.txt\n",
    "\"\"\")"
   ]
  },
  {
   "cell_type": "code",
   "execution_count": 2,
   "id": "48bc2662",
   "metadata": {
    "deletable": false,
    "editable": false,
    "id": "48bc2662"
   },
   "outputs": [],
   "source": [
    "# Initialize Otter\n",
    "import otter\n",
    "grader = otter.Notebook()"
   ]
  },
  {
   "cell_type": "raw",
   "id": "b2871125",
   "metadata": {
    "id": "b2871125",
    "jupyter": {
     "source_hidden": true
    }
   },
   "source": [
    "%%latex\n",
    "\\newcommand{\\vect}[1]{\\mathbf{#1}}\n",
    "\\newcommand{\\cnt}[1]{\\sharp(#1)}\n",
    "\\newcommand{\\argmax}[1]{\\underset{#1}{\\operatorname{argmax}}}\n",
    "\\newcommand{\\softmax}{\\operatorname{softmax}}\n",
    "\\newcommand{\\Prob}{\\Pr}\n",
    "\\newcommand{\\given}{\\,|\\,}"
   ]
  },
  {
   "cell_type": "markdown",
   "id": "8614ce3d",
   "metadata": {
    "id": "8614ce3d",
    "jupyter": {
     "source_hidden": true
    }
   },
   "source": [
    "$$\n",
    "\\renewcommand{\\vect}[1]{\\mathbf{#1}}\n",
    "\\renewcommand{\\cnt}[1]{\\sharp(#1)}\n",
    "\\renewcommand{\\argmax}[1]{\\underset{#1}{\\operatorname{argmax}}}\n",
    "\\renewcommand{\\softmax}{\\operatorname{softmax}}\n",
    "\\renewcommand{\\Prob}{\\Pr}\n",
    "\\renewcommand{\\given}{\\,|\\,}\n",
    "$$"
   ]
  },
  {
   "cell_type": "markdown",
   "id": "37b1b664",
   "metadata": {
    "id": "37b1b664",
    "tags": [
     "remove_for_latex"
    ]
   },
   "source": [
    "# Course 236299\n",
    "## Lab 3-1 – Context-free grammars introduced"
   ]
  },
  {
   "cell_type": "markdown",
   "id": "036517ae",
   "metadata": {
    "id": "036517ae"
   },
   "source": [
    "# Preparation – Loading packages"
   ]
  },
  {
   "cell_type": "code",
   "execution_count": 3,
   "id": "260440f6",
   "metadata": {
    "deletable": false,
    "editable": false,
    "id": "260440f6"
   },
   "outputs": [],
   "source": [
    "import functools\n",
    "import math\n",
    "import nltk"
   ]
  },
  {
   "cell_type": "markdown",
   "id": "5cdaa633",
   "metadata": {
    "id": "5cdaa633"
   },
   "source": [
    "# Writing CFGs\n",
    "\n",
    "Recall that a context free grammar (CFG) is a set of rules of the form $A \\rightarrow \\beta$, where $A$ is a nonterminal symbol and $\\beta$ is a sequence of terminal and nonterminal symbols. The set of nonterminals is $N$ and the set of terminals is $\\Sigma$. One of the nonterminals is a special start symbol, conventionally denoted $S$.\n",
    "\n",
    "A CFG generates a string by starting with the start symbol and repeatedly replacing a nonterminal symbol by the right-hand side of a rule whose left-hand side matches that nonterminal.\n",
    "\n",
    "We will use the [Natural Language Tool Kit (NLTK)](http://nltk.org) to define, represent, and store context-free grammars and syntactic parse trees in data structures. The toolkit provides for constructing a grammar from a textual description, such as this example:"
   ]
  },
  {
   "cell_type": "code",
   "execution_count": 4,
   "id": "831b1ab1",
   "metadata": {
    "id": "831b1ab1"
   },
   "outputs": [],
   "source": [
    "simple_grammar1 = nltk.CFG.fromstring(\"\"\"\n",
    "    S -> NP VP\n",
    "    NP -> 'dogs'\n",
    "    NP -> 'cats'\n",
    "    NP -> 'husky' 'dogs'\n",
    "    VP -> V\n",
    "    VP -> V NP\n",
    "    V -> 'bark'\n",
    "    V -> 'jump'\n",
    "    V -> 'chase'\n",
    "\"\"\")"
   ]
  },
  {
   "cell_type": "markdown",
   "id": "7a913a79",
   "metadata": {
    "id": "7a913a79"
   },
   "source": [
    "Some things to notice about the NLTK encoding of grammars:\n",
    "\n",
    "* Nonterminals are those symbols that appear on the left-hand side of a rule.\n",
    "* Terminals are any other Python object, but typically (as here) a string. (Notice how to write multi-word expressions on the right-hand side: each word needs to be quoted separately.)\n",
    "* By convention, the start symbol is the left-hand side of the first production of the grammar, and typically denoted as \"S\".\n",
    "\n",
    "We can print the grammar to observe it:"
   ]
  },
  {
   "cell_type": "code",
   "execution_count": 5,
   "id": "97953f41",
   "metadata": {
    "colab": {
     "base_uri": "https://localhost:8080/"
    },
    "id": "97953f41",
    "outputId": "d0fd70c3-5e1f-4262-c038-cf95c0bf5626"
   },
   "outputs": [
    {
     "name": "stdout",
     "output_type": "stream",
     "text": [
      "Grammar with 9 productions (start state = S)\n",
      "    S -> NP VP\n",
      "    NP -> 'dogs'\n",
      "    NP -> 'cats'\n",
      "    NP -> 'husky' 'dogs'\n",
      "    VP -> V\n",
      "    VP -> V NP\n",
      "    V -> 'bark'\n",
      "    V -> 'jump'\n",
      "    V -> 'chase'\n"
     ]
    }
   ],
   "source": [
    "print(simple_grammar1)"
   ]
  },
  {
   "cell_type": "markdown",
   "id": "4b1d9351",
   "metadata": {
    "id": "4b1d9351"
   },
   "source": [
    "Some sentences that are *generated* by this grammar include \"dogs bark\", \"cats jump\",  \"husky dogs chase cats\". The last of these is generated as specified by the following derivation:\n",
    "\n",
    "```\n",
    "S => NP VP\n",
    "  => husky dogs VP\n",
    "  => husky dogs V NP\n",
    "  => husky dogs chase NP\n",
    "  => husky dogs chase cats\n",
    "```\n",
    "\n",
    "> This grammar also generates sentences that are ungrammatical in English, such as \"dogs bark cats\", as it makes no distinction between intransitive verbs (like \"bark\") and transitive verbs (like \"chase\"). For now, we'll ignore this issue.\n",
    "\n",
    "The [`nltk.CFG.fromstring`](http://www.nltk.org/api/nltk.html#nltk.CFG.fromstring) function also accepts grammars in a shorthand notation using the \"or\" operator `|` to combine multiple productions with the same left-hand side."
   ]
  },
  {
   "cell_type": "code",
   "execution_count": 6,
   "id": "774bc48f",
   "metadata": {
    "id": "774bc48f"
   },
   "outputs": [],
   "source": [
    "simple_grammar2 = nltk.CFG.fromstring(\"\"\"\n",
    "    S -> NP VP\n",
    "    NP -> 'dogs' | 'cats' | 'husky' 'dogs'\n",
    "    VP -> V | V NP\n",
    "    V -> 'bark' | 'jump' | 'chase'\n",
    "\"\"\")"
   ]
  },
  {
   "cell_type": "markdown",
   "id": "ff628959",
   "metadata": {
    "id": "ff628959"
   },
   "source": [
    "You can verify that the grammar is identical by printing it."
   ]
  },
  {
   "cell_type": "code",
   "execution_count": 7,
   "id": "38e20ce3",
   "metadata": {
    "colab": {
     "base_uri": "https://localhost:8080/"
    },
    "id": "38e20ce3",
    "outputId": "f5f446a4-4ec8-4b97-e7bf-b1e370443d21"
   },
   "outputs": [
    {
     "name": "stdout",
     "output_type": "stream",
     "text": [
      "Grammar with 9 productions (start state = S)\n",
      "    S -> NP VP\n",
      "    NP -> 'dogs'\n",
      "    NP -> 'cats'\n",
      "    NP -> 'husky' 'dogs'\n",
      "    VP -> V\n",
      "    VP -> V NP\n",
      "    V -> 'bark'\n",
      "    V -> 'jump'\n",
      "    V -> 'chase'\n"
     ]
    }
   ],
   "source": [
    "print(simple_grammar2)"
   ]
  },
  {
   "cell_type": "markdown",
   "id": "625b9269",
   "metadata": {
    "deletable": false,
    "editable": false,
    "id": "625b9269"
   },
   "source": [
    "# Textual arithmetic expressions\n",
    "\n",
    "**What is four plus one divided by two?** As you can see in the screenshot at right, Alexa has a specific answer to this question.\n",
    "<img src=\"https://github.com/nlp-course/data/raw/master/img/alexa_arithmetic.jpg\" width=150 align=right />\n",
    "\n",
    "In this lab, you will learn how to implement the first part of answering such \"arithmetic in English\" questions. In particular, you will write CFGs for a subset of the language of arithmetic expressions. You can assume that numbers are integers between zero and twenty and that the allowed operations are addition, subtraction, multiplication, and division. First, construct a CFG that generates the following expressions and similar ones. (For now, don't worry about issues of ambiguity.)\n",
    "\n",
    "1. twenty plus two\n",
    "1. fifteen minus five\n",
    "1. four divided by two plus one\n",
    "1. two plus nine times five minus three\n",
    "1. sixteen plus two minus ten times one\n",
    "\n",
    "<!--\n",
    "BEGIN QUESTION\n",
    "name: arithmetic_grammar\n",
    "-->"
   ]
  },
  {
   "cell_type": "code",
   "execution_count": 8,
   "id": "f29325f3",
   "metadata": {
    "id": "f29325f3"
   },
   "outputs": [],
   "source": [
    "#TODO - construct a CFG for simple arithmetic expressions in English\n",
    "all_numbers = \"'zero' | 'one' | 'two' | 'three' | 'four' | 'five' \" \\\n",
    "            + \"| 'six' | 'seven' | 'eight' | 'nine' | 'ten' | 'eleven' \" \\\n",
    "            + \"| 'twelve' | 'thirteen' | 'fourteen' | 'fifteen' \" \\\n",
    "            + \"| 'sixteen' | 'seventeen' | 'eighteen' | 'nineteen' | 'twenty'\"\n",
    "signs = \"'plus'| 'minus' | 'divided' 'by'| 'times'\"\n",
    "arithmetic_grammar = nltk.CFG.fromstring(f\"\"\"\n",
    "    S -> NMB SGN NMB\n",
    "    NMB -> NMB SGN NMB\n",
    "    NMB -> {all_numbers}\n",
    "    SGN -> {signs}\n",
    "\"\"\")\n"
   ]
  },
  {
   "cell_type": "code",
   "execution_count": 9,
   "id": "3ce285b1",
   "metadata": {
    "colab": {
     "base_uri": "https://localhost:8080/",
     "height": 46
    },
    "deletable": false,
    "editable": false,
    "id": "3ce285b1",
    "outputId": "d621a770-251a-4eda-a513-2b8bb7f8d8e5"
   },
   "outputs": [
    {
     "data": {
      "text/html": [
       "\n",
       "    \n",
       "    \n",
       "        <p>All tests passed!</p>\n",
       "    \n",
       "    "
      ],
      "text/plain": [
       "\n",
       "    All tests passed!\n",
       "    "
      ]
     },
     "execution_count": 9,
     "metadata": {},
     "output_type": "execute_result"
    }
   ],
   "source": [
    "grader.check(\"arithmetic_grammar\")"
   ]
  },
  {
   "cell_type": "markdown",
   "id": "254fde02",
   "metadata": {
    "id": "254fde02"
   },
   "source": [
    "# Trees and grammars\n",
    "\n",
    "Create a parse tree each for sentences 2 and 3 according to your grammar. Draw the parse trees on a piece of paper or any drawing application. You'll use these drawings in this notebook shortly.\n",
    "\n",
    "Go ahead; we'll wait...."
   ]
  },
  {
   "cell_type": "markdown",
   "id": "a0194ddc",
   "metadata": {
    "id": "a0194ddc"
   },
   "source": [
    "You're back. Good.\n",
    "\n",
    "Drawing parse trees is a helpful visualization, but we need a machine-readable format for trees. One such format is a bracket notation.  For example, a parse tree for \"dogs bark\" can be made as follows, using the [`nltk.Tree.fromstring`](http://www.nltk.org/api/nltk.html#nltk.tree.Tree.fromstring) function (notice that you don't need quotation marks for terminals here):"
   ]
  },
  {
   "cell_type": "code",
   "execution_count": 10,
   "id": "80641415",
   "metadata": {
    "id": "80641415"
   },
   "outputs": [],
   "source": [
    "tree = nltk.Tree.fromstring(\"(S (NP dogs) (VP (V bark)))\")"
   ]
  },
  {
   "cell_type": "markdown",
   "id": "37f81f54",
   "metadata": {
    "id": "37f81f54"
   },
   "source": [
    "We can visualize the tree using the `pretty_print` method:"
   ]
  },
  {
   "cell_type": "code",
   "execution_count": 11,
   "id": "8a0678ae",
   "metadata": {
    "colab": {
     "base_uri": "https://localhost:8080/"
    },
    "id": "8a0678ae",
    "outputId": "4a74678a-5399-4c44-d23e-a983b74b517a"
   },
   "outputs": [
    {
     "name": "stdout",
     "output_type": "stream",
     "text": [
      "      S      \n",
      "  ____|___    \n",
      " |        VP \n",
      " |        |   \n",
      " NP       V  \n",
      " |        |   \n",
      "dogs     bark\n",
      "\n"
     ]
    }
   ],
   "source": [
    "tree.pretty_print()"
   ]
  },
  {
   "cell_type": "markdown",
   "id": "b9547c49",
   "metadata": {
    "id": "b9547c49"
   },
   "source": [
    "You can get the rules that generated a tree using the `productions` method, which returns a list of productions according to a [preorder tree traversal](https://en.wikipedia.org/wiki/Tree_traversal#Pre-order,_NLR):"
   ]
  },
  {
   "cell_type": "code",
   "execution_count": 12,
   "id": "4a3e185a",
   "metadata": {
    "colab": {
     "base_uri": "https://localhost:8080/"
    },
    "id": "4a3e185a",
    "outputId": "ffbc8779-99ed-4429-c4f8-5c8eff356ce5"
   },
   "outputs": [
    {
     "data": {
      "text/plain": [
       "[S -> NP VP, NP -> 'dogs', VP -> V, V -> 'bark']"
      ]
     },
     "execution_count": 12,
     "metadata": {},
     "output_type": "execute_result"
    }
   ],
   "source": [
    "tree.productions()"
   ]
  },
  {
   "cell_type": "markdown",
   "id": "63eabe2d",
   "metadata": {
    "deletable": false,
    "editable": false,
    "id": "63eabe2d"
   },
   "source": [
    "Convert the parse trees you drew for sentences 2 and 3 into NLTK format by converting them from a string using bracket notation, as done above for `tree`.\n",
    "\n",
    "<!--\n",
    "BEGIN QUESTION\n",
    "name: parse_trees\n",
    "-->"
   ]
  },
  {
   "cell_type": "code",
   "execution_count": 13,
   "id": "72565cb4",
   "metadata": {
    "id": "72565cb4"
   },
   "outputs": [],
   "source": [
    "#TODO -- Construct trees for sentences 2 and 3 by converting from the bracket notation.\n",
    "# \"fifteen minus five\"\n",
    "tree2 = nltk.Tree.fromstring(\"(S (NMB fifteen) (SGN minus) (NMB five) )\")\n",
    "# \"four divided by two plus one\"\n",
    "tree3 = nltk.Tree.fromstring(\"(S (NMB four) (SGN divided by) (NMB (NMB two) (SGN plus) (NMB one)) )\")\n"
   ]
  },
  {
   "cell_type": "code",
   "execution_count": 14,
   "id": "fee0f672",
   "metadata": {
    "colab": {
     "base_uri": "https://localhost:8080/",
     "height": 46
    },
    "deletable": false,
    "editable": false,
    "id": "fee0f672",
    "outputId": "724c5bdd-5a95-498f-e434-4c9b446cc27a"
   },
   "outputs": [
    {
     "data": {
      "text/html": [
       "\n",
       "    \n",
       "    \n",
       "        <p>All tests passed!</p>\n",
       "    \n",
       "    "
      ],
      "text/plain": [
       "\n",
       "    All tests passed!\n",
       "    "
      ]
     },
     "execution_count": 14,
     "metadata": {},
     "output_type": "execute_result"
    }
   ],
   "source": [
    "grader.check(\"parse_trees\")"
   ]
  },
  {
   "cell_type": "markdown",
   "id": "196ff2d9",
   "metadata": {
    "id": "196ff2d9"
   },
   "source": [
    "It's useful to draw the trees to make it easier to visually inspect them."
   ]
  },
  {
   "cell_type": "code",
   "execution_count": 15,
   "id": "ea4803c0",
   "metadata": {
    "colab": {
     "base_uri": "https://localhost:8080/"
    },
    "id": "ea4803c0",
    "outputId": "5730936d-9e63-4568-a4d9-e252be04affe"
   },
   "outputs": [
    {
     "name": "stdout",
     "output_type": "stream",
     "text": [
      "          S       \n",
      "    ______|____    \n",
      "  NMB    SGN  NMB \n",
      "   |      |    |   \n",
      "fifteen minus five\n",
      "\n",
      "                  S              \n",
      "  ________________|_______        \n",
      " |            |          NMB     \n",
      " |            |        ___|____   \n",
      "NMB          SGN     NMB SGN  NMB\n",
      " |       _____|___    |   |    |  \n",
      "four divided      by two plus one\n",
      "\n"
     ]
    }
   ],
   "source": [
    "tree2.pretty_print()\n",
    "tree3.pretty_print()"
   ]
  },
  {
   "cell_type": "markdown",
   "id": "0ec6e175",
   "metadata": {
    "id": "0ec6e175"
   },
   "source": [
    "The following function validates that a tree only contains productions that are valid according to given grammar."
   ]
  },
  {
   "cell_type": "code",
   "execution_count": 16,
   "id": "83e2a326",
   "metadata": {
    "id": "83e2a326"
   },
   "outputs": [],
   "source": [
    "def validate(tree, grammar):\n",
    "    return functools.reduce(lambda accum, production:\n",
    "                               accum and production in grammar.productions(),\n",
    "                            tree.productions())\n"
   ]
  },
  {
   "cell_type": "markdown",
   "id": "0cb3eab7",
   "metadata": {
    "id": "0cb3eab7"
   },
   "source": [
    "Using the `validate` function, we can validate that the trees your wrote are valid with respect to your grammar."
   ]
  },
  {
   "cell_type": "code",
   "execution_count": 17,
   "id": "8a6dce3f",
   "metadata": {
    "colab": {
     "base_uri": "https://localhost:8080/"
    },
    "id": "8a6dce3f",
    "outputId": "da37bd37-a748-494e-df42-388edbf07036"
   },
   "outputs": [
    {
     "name": "stdout",
     "output_type": "stream",
     "text": [
      "True\n",
      "True\n"
     ]
    }
   ],
   "source": [
    "print(validate(tree2, arithmetic_grammar))\n",
    "print(validate(tree3, arithmetic_grammar))"
   ]
  },
  {
   "cell_type": "markdown",
   "id": "e23ded33",
   "metadata": {
    "deletable": false,
    "editable": false,
    "id": "e23ded33"
   },
   "source": [
    "# Expanding the grammar\n",
    "The arithmetic expressions we considered so far were rather limited. In practice, there are many ways to express such expressions. Expand your grammar to generate also the following expressions, which use other ways of indicating the arithmetic operations, in addition to the previous ones:\n",
    "\n",
    "6. the sum of twenty and two\n",
    "1. the difference between fifteen and five\n",
    "1. the quotient of three and five\n",
    "1. the sum of the product of four and two and one\n",
    "\n",
    "<!--\n",
    "BEGIN QUESTION\n",
    "name: expanded_arithmetic_grammar\n",
    "-->"
   ]
  },
  {
   "cell_type": "code",
   "execution_count": 18,
   "id": "90630cd5",
   "metadata": {
    "id": "90630cd5"
   },
   "outputs": [],
   "source": [
    "#TODO\n",
    "all_numbers = \"'zero' | 'one' | 'two' | 'three' | 'four' | 'five' \" \\\n",
    "            + \"| 'six' | 'seven' | 'eight' | 'nine' | 'ten' | 'eleven' \" \\\n",
    "            + \"| 'twelve' | 'thirteen' | 'fourteen' | 'fifteen' \" \\\n",
    "            + \"| 'sixteen' | 'seventeen' | 'eighteen' | 'nineteen' | 'twenty'\"\n",
    "signs = \"'plus'| 'minus' | 'divided' 'by'| 'times'\"\n",
    "operations = \"'sum' 'of'| 'difference' 'between' | 'quotient' 'of' | 'product' 'of'\"\n",
    "preposition = \"'the'\"\n",
    "connectors = \"'and'\"\n",
    "\n",
    "expanded_arithmetic_grammar =  nltk.CFG.fromstring(f\"\"\"\n",
    "    S -> NMB SGN NMB\n",
    "    S -> PP OP NMB C NMB\n",
    "    OP -> OP PP OP\n",
    "    NMB -> NMB C NMB\n",
    "    NMB -> NMB SGN NMB\n",
    "    NMB -> {all_numbers}\n",
    "    SGN -> {signs}\n",
    "    OP -> {operations}\n",
    "    C -> {connectors}\n",
    "    PP -> {preposition}\n",
    "\"\"\")"
   ]
  },
  {
   "cell_type": "code",
   "execution_count": 19,
   "id": "886001a4",
   "metadata": {
    "colab": {
     "base_uri": "https://localhost:8080/",
     "height": 46
    },
    "deletable": false,
    "editable": false,
    "id": "886001a4",
    "outputId": "7b93464d-2d1d-4af9-9193-cc44201b5b3b"
   },
   "outputs": [
    {
     "data": {
      "text/html": [
       "\n",
       "    \n",
       "    \n",
       "        <p>All tests passed!</p>\n",
       "    \n",
       "    "
      ],
      "text/plain": [
       "\n",
       "    All tests passed!\n",
       "    "
      ]
     },
     "execution_count": 19,
     "metadata": {},
     "output_type": "execute_result"
    }
   ],
   "source": [
    "grader.check(\"expanded_arithmetic_grammar\")"
   ]
  },
  {
   "cell_type": "markdown",
   "id": "c8c97013",
   "metadata": {
    "deletable": false,
    "editable": false,
    "id": "c8c97013"
   },
   "source": [
    "Create parse trees for sentences 6 and 9 according to your grammar. Again, you might find it useful to first draw the trees by hand and then write them in bracket notation using the `nltk.Tree.fromstring` function.\n",
    "\n",
    "<!--\n",
    "BEGIN QUESTION\n",
    "name: expanded_arithmetic_trees\n",
    "-->"
   ]
  },
  {
   "cell_type": "code",
   "execution_count": 20,
   "id": "dae29699",
   "metadata": {
    "id": "dae29699"
   },
   "outputs": [],
   "source": [
    "#TODO\n",
    "# \"the sum of twenty and two\"\n",
    "tree6 = nltk.Tree.fromstring(\"(S (PP the) (OP sum of) (NMB twenty) (C and) (NMB two))\")\n",
    "# \"the sum of the product of four and two and one\"\n",
    "tree9 = nltk.Tree.fromstring(\"(S (PP the) (OP (OP sum of) (PP the) (OP product of)) (NMB (NMB four) (C and) (NMB two)) (C and) (NMB one))\")"
   ]
  },
  {
   "cell_type": "code",
   "execution_count": 21,
   "id": "8f921df5",
   "metadata": {
    "colab": {
     "base_uri": "https://localhost:8080/",
     "height": 46
    },
    "deletable": false,
    "editable": false,
    "id": "8f921df5",
    "outputId": "8f8d56a0-0ff3-44d4-e552-ba81c5d3e870"
   },
   "outputs": [
    {
     "data": {
      "text/html": [
       "\n",
       "    \n",
       "    \n",
       "        <p>All tests passed!</p>\n",
       "    \n",
       "    "
      ],
      "text/plain": [
       "\n",
       "    All tests passed!\n",
       "    "
      ]
     },
     "execution_count": 21,
     "metadata": {},
     "output_type": "execute_result"
    }
   ],
   "source": [
    "grader.check(\"expanded_arithmetic_trees\")"
   ]
  },
  {
   "cell_type": "code",
   "execution_count": 22,
   "id": "460d5429",
   "metadata": {
    "colab": {
     "base_uri": "https://localhost:8080/"
    },
    "id": "460d5429",
    "outputId": "148ee99c-0e80-4370-927d-1e1ceb0be974"
   },
   "outputs": [
    {
     "name": "stdout",
     "output_type": "stream",
     "text": [
      "             S                \n",
      "  ___________|______________   \n",
      " PP      OP      NMB    C  NMB\n",
      " |    ___|___     |     |   |  \n",
      "the sum      of twenty and two\n",
      "\n",
      "                                 S                      \n",
      "  _______________________________|____________________   \n",
      " |               OP                      NMB      |   | \n",
      " |        _______|___________         ____|___    |   |  \n",
      " PP      OP      PP          OP     NMB   C  NMB  C  NMB\n",
      " |    ___|___    |      _____|___    |    |   |   |   |  \n",
      "the sum      of the product      of four and two and one\n",
      "\n"
     ]
    }
   ],
   "source": [
    "tree6.pretty_print()\n",
    "tree9.pretty_print()"
   ]
  },
  {
   "cell_type": "markdown",
   "id": "bffc5581",
   "metadata": {
    "deletable": false,
    "editable": false,
    "id": "bffc5581"
   },
   "source": [
    "# Testing the grammar\n",
    "\n",
    "Now that you have a CFG for arithmetic expressions, it is time to test its capabilities. Can your grammar generate the following new expressions? If not, edit the grammar to make sure it can handle such expressions.\n",
    "\n",
    "10. three added to eight\n",
    "1. the sum of two and nine times the difference between five and three\n",
    "1. ten\n",
    "\n",
    "<!--\n",
    "BEGIN QUESTION\n",
    "name: further_testing\n",
    "-->"
   ]
  },
  {
   "cell_type": "code",
   "execution_count": 23,
   "id": "4e0f8e09",
   "metadata": {
    "id": "4e0f8e09"
   },
   "outputs": [],
   "source": [
    "#TODO\n",
    "all_numbers = \"'zero' | 'one' | 'two' | 'three' | 'four' | 'five' \" \\\n",
    "            + \"| 'six' | 'seven' | 'eight' | 'nine' | 'ten' | 'eleven' \" \\\n",
    "            + \"| 'twelve' | 'thirteen' | 'fourteen' | 'fifteen' \" \\\n",
    "            + \"| 'sixteen' | 'seventeen' | 'eighteen' | 'nineteen' | 'twenty'\"\n",
    "signs = \"'plus'| 'minus' | 'divided' 'by'| 'times'\"\n",
    "operations = \"'sum' 'of'| 'difference' 'between' | 'quotient' 'of' | 'product' 'of'\"\n",
    "preposition = \"'the'\"\n",
    "connectors = \"'and'\"\n",
    "\n",
    "expanded_arithmetic_grammar =  nltk.CFG.fromstring(f\"\"\"\n",
    "    S -> NMB SGN NMB\n",
    "    S -> NMB\n",
    "    OP -> OP PP OP\n",
    "    NMB -> NMB C NMB\n",
    "    NMB -> NMB SGN NMB\n",
    "    NMB -> PP OP NMB C NMB\n",
    "    NMB -> {all_numbers}\n",
    "    SGN -> {signs}\n",
    "    OP -> {operations}\n",
    "    C -> {connectors}\n",
    "    PP -> {preposition}\n",
    "\"\"\")"
   ]
  },
  {
   "cell_type": "code",
   "execution_count": 24,
   "id": "90e6d7bd",
   "metadata": {
    "colab": {
     "base_uri": "https://localhost:8080/",
     "height": 46
    },
    "deletable": false,
    "editable": false,
    "id": "90e6d7bd",
    "outputId": "37249e1e-c1df-4f2d-ee71-52d72d68e5aa"
   },
   "outputs": [
    {
     "data": {
      "text/html": [
       "\n",
       "    \n",
       "    \n",
       "        <p>All tests passed!</p>\n",
       "    \n",
       "    "
      ],
      "text/plain": [
       "\n",
       "    All tests passed!\n",
       "    "
      ]
     },
     "execution_count": 24,
     "metadata": {},
     "output_type": "execute_result"
    }
   ],
   "source": [
    "grader.check(\"further_testing\")"
   ]
  },
  {
   "cell_type": "markdown",
   "id": "4d17cff6",
   "metadata": {
    "id": "4d17cff6"
   },
   "source": [
    "# Preview to parsing\n",
    "\n",
    "Verifying by hand that a sentence can be generated by a grammar is cumbersome and impractical. We would like an automatic procedure for doing that at scale, that is, a *parser*. The `nltk` system can construct a parser given a grammar. In later labs, you'll write your own parsers.\n",
    "\n",
    "> Strictly speaking, an algoithm that determines *whether* a sentence can be generated by a grammar (that is, returns a simple `true` or `false`) is properly referred to as a *recognizer*. A *parser* goes further, in returning one or more parse trees for grammatical sentences."
   ]
  },
  {
   "cell_type": "code",
   "execution_count": 25,
   "id": "9582d75e",
   "metadata": {
    "id": "9582d75e"
   },
   "outputs": [],
   "source": [
    "parser = nltk.parse.BottomUpChartParser(expanded_arithmetic_grammar)"
   ]
  },
  {
   "cell_type": "markdown",
   "id": "364451a4",
   "metadata": {
    "id": "364451a4"
   },
   "source": [
    "Using this parser we can get parses for a given sentence."
   ]
  },
  {
   "cell_type": "code",
   "execution_count": 26,
   "id": "80289cc5",
   "metadata": {
    "colab": {
     "base_uri": "https://localhost:8080/"
    },
    "id": "80289cc5",
    "outputId": "816cf7a4-a8f1-4919-973a-9076da1ae988"
   },
   "outputs": [
    {
     "name": "stdout",
     "output_type": "stream",
     "text": [
      "                               S                                            \n",
      "              _________________|_________________________                    \n",
      "            NMB                |                        NMB                 \n",
      "  ___________|___________      |     ____________________|_______________    \n",
      " PP      OP     NMB  C  NMB   SGN   PP             OP         NMB   C   NMB \n",
      " |    ___|___    |   |   |     |    |       _______|_____      |    |    |   \n",
      "the sum      of two and nine times the difference     between five and three\n",
      "\n",
      "                               S                                            \n",
      "                               |                                             \n",
      "                              NMB                                           \n",
      "              _________________|_________________________                    \n",
      "            NMB                |                        NMB                 \n",
      "  ___________|___________      |     ____________________|_______________    \n",
      " PP      OP     NMB  C  NMB   SGN   PP             OP         NMB   C   NMB \n",
      " |    ___|___    |   |   |     |    |       _______|_____      |    |    |   \n",
      "the sum      of two and nine times the difference     between five and three\n",
      "\n",
      "                               S                                            \n",
      "                               |                                             \n",
      "                              NMB                                           \n",
      "  _____________________________|___________                                  \n",
      " |       |       |   |                    NMB                               \n",
      " |       |       |   |    _________________|_____________                    \n",
      " |       |       |   |   |     |                        NMB                 \n",
      " |       |       |   |   |     |     ____________________|_______________    \n",
      " PP      OP     NMB  C  NMB   SGN   PP             OP         NMB   C   NMB \n",
      " |    ___|___    |   |   |     |    |       _______|_____      |    |    |   \n",
      "the sum      of two and nine times the difference     between five and three\n",
      "\n"
     ]
    }
   ],
   "source": [
    "test_sentence = \"the sum of two and nine times the difference between five and three\".split()\n",
    "for tree in parser.parse(test_sentence):\n",
    "    tree.pretty_print()"
   ]
  },
  {
   "cell_type": "markdown",
   "id": "8943d17d",
   "metadata": {
    "id": "8943d17d"
   },
   "source": [
    "You may have noticed that some of the arithmetic expressions were *ambiguous*; they had multiple distinct valid parses. In the next few labs, we will deal with the important matter of ambiguity."
   ]
  },
  {
   "cell_type": "markdown",
   "id": "41487d19",
   "metadata": {
    "id": "41487d19"
   },
   "source": [
    "## Parser evaluation\n",
    "To evaluate the quality of a syntactic parser, we need an evaluation metric to compare a predicted _hypothesis_ parse with a gold _reference_ parse. Common evaluation metrics include:\n",
    "\n",
    "1. Exact match – 1 if the predicted and reference parses are identical; 0 otherwise\n",
    "2. Precision ($P$) – the proportion of constituents in the hypothesis that are correct (that is, match the gold parse)\n",
    "$$P = \\frac{\\cnt{\\text{correct constituents in a hypothesis parse}}}{\\cnt{\\text{constituents in a hypothesis parse}}}$$\n",
    "1. Recall ($R$) – the proportion of constituents in the gold parse that are predicted (that is, match the hypothesis parse)\n",
    "$$R = \\frac{\\cnt{\\text{correct constituents in a hypothesis parse}}}{\\cnt{\\text{constituents in a reference parse}}}$$\n",
    "1. $F_1$ score – the [harmonic mean](https://en.wikipedia.org/wiki/Harmonic_mean) of precision and recall\n",
    "$$F_1 = \\frac{2}{1/P+1/R} = \\frac{2PR}{P+R}$$\n",
    "\n",
    "We consider a constituent in one tree to match a constituent in another if they share the same nonterminal and cover the same span of terminal symbols. We don't count the terminals by themselves as constituents, so, for instance, the `ref_tree` we define below has five constituents, not eight.\n",
    "\n",
    "Consider the following trees, a reference tree `ref_tree` (the \"gold\" or \"ground truth\")  and hypothesis tree `hyp_tree` (usually, the \"predicted\" tree that we wish to measure)."
   ]
  },
  {
   "cell_type": "code",
   "execution_count": 27,
   "id": "57d85c1f",
   "metadata": {
    "colab": {
     "base_uri": "https://localhost:8080/"
    },
    "id": "57d85c1f",
    "outputId": "16a0e318-0111-4385-cf38-c08c8bf06a5e"
   },
   "outputs": [
    {
     "name": "stdout",
     "output_type": "stream",
     "text": [
      "       S           \n",
      "  _____|____        \n",
      " |          VP     \n",
      " |      ____|___    \n",
      " NP    V        NP \n",
      " |     |        |   \n",
      "dogs chase     cats\n",
      "\n"
     ]
    }
   ],
   "source": [
    "ref_tree = nltk.Tree.fromstring(\"(S (NP dogs) (VP (V chase) (NP cats)))\")\n",
    "ref_tree.pretty_print()"
   ]
  },
  {
   "cell_type": "code",
   "execution_count": 28,
   "id": "ddf96014",
   "metadata": {
    "colab": {
     "base_uri": "https://localhost:8080/"
    },
    "id": "ddf96014",
    "outputId": "fc61c18f-1962-40d3-a126-5ea45b2009dc"
   },
   "outputs": [
    {
     "name": "stdout",
     "output_type": "stream",
     "text": [
      "       S           \n",
      "  _____|____        \n",
      " S          VP     \n",
      " |      ____|___    \n",
      " NP    V        NP \n",
      " |     |        |   \n",
      "dogs chase     cats\n",
      "\n"
     ]
    }
   ],
   "source": [
    "hyp_tree = nltk.Tree.fromstring(\"(S (S  (NP dogs) ) (VP (V chase) (NP cats)))\")\n",
    "hyp_tree.pretty_print()"
   ]
  },
  {
   "cell_type": "markdown",
   "id": "e8fa19f9",
   "metadata": {
    "deletable": false,
    "editable": false,
    "id": "e8fa19f9"
   },
   "source": [
    "Calculate the precision, recall, and $F1$ of the hypothesis tree `hyp_tree` relative to the reference tree `ref_tree`.\n",
    "\n",
    "<!--\n",
    "BEGIN QUESTION\n",
    "name: metrics\n",
    "-->"
   ]
  },
  {
   "cell_type": "code",
   "execution_count": 29,
   "id": "280f4c6b",
   "metadata": {
    "id": "280f4c6b"
   },
   "outputs": [],
   "source": [
    "#TODO\n",
    "precision = 5/6\n",
    "recall = 1\n",
    "f1 = (2*precision*recall)/(precision+recall)"
   ]
  },
  {
   "cell_type": "code",
   "execution_count": 30,
   "id": "a0828b1c",
   "metadata": {
    "colab": {
     "base_uri": "https://localhost:8080/",
     "height": 46
    },
    "deletable": false,
    "editable": false,
    "id": "a0828b1c",
    "outputId": "2b3d4acc-6a82-4b20-accc-1c2b67643f9c"
   },
   "outputs": [
    {
     "data": {
      "text/html": [
       "\n",
       "    \n",
       "    \n",
       "        <p>All tests passed!</p>\n",
       "    \n",
       "    "
      ],
      "text/plain": [
       "\n",
       "    All tests passed!\n",
       "    "
      ]
     },
     "execution_count": 30,
     "metadata": {},
     "output_type": "execute_result"
    }
   ],
   "source": [
    "grader.check(\"metrics\")"
   ]
  },
  {
   "cell_type": "markdown",
   "id": "eeeb41cc",
   "metadata": {
    "deletable": false,
    "editable": false,
    "id": "eeeb41cc"
   },
   "source": [
    "## The precision-recall tradeoff\n",
    "\n",
    "Often there is a tradeoff between precision and recall. In the above example, the recall is good, but at the expense of precision. There can also be trees with high precision and low recall.\n",
    "\n",
    "Find the smallest tree (that is, with the fewest nodes) that has a precision of $1$ with regards to the above `ref_tree`. (The tree should have the nonterminal `S` at its root but does **not need be valid** according to the grammar)\n",
    "\n",
    "What is its recall?\n",
    "\n",
    "<!--\n",
    "BEGIN QUESTION\n",
    "name: tradeoff\n",
    "-->"
   ]
  },
  {
   "cell_type": "code",
   "execution_count": 31,
   "id": "524b4121",
   "metadata": {
    "colab": {
     "base_uri": "https://localhost:8080/"
    },
    "id": "524b4121",
    "outputId": "d909886a-7eb0-42a5-8730-354efd8bb3ab"
   },
   "outputs": [
    {
     "name": "stdout",
     "output_type": "stream",
     "text": [
      " S  \n",
      " |   \n",
      " NP \n",
      " |   \n",
      "dogs\n",
      "\n"
     ]
    }
   ],
   "source": [
    "#TODO -- Fill in the minimal precision-1 tree and its recall\n",
    "minimal_high_precision_tree = nltk.Tree.fromstring(\"(S (NP dogs))\")\n",
    "recall_of_minimal_high_precision_tree = 1/5\n",
    "minimal_high_precision_tree.pretty_print()"
   ]
  },
  {
   "cell_type": "code",
   "execution_count": 32,
   "id": "ce34aabf",
   "metadata": {
    "colab": {
     "base_uri": "https://localhost:8080/",
     "height": 46
    },
    "deletable": false,
    "editable": false,
    "id": "ce34aabf",
    "outputId": "bf6fd274-b95f-4fb2-9463-04ee059d7950"
   },
   "outputs": [
    {
     "data": {
      "text/html": [
       "\n",
       "    \n",
       "    \n",
       "        <p>All tests passed!</p>\n",
       "    \n",
       "    "
      ],
      "text/plain": [
       "\n",
       "    All tests passed!\n",
       "    "
      ]
     },
     "execution_count": 32,
     "metadata": {},
     "output_type": "execute_result"
    }
   ],
   "source": [
    "grader.check(\"tradeoff\")"
   ]
  },
  {
   "cell_type": "markdown",
   "id": "2aeb3255",
   "metadata": {
    "id": "2aeb3255"
   },
   "source": [
    "#  Normal forms\n",
    "\n",
    "As you have seen above, there are many ways to write a grammar for a given language. It is often convenient, however, to work with a standard format. A *normal form* for context-free languages is a restricted production format for context-free grammars that still allows expressing arbitrary context-free languages.\n",
    "\n",
    "As an example -- which will come in handy later -- we examine *Chomsky normal form*.\n",
    "A grammar in Chomsky Normal Form (CNF) has rules of only two kinds:\n",
    "\n",
    "1. $A \\rightarrow B \\, C$ – a rule mapping a nonterminal symbol to exactly two nonterminal symbols\n",
    "2. $A \\rightarrow a$ – a rule mapping a nonterminal symbol to exactly one terminal symbol\n",
    "\n",
    "> Actually, this version of CNF can't express languages that contain the empty string. To allow expression of any context-free language, we can allow a third type of rule $S \\rightarrow \\epsilon$, where $S$ is the start symbol of the grammar and $\\epsilon$ represents the empty string. But for our purposes, we'll stick to the simpler version here.\n",
    "\n",
    "A CFG parse tree can be transformed to one generable by a CNF grammar in a variety of ways, typically by introducing special new nonterminals. Here, we use `nltk` to perform the transformation. The result is a binary tree. The binary branching property will turn out to be useful when we turn to implementing parsers."
   ]
  },
  {
   "cell_type": "code",
   "execution_count": 33,
   "id": "14af0efa",
   "metadata": {
    "colab": {
     "base_uri": "https://localhost:8080/"
    },
    "id": "14af0efa",
    "outputId": "f609eb34-8abd-4f54-c211-7ada2a021b53"
   },
   "outputs": [
    {
     "name": "stdout",
     "output_type": "stream",
     "text": [
      "      S       \n",
      "  ____|____    \n",
      " NP  CONJ  NP \n",
      " |    |    |   \n",
      "dogs and  cats\n",
      "\n",
      "      S                   \n",
      "  ____|________            \n",
      " |        S|<CONJ-NP>     \n",
      " |     ________|_______    \n",
      " NP  CONJ              NP \n",
      " |    |                |   \n",
      "dogs and              cats\n",
      "\n"
     ]
    }
   ],
   "source": [
    "tree = nltk.Tree.fromstring(\"(S (NP dogs) (CONJ and) (NP cats) )\")\n",
    "tree.pretty_print()\n",
    "tree.chomsky_normal_form()\n",
    "tree.pretty_print()"
   ]
  },
  {
   "cell_type": "markdown",
   "id": "bab7563d",
   "metadata": {
    "deletable": false,
    "editable": false,
    "id": "bab7563d"
   },
   "source": [
    "Some parsing algorithms require the grammar to be in CNF. Manually convert the arithmetic grammar you wrote in the first part of this lab (`arithmetic_grammar`) to CNF. You may need to introduce \"dummy\" nonterminals to allow that. Your CNF grammar should recognize exactly the same strings as the original CFG, though the parse trees will be different.\n",
    "\n",
    "<!--\n",
    "BEGIN QUESTION\n",
    "name: cnf_conversion\n",
    "-->"
   ]
  },
  {
   "cell_type": "code",
   "execution_count": 34,
   "id": "42fbe1ab",
   "metadata": {
    "id": "42fbe1ab"
   },
   "outputs": [],
   "source": [
    "#TODO - convert the arithmetic grammar you wrote in the *first part* of\n",
    "#       this lab (arithmetic_grammar) to CNF.\n",
    "all_numbers = \"'zero' | 'one' | 'two' | 'three' | 'four' | 'five' \" \\\n",
    "            + \"| 'six' | 'seven' | 'eight' | 'nine' | 'ten' | 'eleven' \" \\\n",
    "            + \"| 'twelve' | 'thirteen' | 'fourteen' | 'fifteen' \" \\\n",
    "            + \"| 'sixteen' | 'seventeen' | 'eighteen' | 'nineteen' | 'twenty'\"\n",
    "signs = \"'plus'| 'minus'| 'times'\"\n",
    "cnf_arithmetic_grammar = nltk.CFG.fromstring(f\"\"\"\n",
    "    S -> NMB_SGN NMB\n",
    "    S -> NMB SGN_NMB\n",
    "    NMB -> NMB_SGN NMB\n",
    "    NMB -> NMB SGN_NMB\n",
    "    NMBSGN -> NMB SGN\n",
    "    SGNNMB -> SGN NMB\n",
    "    NMB -> {all_numbers}\n",
    "    SGN -> {signs}\n",
    "    SGN -> DVD BY\n",
    "    DVD -> \"divided\"\n",
    "    BY -> \"by\"\n",
    "\"\"\")"
   ]
  },
  {
   "cell_type": "code",
   "execution_count": 35,
   "id": "f18b6ae4",
   "metadata": {
    "colab": {
     "base_uri": "https://localhost:8080/",
     "height": 46
    },
    "deletable": false,
    "editable": false,
    "id": "f18b6ae4",
    "outputId": "f0595c8e-f172-46e7-c873-58276f20c1d9"
   },
   "outputs": [
    {
     "data": {
      "text/html": [
       "\n",
       "    \n",
       "    \n",
       "        <p>All tests passed!</p>\n",
       "    \n",
       "    "
      ],
      "text/plain": [
       "\n",
       "    All tests passed!\n",
       "    "
      ]
     },
     "execution_count": 35,
     "metadata": {},
     "output_type": "execute_result"
    }
   ],
   "source": [
    "grader.check(\"cnf_conversion\")"
   ]
  },
  {
   "cell_type": "markdown",
   "id": "fae2ac8c",
   "metadata": {
    "id": "fae2ac8c"
   },
   "source": [
    "The NLTK grammar method `is_chomsky_normal_form` allows us to verify that the grammar is indeed in CNF:"
   ]
  },
  {
   "cell_type": "code",
   "execution_count": 36,
   "id": "ed3d774a",
   "metadata": {
    "colab": {
     "base_uri": "https://localhost:8080/"
    },
    "id": "ed3d774a",
    "outputId": "12a40fa1-833b-45ae-e9d5-6d776a8203d9"
   },
   "outputs": [
    {
     "data": {
      "text/plain": [
       "True"
      ]
     },
     "execution_count": 36,
     "metadata": {},
     "output_type": "execute_result"
    }
   ],
   "source": [
    "cnf_arithmetic_grammar.is_chomsky_normal_form()"
   ]
  },
  {
   "cell_type": "markdown",
   "id": "26d194c4",
   "metadata": {
    "deletable": false,
    "editable": false,
    "id": "26d194c4"
   },
   "source": [
    "<!-- BEGIN QUESTION -->\n",
    "\n",
    "# Lab debrief\n",
    "**Question:** We're interested in any thoughts your group has about this lab so that we can improve this lab for later years, and to inform later labs for this year. Please list any issues that arose or comments you have to improve the lab. Useful things to comment on include the following:\n",
    "\n",
    "* Was the lab too long or too short?\n",
    "* Were the readings appropriate for the lab?\n",
    "* Was it clear (at least after you completed the lab) what the points of the exercises were?\n",
    "* Are there additions or changes you think would make the lab better?\n",
    "\n",
    "<!--\n",
    "BEGIN QUESTION\n",
    "name: open_response_debrief\n",
    "manual: true\n",
    "-->"
   ]
  },
  {
   "cell_type": "markdown",
   "id": "bf7db5b9",
   "metadata": {
    "id": "bf7db5b9"
   },
   "source": [
    "_Type your answer here, replacing this text._"
   ]
  },
  {
   "cell_type": "markdown",
   "id": "e2f0b8c4",
   "metadata": {
    "id": "e2f0b8c4"
   },
   "source": [
    "<!-- END QUESTION -->\n",
    "\n",
    "\n",
    "\n",
    "# End of lab 3-1"
   ]
  },
  {
   "cell_type": "markdown",
   "id": "b336a16a",
   "metadata": {
    "deletable": false,
    "editable": false,
    "id": "b336a16a"
   },
   "source": [
    "---\n",
    "\n",
    "To double-check your work, the cell below will rerun all of the autograder tests."
   ]
  },
  {
   "cell_type": "code",
   "execution_count": null,
   "id": "680f6553",
   "metadata": {
    "colab": {
     "base_uri": "https://localhost:8080/",
     "height": 397
    },
    "deletable": false,
    "editable": false,
    "id": "680f6553",
    "outputId": "addbae4c-1e87-4c68-957d-85d6931e79d5"
   },
   "outputs": [
    {
     "data": {
      "text/html": [
       "<p><strong>arithmetic_grammar:</strong></p>\n",
       "\n",
       "    \n",
       "    \n",
       "        <p>All tests passed!</p>\n",
       "    \n",
       "    \n",
       "\n",
       "<p><strong>cnf_conversion:</strong></p>\n",
       "\n",
       "    \n",
       "    \n",
       "        <p>All tests passed!</p>\n",
       "    \n",
       "    \n",
       "\n",
       "<p><strong>expanded_arithmetic_grammar:</strong></p>\n",
       "\n",
       "    \n",
       "    \n",
       "        <p>All tests passed!</p>\n",
       "    \n",
       "    \n",
       "\n",
       "<p><strong>expanded_arithmetic_trees:</strong></p>\n",
       "\n",
       "    \n",
       "    \n",
       "        <p>All tests passed!</p>\n",
       "    \n",
       "    \n",
       "\n",
       "<p><strong>further_testing:</strong></p>\n",
       "\n",
       "    \n",
       "    \n",
       "        <p>All tests passed!</p>\n",
       "    \n",
       "    \n",
       "\n",
       "<p><strong>metrics:</strong></p>\n",
       "\n",
       "    \n",
       "    \n",
       "        <p>All tests passed!</p>\n",
       "    \n",
       "    \n",
       "\n",
       "<p><strong>parse_trees:</strong></p>\n",
       "\n",
       "    \n",
       "    \n",
       "        <p>All tests passed!</p>\n",
       "    \n",
       "    \n",
       "\n",
       "<p><strong>tradeoff:</strong></p>\n",
       "\n",
       "    \n",
       "    \n",
       "        <p>All tests passed!</p>\n",
       "    \n",
       "    \n",
       "\n"
      ],
      "text/plain": [
       "arithmetic_grammar:\n",
       "\n",
       "    All tests passed!\n",
       "    \n",
       "\n",
       "cnf_conversion:\n",
       "\n",
       "    All tests passed!\n",
       "    \n",
       "\n",
       "expanded_arithmetic_grammar:\n",
       "\n",
       "    All tests passed!\n",
       "    \n",
       "\n",
       "expanded_arithmetic_trees:\n",
       "\n",
       "    All tests passed!\n",
       "    \n",
       "\n",
       "further_testing:\n",
       "\n",
       "    All tests passed!\n",
       "    \n",
       "\n",
       "metrics:\n",
       "\n",
       "    All tests passed!\n",
       "    \n",
       "\n",
       "parse_trees:\n",
       "\n",
       "    All tests passed!\n",
       "    \n",
       "\n",
       "tradeoff:\n",
       "\n",
       "    All tests passed!\n",
       "    \n"
      ]
     },
     "execution_count": 221,
     "metadata": {},
     "output_type": "execute_result"
    }
   ],
   "source": [
    "grader.check_all()"
   ]
  },
  {
   "cell_type": "code",
   "execution_count": null,
   "id": "K3F_enS9Jc7O",
   "metadata": {
    "id": "K3F_enS9Jc7O"
   },
   "outputs": [],
   "source": []
  }
 ],
 "metadata": {
  "colab": {
   "provenance": []
  },
  "kernelspec": {
   "display_name": "nlp",
   "language": "python",
   "name": "nlp"
  },
  "language_info": {
   "codemirror_mode": {
    "name": "ipython",
    "version": 3
   },
   "file_extension": ".py",
   "mimetype": "text/x-python",
   "name": "python",
   "nbconvert_exporter": "python",
   "pygments_lexer": "ipython3",
   "version": "3.9.16"
  },
  "title": "CS236299 Lab 3-1: Context-free grammars introduced",
  "vscode": {
   "interpreter": {
    "hash": "4fba83c08fc02185bb2310bd24d0cd81fb04529c933f82aa81c61aab9d5528dc"
   }
  }
 },
 "nbformat": 4,
 "nbformat_minor": 5
}
